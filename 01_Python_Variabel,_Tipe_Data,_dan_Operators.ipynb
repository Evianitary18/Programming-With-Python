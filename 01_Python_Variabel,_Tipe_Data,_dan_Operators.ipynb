{
  "cells": [
    {
      "cell_type": "markdown",
      "metadata": {
        "id": "view-in-github",
        "colab_type": "text"
      },
      "source": [
        "<a href=\"https://colab.research.google.com/github/Evianitary18/Programming-With-Python/blob/main/01_Python_Variabel%2C_Tipe_Data%2C_dan_Operators.ipynb\" target=\"_parent\"><img src=\"https://colab.research.google.com/assets/colab-badge.svg\" alt=\"Open In Colab\"/></a>"
      ]
    },
    {
      "cell_type": "markdown",
      "metadata": {
        "id": "y4VHPQQX5eyn"
      },
      "source": [
        "### Python Programming : Variabel, Tipe Data, dan Operators\n",
        "\n",
        "learn more about markdown __[here](https://markdown-it.github.io/)__"
      ]
    },
    {
      "cell_type": "code",
      "execution_count": 1,
      "metadata": {
        "colab": {
          "base_uri": "https://localhost:8080/"
        },
        "id": "bsmUBVn_5eyw",
        "outputId": "04dcdc45-1ad9-4d66-84ea-3cf172300f9e"
      },
      "outputs": [
        {
          "output_type": "stream",
          "name": "stdout",
          "text": [
            "Hello World!\n"
          ]
        }
      ],
      "source": [
        "#first code\n",
        "print('Hello World!')"
      ]
    },
    {
      "cell_type": "code",
      "execution_count": null,
      "metadata": {
        "colab": {
          "base_uri": "https://localhost:8080/"
        },
        "id": "Uz_6xfr75ey1",
        "outputId": "1fd1e4b1-51fd-4246-e528-d53fd56a4352"
      },
      "outputs": [
        {
          "output_type": "stream",
          "name": "stdout",
          "text": [
            "Hello\n",
            "\n",
            "World!\n"
          ]
        }
      ],
      "source": [
        "print('Hello')\n",
        "print()\n",
        "print('World!')"
      ]
    },
    {
      "cell_type": "code",
      "execution_count": null,
      "metadata": {
        "colab": {
          "base_uri": "https://localhost:8080/"
        },
        "id": "1pjEObMJ5ey2",
        "outputId": "bcc3a556-f0e3-423c-fc53-c5b623b42a36"
      },
      "outputs": [
        {
          "output_type": "stream",
          "name": "stdout",
          "text": [
            "bebas\n"
          ]
        }
      ],
      "source": [
        "print(\"bebas\")"
      ]
    },
    {
      "cell_type": "code",
      "execution_count": null,
      "metadata": {
        "colab": {
          "base_uri": "https://localhost:8080/"
        },
        "id": "JvWKe9m95ey3",
        "outputId": "7be6f6eb-d9bc-401d-ceed-ec294ca55524"
      },
      "outputs": [
        {
          "output_type": "stream",
          "name": "stdout",
          "text": [
            "I'am a Data Scientist\n"
          ]
        }
      ],
      "source": [
        "print(\"I'am a Data Scientist\")"
      ]
    },
    {
      "cell_type": "code",
      "execution_count": null,
      "metadata": {
        "colab": {
          "base_uri": "https://localhost:8080/"
        },
        "id": "KfDGvoEt5ey3",
        "outputId": "ab07cbd1-2978-4512-898f-07fd7fd73ee6"
      },
      "outputs": [
        {
          "output_type": "stream",
          "name": "stdout",
          "text": [
            "Hello \n",
            "World\n"
          ]
        }
      ],
      "source": [
        "print('Hello \\nWorld')"
      ]
    },
    {
      "cell_type": "code",
      "execution_count": null,
      "metadata": {
        "colab": {
          "base_uri": "https://localhost:8080/"
        },
        "id": "E89YebCL5ey4",
        "outputId": "3d232fae-f61f-4439-9102-3d5b0c76b855"
      },
      "outputs": [
        {
          "output_type": "stream",
          "name": "stdout",
          "text": [
            "Hello My Name is Syamil\n"
          ]
        }
      ],
      "source": [
        "print('Hello', 'My', 'Name', 'is', 'Syamil')"
      ]
    },
    {
      "cell_type": "code",
      "execution_count": null,
      "metadata": {
        "colab": {
          "base_uri": "https://localhost:8080/"
        },
        "id": "m3FCkoAz5ey5",
        "outputId": "7e296cb2-88df-40e0-b7b9-494921026b92"
      },
      "outputs": [
        {
          "output_type": "stream",
          "name": "stdout",
          "text": [
            "Hello-World\n"
          ]
        }
      ],
      "source": [
        "print('Hello', 'World', sep='-')"
      ]
    },
    {
      "cell_type": "code",
      "execution_count": null,
      "metadata": {
        "colab": {
          "base_uri": "https://localhost:8080/"
        },
        "id": "F_SbXjlo5ey6",
        "outputId": "7b12f03c-a949-4f82-af3d-d28a9c2355a0"
      },
      "outputs": [
        {
          "output_type": "stream",
          "name": "stdout",
          "text": [
            "Marhaban ya Ramadhan Ramadhan Mubarak\n"
          ]
        }
      ],
      "source": [
        "print('Marhaban ya Ramadhan', end=' ')\n",
        "print('Ramadhan Mubarak')"
      ]
    },
    {
      "cell_type": "code",
      "execution_count": null,
      "metadata": {
        "colab": {
          "base_uri": "https://localhost:8080/"
        },
        "id": "I56sUqR15ey7",
        "outputId": "69a88fd9-a71e-44b2-9e11-a5b893070710"
      },
      "outputs": [
        {
          "output_type": "stream",
          "name": "stdout",
          "text": [
            "Mobil-Saya-Adalah*Cybertruck\n"
          ]
        }
      ],
      "source": [
        "print('Mobil', 'Saya', 'Adalah', sep='-', end='*')\n",
        "print('Cybertruck')"
      ]
    },
    {
      "cell_type": "markdown",
      "metadata": {
        "id": "M1WWwhsq5ey8"
      },
      "source": [
        "### Variabel"
      ]
    },
    {
      "cell_type": "markdown",
      "metadata": {
        "id": "ws4KohUr5ey8"
      },
      "source": [
        "Variabel merupakan suatu tempat atau notasi untuk menyimpan value agar kita tidak perlu mengetik ulang value secara utuh di line berikutnya jika dibutuhkan"
      ]
    },
    {
      "cell_type": "code",
      "execution_count": null,
      "metadata": {
        "id": "CI5aJoFb5ey9"
      },
      "outputs": [],
      "source": [
        "a = 'Merdeka Belajar'"
      ]
    },
    {
      "cell_type": "code",
      "execution_count": null,
      "metadata": {
        "colab": {
          "base_uri": "https://localhost:8080/"
        },
        "id": "NiYh5zpE5ey9",
        "outputId": "60ad467f-52b6-4f1c-efa4-fae35799c2d1"
      },
      "outputs": [
        {
          "output_type": "stream",
          "name": "stdout",
          "text": [
            "Merdeka Belajar\n"
          ]
        }
      ],
      "source": [
        "print(a)"
      ]
    },
    {
      "cell_type": "markdown",
      "metadata": {
        "id": "5QOwitcR5ey-"
      },
      "source": [
        "**Dont do this!**"
      ]
    },
    {
      "cell_type": "markdown",
      "metadata": {
        "id": "2CS4Jz_25ey-"
      },
      "source": [
        "Spasi"
      ]
    },
    {
      "cell_type": "code",
      "execution_count": null,
      "metadata": {
        "id": "czLtdrJc5ey_"
      },
      "outputs": [],
      "source": [
        "nama kota = 'Bandung'"
      ]
    },
    {
      "cell_type": "code",
      "execution_count": null,
      "metadata": {
        "id": "DZN-Zte_5ey_"
      },
      "outputs": [],
      "source": [
        "#do This\n",
        "nama_kota = 'Bandung'"
      ]
    },
    {
      "cell_type": "code",
      "execution_count": null,
      "metadata": {
        "colab": {
          "base_uri": "https://localhost:8080/"
        },
        "id": "lXqnV6j65ey_",
        "outputId": "28354ee9-f277-436b-af1f-2b929830ee5d"
      },
      "outputs": [
        {
          "output_type": "stream",
          "name": "stdout",
          "text": [
            "Bandung\n"
          ]
        }
      ],
      "source": [
        "print(nama_kota)"
      ]
    },
    {
      "cell_type": "markdown",
      "metadata": {
        "id": "e2uAwXI35ey_"
      },
      "source": [
        "Special Character"
      ]
    },
    {
      "cell_type": "code",
      "execution_count": null,
      "metadata": {
        "colab": {
          "base_uri": "https://localhost:8080/",
          "height": 141
        },
        "id": "rHK6KRnW5ezA",
        "outputId": "41fd80a7-8ed8-426b-ffdf-2c2144eedc1c"
      },
      "outputs": [
        {
          "output_type": "error",
          "ename": "SyntaxError",
          "evalue": "ignored",
          "traceback": [
            "\u001b[0;36m  File \u001b[0;32m\"<ipython-input-14-bcfaddaecd76>\"\u001b[0;36m, line \u001b[0;32m1\u001b[0m\n\u001b[0;31m    &a = 'Sekolah'\u001b[0m\n\u001b[0m    ^\u001b[0m\n\u001b[0;31mSyntaxError\u001b[0m\u001b[0;31m:\u001b[0m invalid syntax\n"
          ]
        }
      ],
      "source": [
        "&a = 'Sekolah'"
      ]
    },
    {
      "cell_type": "code",
      "execution_count": null,
      "metadata": {
        "colab": {
          "base_uri": "https://localhost:8080/",
          "height": 141
        },
        "id": "-iPuXlkE5ezA",
        "outputId": "74ea431f-58df-4c92-cf2c-9270a5b3f8f0"
      },
      "outputs": [
        {
          "output_type": "error",
          "ename": "SyntaxError",
          "evalue": "ignored",
          "traceback": [
            "\u001b[0;36m  File \u001b[0;32m\"<ipython-input-15-e03f7534eb6c>\"\u001b[0;36m, line \u001b[0;32m1\u001b[0m\n\u001b[0;31m    a% = 'Sekolah'\u001b[0m\n\u001b[0m       ^\u001b[0m\n\u001b[0;31mSyntaxError\u001b[0m\u001b[0;31m:\u001b[0m invalid syntax\n"
          ]
        }
      ],
      "source": [
        "a% = 'Sekolah'"
      ]
    },
    {
      "cell_type": "code",
      "execution_count": null,
      "metadata": {
        "colab": {
          "base_uri": "https://localhost:8080/",
          "height": 141
        },
        "id": "dmeqba065ezA",
        "outputId": "89e88cb7-7f42-4017-b1e0-2584b1b08e8b"
      },
      "outputs": [
        {
          "output_type": "error",
          "ename": "SyntaxError",
          "evalue": "ignored",
          "traceback": [
            "\u001b[0;36m  File \u001b[0;32m\"<ipython-input-16-d5f20769142c>\"\u001b[0;36m, line \u001b[0;32m1\u001b[0m\n\u001b[0;31m    a&b = 'A dan B'\u001b[0m\n\u001b[0m    ^\u001b[0m\n\u001b[0;31mSyntaxError\u001b[0m\u001b[0;31m:\u001b[0m cannot assign to expression here. Maybe you meant '==' instead of '='?\n"
          ]
        }
      ],
      "source": [
        "a&b = 'A dan B'"
      ]
    },
    {
      "cell_type": "code",
      "execution_count": null,
      "metadata": {
        "id": "a58LNB3T5ezB"
      },
      "outputs": [],
      "source": [
        "a_b = 'A dan B'"
      ]
    },
    {
      "cell_type": "code",
      "execution_count": null,
      "metadata": {
        "id": "RY9Z3jvC5ezB"
      },
      "outputs": [],
      "source": [
        "ab = 'sekolah'"
      ]
    },
    {
      "cell_type": "markdown",
      "metadata": {
        "id": "3WVxOdeN5ezB"
      },
      "source": [
        "Numbers"
      ]
    },
    {
      "cell_type": "code",
      "execution_count": null,
      "metadata": {
        "id": "7IeKTww15ezB"
      },
      "outputs": [],
      "source": [
        "sh1ft = 'Shift'"
      ]
    },
    {
      "cell_type": "code",
      "execution_count": null,
      "metadata": {
        "colab": {
          "base_uri": "https://localhost:8080/",
          "height": 141
        },
        "id": "pG01v9E45ezB",
        "outputId": "c8ef6760-6527-42c7-d9c1-48d2660bd28a"
      },
      "outputs": [
        {
          "output_type": "error",
          "ename": "SyntaxError",
          "evalue": "ignored",
          "traceback": [
            "\u001b[0;36m  File \u001b[0;32m\"<ipython-input-20-ed701d20ff4f>\"\u001b[0;36m, line \u001b[0;32m1\u001b[0m\n\u001b[0;31m    4ngka = 'Angka 4'\u001b[0m\n\u001b[0m    ^\u001b[0m\n\u001b[0;31mSyntaxError\u001b[0m\u001b[0;31m:\u001b[0m invalid decimal literal\n"
          ]
        }
      ],
      "source": [
        "4ngka = 'Angka 4'"
      ]
    },
    {
      "cell_type": "markdown",
      "metadata": {
        "id": "LDM3t-7W5ezB"
      },
      "source": [
        "Special Keywords"
      ]
    },
    {
      "cell_type": "code",
      "execution_count": null,
      "metadata": {
        "id": "iGyOa2GU5ezC"
      },
      "outputs": [],
      "source": [
        "True = 'Benar'"
      ]
    },
    {
      "cell_type": "code",
      "execution_count": null,
      "metadata": {
        "id": "7vtwOom35ezC"
      },
      "outputs": [],
      "source": [
        "true = 'Benar'"
      ]
    },
    {
      "cell_type": "code",
      "execution_count": null,
      "metadata": {
        "id": "JMb746PP5ezC"
      },
      "outputs": [],
      "source": [
        "print = 'Jakarta'"
      ]
    },
    {
      "cell_type": "code",
      "execution_count": null,
      "metadata": {
        "id": "ur9hsk885ezD"
      },
      "outputs": [],
      "source": [
        "print('Hello World')"
      ]
    },
    {
      "cell_type": "code",
      "execution_count": null,
      "metadata": {
        "id": "FGaTIjeY5ezD"
      },
      "outputs": [],
      "source": [
        "'Jakarta'('Hello World')"
      ]
    },
    {
      "cell_type": "markdown",
      "metadata": {
        "id": "n8WMfeo35ezD"
      },
      "source": [
        "### Tipe Data"
      ]
    },
    {
      "cell_type": "markdown",
      "metadata": {
        "id": "GJMKcXRF5ezD"
      },
      "source": [
        "![tipe data](https://miro.medium.com/max/1720/1*JwIzwIA-EbinfbS20fw8hA.png)"
      ]
    },
    {
      "cell_type": "markdown",
      "metadata": {
        "id": "ZEi53Qx-5ezD"
      },
      "source": [
        "#### String\n",
        "\n",
        "String / Character / Object ditandai dengan ada nya tanda \" atau '. Biasa digunakan untuk huruf alfabet."
      ]
    },
    {
      "cell_type": "code",
      "execution_count": null,
      "metadata": {
        "id": "LJulmrso5ezE"
      },
      "outputs": [],
      "source": [
        "kendaraan = 'Motor'"
      ]
    },
    {
      "cell_type": "code",
      "execution_count": null,
      "metadata": {
        "id": "_mm-zcCm5ezE",
        "outputId": "15b648fd-f90f-43e4-cf99-fdb78ad16cc9"
      },
      "outputs": [
        {
          "name": "stdout",
          "output_type": "stream",
          "text": [
            "Motor\n"
          ]
        }
      ],
      "source": [
        "print(kendaraan)"
      ]
    },
    {
      "cell_type": "code",
      "execution_count": null,
      "metadata": {
        "scrolled": true,
        "id": "1JhfYnUH5ezW",
        "outputId": "0473ae13-1e10-47a0-ff7b-206dff9e677b"
      },
      "outputs": [
        {
          "name": "stdout",
          "output_type": "stream",
          "text": [
            "<class 'str'>\n"
          ]
        }
      ],
      "source": [
        "print(type(kendaraan))"
      ]
    },
    {
      "cell_type": "code",
      "execution_count": null,
      "metadata": {
        "id": "zEZN7LXp5ezW",
        "outputId": "22f56745-d46a-4cfa-adcd-ca53ac2b28cf"
      },
      "outputs": [
        {
          "name": "stdout",
          "output_type": "stream",
          "text": [
            "Value : 1900\n",
            "Tipe Data : <class 'str'>\n"
          ]
        }
      ],
      "source": [
        "angka = '1900'\n",
        "print('Value :', angka)\n",
        "print('Tipe Data :', type(angka))"
      ]
    },
    {
      "cell_type": "code",
      "execution_count": null,
      "metadata": {
        "id": "P3RRVSlP5ezX",
        "outputId": "19296a16-936e-43b6-da67-2e753e7473c0"
      },
      "outputs": [
        {
          "name": "stdout",
          "output_type": "stream",
          "text": [
            "Mobil\n"
          ]
        }
      ],
      "source": [
        "kendaraan = 'Mobil'\n",
        "\n",
        "print(kendaraan)"
      ]
    },
    {
      "cell_type": "code",
      "execution_count": null,
      "metadata": {
        "id": "r8WhnoLf5ezX",
        "outputId": "3f65f8d6-8669-40ae-e172-fe5968056213"
      },
      "outputs": [
        {
          "name": "stdout",
          "output_type": "stream",
          "text": [
            "Mi Ayam\n",
            "Ramen\n"
          ]
        }
      ],
      "source": [
        "makanan = 'Mi Ayam'\n",
        "Makanan = 'Ramen'\n",
        "print(makanan)\n",
        "print(Makanan)"
      ]
    },
    {
      "cell_type": "markdown",
      "metadata": {
        "id": "LwWZLoqE5ezY"
      },
      "source": [
        "Basic Operators in String"
      ]
    },
    {
      "cell_type": "code",
      "execution_count": null,
      "metadata": {
        "id": "p3o24Q435ezY",
        "outputId": "30909edf-10b9-4c70-96bc-202c9bc08c01"
      },
      "outputs": [
        {
          "name": "stdout",
          "output_type": "stream",
          "text": [
            "Motor Sport\n"
          ]
        }
      ],
      "source": [
        "kendaraan = 'Motor'\n",
        "jenis_kendaraan = 'Sport'\n",
        "\n",
        "print(kendaraan + ' ' + jenis_kendaraan)"
      ]
    },
    {
      "cell_type": "code",
      "execution_count": null,
      "metadata": {
        "id": "wf9zMaO05ezY",
        "outputId": "a702adc5-5744-47c6-da80-ced9aa628472"
      },
      "outputs": [
        {
          "name": "stdout",
          "output_type": "stream",
          "text": [
            "Mi Ayam\n"
          ]
        }
      ],
      "source": [
        "print('Mi ' + 'Ayam')"
      ]
    },
    {
      "cell_type": "code",
      "execution_count": null,
      "metadata": {
        "id": "TwqBVO4g5ezY",
        "outputId": "47098794-aeca-4eae-e470-635c1e7b4a00"
      },
      "outputs": [
        {
          "name": "stdout",
          "output_type": "stream",
          "text": [
            "11\n"
          ]
        }
      ],
      "source": [
        "print('1'+'1')"
      ]
    },
    {
      "cell_type": "code",
      "execution_count": null,
      "metadata": {
        "colab": {
          "base_uri": "https://localhost:8080/"
        },
        "id": "wqJwtAMy5ezZ",
        "outputId": "e3d67f3e-dd91-4818-9fd9-8a2daa56cbc5"
      },
      "outputs": [
        {
          "output_type": "stream",
          "name": "stdout",
          "text": [
            "SekolahmuSekolahmuSekolahmuSekolahmuSekolahmu\n"
          ]
        }
      ],
      "source": [
        "print('Sekolahmu'*5)"
      ]
    },
    {
      "cell_type": "code",
      "execution_count": null,
      "metadata": {
        "id": "AyBFW7Ck5ezZ",
        "outputId": "8abdc133-8368-428a-c834-1a3e9b0fed69"
      },
      "outputs": [
        {
          "data": {
            "text/plain": [
              "'wkwkwkwkwkwkwkwkwkwkwkwkwkwkwkwkwkwkwkwkwkwkwkwkwkwkwkwkwkwkwkwkwkwkwkwkwkwkwkwkwkwkwkwkwkwkwkwkwkwkwkwkwkwkwkwkwkwkwkwkwkwkwkwkwkwkwkwkwkwkwkwkwkwkwkwkwkwkwkwkwkwkwkwkwkwkwkwkwkwkwkwkwkwkwkwkwkwkwkwk'"
            ]
          },
          "execution_count": 17,
          "metadata": {},
          "output_type": "execute_result"
        }
      ],
      "source": [
        "'wk'*100"
      ]
    },
    {
      "cell_type": "code",
      "execution_count": null,
      "metadata": {
        "id": "xIq2Gy675ezZ",
        "outputId": "e3ad6586-c73a-4860-af20-13af562ff000"
      },
      "outputs": [
        {
          "name": "stdout",
          "output_type": "stream",
          "text": [
            "Bobo\n",
            "Bibi\n"
          ]
        }
      ],
      "source": [
        "nama = 'Bobo'\n",
        "print(nama)\n",
        "print(nama.replace('o', 'i'))"
      ]
    },
    {
      "cell_type": "code",
      "execution_count": null,
      "metadata": {
        "colab": {
          "base_uri": "https://localhost:8080/",
          "height": 35
        },
        "id": "nT3blTep5ezZ",
        "outputId": "3e27f386-2bc5-41f5-f439-5d0d83dc0f7f"
      },
      "outputs": [
        {
          "output_type": "execute_result",
          "data": {
            "text/plain": [
              "'SEKOLAHMU'"
            ],
            "application/vnd.google.colaboratory.intrinsic+json": {
              "type": "string"
            }
          },
          "metadata": {},
          "execution_count": 1
        }
      ],
      "source": [
        "'Sekolahmu'.upper()"
      ]
    },
    {
      "cell_type": "code",
      "execution_count": null,
      "metadata": {
        "colab": {
          "base_uri": "https://localhost:8080/",
          "height": 35
        },
        "id": "zebmw4pU5eza",
        "outputId": "d29fd056-629b-4782-e458-395cc4e15f24"
      },
      "outputs": [
        {
          "output_type": "execute_result",
          "data": {
            "text/plain": [
              "'sekolahmu'"
            ],
            "application/vnd.google.colaboratory.intrinsic+json": {
              "type": "string"
            }
          },
          "metadata": {},
          "execution_count": 2
        }
      ],
      "source": [
        "'SekolahMU'.lower()"
      ]
    },
    {
      "cell_type": "code",
      "source": [
        "\"Saya bekerja di PT XYZ\".split(' ')"
      ],
      "metadata": {
        "colab": {
          "base_uri": "https://localhost:8080/"
        },
        "id": "bdI5E0uaoPfv",
        "outputId": "2ce389e9-4683-4899-d778-8bf05ade8151"
      },
      "execution_count": null,
      "outputs": [
        {
          "output_type": "execute_result",
          "data": {
            "text/plain": [
              "['Saya', 'bekerja', 'di', 'PT', 'XYZ']"
            ]
          },
          "metadata": {},
          "execution_count": 1
        }
      ]
    },
    {
      "cell_type": "code",
      "source": [
        "nama = 'Syamil'\n",
        "pekerjaan = 'Data Scientist'\n",
        "f\"nama saya {nama}, saya bekerja sebagai {pekerjaan}\""
      ],
      "metadata": {
        "colab": {
          "base_uri": "https://localhost:8080/",
          "height": 35
        },
        "id": "NQCtieF4WPG0",
        "outputId": "8fa64368-2b2b-48be-c3f2-92fdd9907f7f"
      },
      "execution_count": null,
      "outputs": [
        {
          "output_type": "execute_result",
          "data": {
            "text/plain": [
              "'nama saya Syamil, saya bekerja sebagai Data Scientist'"
            ],
            "application/vnd.google.colaboratory.intrinsic+json": {
              "type": "string"
            }
          },
          "metadata": {},
          "execution_count": 2
        }
      ]
    },
    {
      "cell_type": "markdown",
      "metadata": {
        "id": "ilkaxTCi5eza"
      },
      "source": [
        "#### Numbers\n",
        "\n",
        "\n",
        "**Integer**\n",
        "\n",
        "Integer merupakan tipe data angka bilangan bulat"
      ]
    },
    {
      "cell_type": "code",
      "execution_count": null,
      "metadata": {
        "id": "GYCbjvG_5eza",
        "outputId": "3a17f474-108d-4543-898a-51bc4500a0e1"
      },
      "outputs": [
        {
          "name": "stdout",
          "output_type": "stream",
          "text": [
            "1\n",
            "Tipe data dari a : <class 'int'>\n"
          ]
        }
      ],
      "source": [
        "a = 1\n",
        "print(a)\n",
        "print('Tipe data dari a :', type(a))"
      ]
    },
    {
      "cell_type": "markdown",
      "metadata": {
        "id": "sMrkAWzD5ezb"
      },
      "source": [
        "**Float**"
      ]
    },
    {
      "cell_type": "code",
      "execution_count": null,
      "metadata": {
        "id": "IjmGE0xR5ezb",
        "outputId": "829350ec-2e3c-42e8-923e-7ae937e21fb3"
      },
      "outputs": [
        {
          "name": "stdout",
          "output_type": "stream",
          "text": [
            "1.0\n",
            "Tipe data dari b : <class 'float'>\n"
          ]
        }
      ],
      "source": [
        "b = 1.0\n",
        "print(b)\n",
        "print('Tipe data dari b :', type(b))"
      ]
    },
    {
      "cell_type": "markdown",
      "metadata": {
        "id": "ijYD1rMh5ezc"
      },
      "source": [
        "#### Operasi pada Tipe Angka"
      ]
    },
    {
      "cell_type": "code",
      "execution_count": null,
      "metadata": {
        "id": "lGqL5cxU5ezc"
      },
      "outputs": [],
      "source": [
        "a = 7\n",
        "b = 8.0\n",
        "c = 8"
      ]
    },
    {
      "cell_type": "code",
      "execution_count": null,
      "metadata": {
        "id": "psxsB8ku5ezc",
        "outputId": "d37bbd3e-75d0-46d3-ac84-3e3d0bd247b4"
      },
      "outputs": [
        {
          "name": "stdout",
          "output_type": "stream",
          "text": [
            "a + b = 15.0\n",
            "a - b = -1.0\n",
            "a x c = 56\n",
            "a : c = 0.875\n"
          ]
        }
      ],
      "source": [
        "print('a + b =', a+b)\n",
        "print('a - b =', a-b)\n",
        "print('a x c =', a*c)\n",
        "print('a : c =', a/c)"
      ]
    },
    {
      "cell_type": "code",
      "execution_count": null,
      "metadata": {
        "id": "-hI7CD485ezc",
        "outputId": "4e02c43c-df68-4157-c9b9-fe2d93ff298c"
      },
      "outputs": [
        {
          "name": "stdout",
          "output_type": "stream",
          "text": [
            "c // a = 2\n",
            "c % a = 1\n"
          ]
        }
      ],
      "source": [
        "a = 7\n",
        "b = 8.0\n",
        "c = 15\n",
        "\n",
        "print('c // a =', c//a)\n",
        "print('c % a =', c%a) #modulo"
      ]
    },
    {
      "cell_type": "code",
      "execution_count": null,
      "metadata": {
        "id": "5nFGfI_75ezd",
        "outputId": "506ca4ea-c2f6-4494-e431-2c16789bc5b0"
      },
      "outputs": [
        {
          "name": "stdout",
          "output_type": "stream",
          "text": [
            "Hasil Pembagian dari 58 : 7 = 8.285714285714286\n",
            "Hasil Bagi dari 58 : 7 = 8\n",
            "Sisa Pembagian dari 58 : 7 = 2\n"
          ]
        }
      ],
      "source": [
        "a = 58\n",
        "b = 7\n",
        "\n",
        "print('Hasil Pembagian dari 58 : 7 =', a/b) #pembagian biasa\n",
        "print('Hasil Bagi dari 58 : 7 =', a//b) #menampilkan hasil bagi dan bulat\n",
        "print('Sisa Pembagian dari 58 : 7 =', a%b) #menampilkan sisa bagi dan bulat"
      ]
    },
    {
      "cell_type": "code",
      "execution_count": null,
      "metadata": {
        "id": "bCi3RB6_5ezd",
        "outputId": "d67ada89-8ecc-40b9-e1c2-30e748821902"
      },
      "outputs": [
        {
          "data": {
            "text/plain": [
              "0"
            ]
          },
          "execution_count": 28,
          "metadata": {},
          "output_type": "execute_result"
        }
      ],
      "source": [
        "0%2"
      ]
    },
    {
      "cell_type": "code",
      "execution_count": null,
      "metadata": {
        "id": "p9VhFFvM5ezd",
        "outputId": "4b1f7aa9-736b-4413-d4e8-9e8daa96e7de"
      },
      "outputs": [
        {
          "data": {
            "text/plain": [
              "1"
            ]
          },
          "execution_count": 29,
          "metadata": {},
          "output_type": "execute_result"
        }
      ],
      "source": [
        "1%2"
      ]
    },
    {
      "cell_type": "code",
      "execution_count": null,
      "metadata": {
        "id": "TKsNKkcQ5ezd",
        "outputId": "2195b9cd-c1c6-4c88-ccb0-c44042d21410"
      },
      "outputs": [
        {
          "data": {
            "text/plain": [
              "0"
            ]
          },
          "execution_count": 30,
          "metadata": {},
          "output_type": "execute_result"
        }
      ],
      "source": [
        "1//2"
      ]
    },
    {
      "cell_type": "markdown",
      "metadata": {
        "id": "xOi-A-FJ5eze"
      },
      "source": [
        "#### Mengubah Tipe Data"
      ]
    },
    {
      "cell_type": "code",
      "execution_count": null,
      "metadata": {
        "id": "CLGL3TF55eze",
        "outputId": "be0b86f5-0f09-4417-b8e3-69aaa6c8f173"
      },
      "outputs": [
        {
          "name": "stdout",
          "output_type": "stream",
          "text": [
            "10 <class 'int'>\n",
            "11 <class 'str'>\n",
            "12.0 <class 'float'>\n"
          ]
        }
      ],
      "source": [
        "a = 10 #integer\n",
        "b = '11' #string\n",
        "c = 12.0 #float\n",
        "\n",
        "print(a, type(a))\n",
        "print(b, type(b))\n",
        "print(c, type(c))"
      ]
    },
    {
      "cell_type": "code",
      "execution_count": null,
      "metadata": {
        "id": "MWVckvbM5eze",
        "outputId": "d8c2132f-22e8-4e19-c5a0-2c8eb0d537de"
      },
      "outputs": [
        {
          "name": "stdout",
          "output_type": "stream",
          "text": [
            "10.0 <class 'float'>\n",
            "11 <class 'int'>\n",
            "12.0 <class 'str'>\n"
          ]
        }
      ],
      "source": [
        "a = float(a)\n",
        "b = int(b)\n",
        "c = str(c)\n",
        "\n",
        "print(a, type(a))\n",
        "print(b, type(b))\n",
        "print(c, type(c))"
      ]
    },
    {
      "cell_type": "markdown",
      "metadata": {
        "id": "VN4JldXi5eze"
      },
      "source": [
        "#### Boolean"
      ]
    },
    {
      "cell_type": "code",
      "execution_count": null,
      "metadata": {
        "id": "AKjqNJ_q5eze",
        "outputId": "9ff0cd40-2da0-4917-9ad5-d99fe2e670ed"
      },
      "outputs": [
        {
          "name": "stdout",
          "output_type": "stream",
          "text": [
            "True\n",
            "<class 'bool'>\n"
          ]
        }
      ],
      "source": [
        "a = True\n",
        "print(a)\n",
        "print(type(a))"
      ]
    },
    {
      "cell_type": "code",
      "execution_count": null,
      "metadata": {
        "id": "Du2RGYKk5ezf",
        "outputId": "52839d7f-d310-4afe-eb0c-c196a8a2dd5d"
      },
      "outputs": [
        {
          "data": {
            "text/plain": [
              "True"
            ]
          },
          "execution_count": 34,
          "metadata": {},
          "output_type": "execute_result"
        }
      ],
      "source": [
        "8 > 7"
      ]
    },
    {
      "cell_type": "code",
      "execution_count": null,
      "metadata": {
        "id": "yLmOr7tz5ezf",
        "outputId": "362e7e97-28c0-4379-fc45-7177f4592027"
      },
      "outputs": [
        {
          "data": {
            "text/plain": [
              "True"
            ]
          },
          "execution_count": 35,
          "metadata": {},
          "output_type": "execute_result"
        }
      ],
      "source": [
        "6 < 10"
      ]
    },
    {
      "cell_type": "code",
      "execution_count": null,
      "metadata": {
        "id": "PP8AG1FI5ezf",
        "outputId": "71ba64c3-5b2a-48f9-f93c-0b619f354aea"
      },
      "outputs": [
        {
          "data": {
            "text/plain": [
              "False"
            ]
          },
          "execution_count": 36,
          "metadata": {},
          "output_type": "execute_result"
        }
      ],
      "source": [
        "7 > 10"
      ]
    },
    {
      "cell_type": "code",
      "execution_count": null,
      "metadata": {
        "id": "dj0hgZAp5ezg",
        "outputId": "48d72a55-5172-40b0-deb7-aea07d6b8790"
      },
      "outputs": [
        {
          "data": {
            "text/plain": [
              "True"
            ]
          },
          "execution_count": 37,
          "metadata": {},
          "output_type": "execute_result"
        }
      ],
      "source": [
        "7 <= 7"
      ]
    },
    {
      "cell_type": "code",
      "execution_count": null,
      "metadata": {
        "id": "laYAQPE55ezg",
        "outputId": "d6b1eb1e-fbf8-4181-dc5b-b6e2d6dae0f2"
      },
      "outputs": [
        {
          "data": {
            "text/plain": [
              "False"
            ]
          },
          "execution_count": 38,
          "metadata": {},
          "output_type": "execute_result"
        }
      ],
      "source": [
        "7 < 7"
      ]
    },
    {
      "cell_type": "code",
      "execution_count": null,
      "metadata": {
        "id": "c_8KFG6O5ezg",
        "outputId": "9d65f8d1-1e9f-4123-d928-b3a9b44a5ad0"
      },
      "outputs": [
        {
          "data": {
            "text/plain": [
              "True"
            ]
          },
          "execution_count": 40,
          "metadata": {},
          "output_type": "execute_result"
        }
      ],
      "source": [
        "8 == 8"
      ]
    },
    {
      "cell_type": "code",
      "execution_count": null,
      "metadata": {
        "id": "hc_cD-O25ezg",
        "outputId": "91d1d01f-8683-46b3-f09e-1f417a409153"
      },
      "outputs": [
        {
          "data": {
            "text/plain": [
              "False"
            ]
          },
          "execution_count": 41,
          "metadata": {},
          "output_type": "execute_result"
        }
      ],
      "source": [
        "8 != 8"
      ]
    },
    {
      "cell_type": "code",
      "execution_count": null,
      "metadata": {
        "id": "YjMnyOri5ezh",
        "outputId": "da3d4937-b1cb-45db-dc5c-d26f5d112323"
      },
      "outputs": [
        {
          "data": {
            "text/plain": [
              "False"
            ]
          },
          "execution_count": 42,
          "metadata": {},
          "output_type": "execute_result"
        }
      ],
      "source": [
        "'Andi' == 'Pintar'"
      ]
    },
    {
      "cell_type": "code",
      "execution_count": null,
      "metadata": {
        "id": "gVJ7_fu25ezh",
        "outputId": "f864865e-521e-4747-adf5-150ba66eaf6d"
      },
      "outputs": [
        {
          "data": {
            "text/plain": [
              "True"
            ]
          },
          "execution_count": 44,
          "metadata": {},
          "output_type": "execute_result"
        }
      ],
      "source": [
        "'Andi' == 'Andi'"
      ]
    },
    {
      "cell_type": "code",
      "execution_count": null,
      "metadata": {
        "id": "W5RX30kB5ezh",
        "outputId": "1e7283e4-800a-4afb-ea84-80080f693273"
      },
      "outputs": [
        {
          "data": {
            "text/plain": [
              "False"
            ]
          },
          "execution_count": 45,
          "metadata": {},
          "output_type": "execute_result"
        }
      ],
      "source": [
        "'Andi' == 'andi'"
      ]
    },
    {
      "cell_type": "code",
      "execution_count": null,
      "metadata": {
        "id": "2uQvZKpH5ezh",
        "outputId": "f8712cb6-b27c-474e-d8f8-d8440ed97e0b"
      },
      "outputs": [
        {
          "data": {
            "text/plain": [
              "True"
            ]
          },
          "execution_count": 46,
          "metadata": {},
          "output_type": "execute_result"
        }
      ],
      "source": [
        "'Jakarta' != 'jakarta'"
      ]
    },
    {
      "cell_type": "code",
      "execution_count": null,
      "metadata": {
        "id": "8Xgnk0Xg5ezi",
        "outputId": "a1df8640-e25d-41c5-b0eb-1fcee50e371e"
      },
      "outputs": [
        {
          "data": {
            "text/plain": [
              "True"
            ]
          },
          "execution_count": 47,
          "metadata": {},
          "output_type": "execute_result"
        }
      ],
      "source": [
        "'Jakarta'.lower() == 'jakarta'.lower()"
      ]
    },
    {
      "cell_type": "markdown",
      "metadata": {
        "id": "cxENW5V-5ezi"
      },
      "source": [
        "Boolean Operators"
      ]
    },
    {
      "cell_type": "markdown",
      "metadata": {
        "id": "yLVNibT-5ezi"
      },
      "source": [
        "- '==' adalah equal to\n",
        "- '>' adalah greater than\n",
        "- '>=' adalah greater than and equal to\n",
        "- '<' adalah less than\n",
        "- '<=' adalah less than and equal to\n",
        "- '!=' adalah not equal to"
      ]
    },
    {
      "cell_type": "markdown",
      "metadata": {
        "id": "q6V0a2u55ezi"
      },
      "source": [
        "### Metode Input"
      ]
    },
    {
      "cell_type": "code",
      "execution_count": null,
      "metadata": {
        "id": "k6PIfhTH5ezj",
        "outputId": "b2d58590-60b6-4951-edb7-e0c6ed047adf"
      },
      "outputs": [
        {
          "name": "stdout",
          "output_type": "stream",
          "text": [
            "Masukkan nama kota :Jakarta Timur\n"
          ]
        }
      ],
      "source": [
        "kota = input('Masukkan nama kota :')"
      ]
    },
    {
      "cell_type": "code",
      "execution_count": null,
      "metadata": {
        "id": "zSdnUrNM5ezj",
        "outputId": "37980e94-0b3b-4f47-8526-006acc7c0b49"
      },
      "outputs": [
        {
          "data": {
            "text/plain": [
              "2"
            ]
          },
          "execution_count": 49,
          "metadata": {},
          "output_type": "execute_result"
        }
      ],
      "source": [
        "1 + 1"
      ]
    },
    {
      "cell_type": "code",
      "execution_count": null,
      "metadata": {
        "id": "kSPFgOc65ezj",
        "outputId": "628bddad-7272-42b5-b9f8-9f96f1328cd6"
      },
      "outputs": [
        {
          "name": "stdout",
          "output_type": "stream",
          "text": [
            "Jakarta Timur\n"
          ]
        }
      ],
      "source": [
        "print(kota)"
      ]
    },
    {
      "cell_type": "code",
      "execution_count": null,
      "metadata": {
        "id": "HVh6xjYy5ezk",
        "outputId": "0f42674e-3202-4289-def5-4e3e3310554b"
      },
      "outputs": [
        {
          "name": "stdout",
          "output_type": "stream",
          "text": [
            "Masukkan angka pertama :9\n",
            "Masukkan angka kedua :8\n",
            "17.0\n"
          ]
        }
      ],
      "source": [
        "angka1 = int(input('Masukkan angka pertama :'))\n",
        "angka2 = float(input('Masukkan angka kedua :'))\n",
        "\n",
        "print(angka1 + angka2)"
      ]
    },
    {
      "cell_type": "markdown",
      "metadata": {
        "id": "GUgsK-ZJ5ezk"
      },
      "source": [
        "Question"
      ]
    },
    {
      "cell_type": "code",
      "execution_count": null,
      "metadata": {
        "id": "xmkW1SrC5ezk",
        "outputId": "f70a0f47-c452-4140-da7e-c3a00a3cac8f"
      },
      "outputs": [
        {
          "name": "stdout",
          "output_type": "stream",
          "text": [
            "2\n",
            "1\n"
          ]
        }
      ],
      "source": [
        "a, b = 1, 2\n",
        "print(b)\n",
        "print(a)"
      ]
    },
    {
      "cell_type": "code",
      "execution_count": null,
      "metadata": {
        "id": "Zelgv8B75ezk",
        "outputId": "e4f4e700-dedd-450a-ee5d-5097ea35a219"
      },
      "outputs": [
        {
          "name": "stdout",
          "output_type": "stream",
          "text": [
            "1 2\n"
          ]
        }
      ],
      "source": [
        "a = 1\n",
        "b = 2\n",
        "\n",
        "a, b = 1, 2\n",
        "\n",
        "print(a, b)"
      ]
    },
    {
      "cell_type": "code",
      "execution_count": null,
      "metadata": {
        "id": "qGpuhlSe5ezl",
        "outputId": "ab23371c-fd87-48b9-b8ff-e945ade93a62"
      },
      "outputs": [
        {
          "name": "stdout",
          "output_type": "stream",
          "text": [
            "3\n",
            "2\n",
            "1\n"
          ]
        }
      ],
      "source": [
        "x, y, z = 1, 2, 3\n",
        "z, y, x = x, y, z\n",
        "print(x)\n",
        "print(y)\n",
        "print(z)"
      ]
    },
    {
      "cell_type": "code",
      "execution_count": null,
      "metadata": {
        "id": "CTqmkB0y5ezl"
      },
      "outputs": [],
      "source": []
    }
  ],
  "metadata": {
    "kernelspec": {
      "display_name": "Python 3 (ipykernel)",
      "language": "python",
      "name": "python3"
    },
    "language_info": {
      "codemirror_mode": {
        "name": "ipython",
        "version": 3
      },
      "file_extension": ".py",
      "mimetype": "text/x-python",
      "name": "python",
      "nbconvert_exporter": "python",
      "pygments_lexer": "ipython3",
      "version": "3.9.12"
    },
    "colab": {
      "provenance": [],
      "include_colab_link": true
    }
  },
  "nbformat": 4,
  "nbformat_minor": 0
}