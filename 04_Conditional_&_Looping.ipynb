{
  "nbformat": 4,
  "nbformat_minor": 0,
  "metadata": {
    "colab": {
      "provenance": [],
      "authorship_tag": "ABX9TyMnlYSQvdBiSXjjYyqT0Pen",
      "include_colab_link": true
    },
    "kernelspec": {
      "name": "python3",
      "display_name": "Python 3"
    },
    "language_info": {
      "name": "python"
    }
  },
  "cells": [
    {
      "cell_type": "markdown",
      "metadata": {
        "id": "view-in-github",
        "colab_type": "text"
      },
      "source": [
        "<a href=\"https://colab.research.google.com/github/Evianitary18/Programming-With-Python/blob/main/04_Conditional_%26_Looping.ipynb\" target=\"_parent\"><img src=\"https://colab.research.google.com/assets/colab-badge.svg\" alt=\"Open In Colab\"/></a>"
      ]
    },
    {
      "cell_type": "code",
      "execution_count": 3,
      "metadata": {
        "colab": {
          "base_uri": "https://localhost:8080/"
        },
        "id": "N-eTVlVnPzmd",
        "outputId": "1d05e025-c445-43bf-fd0f-60fcb2600fcc"
      },
      "outputs": [
        {
          "output_type": "stream",
          "name": "stdout",
          "text": [
            "Sudah beranjak dewasa\n"
          ]
        }
      ],
      "source": [
        "umur = 20\n",
        "if umur > 12:\n",
        "  print(\"Sudah beranjak dewasa\")"
      ]
    },
    {
      "cell_type": "code",
      "source": [
        "umur = 10\n",
        "if umur > 12:\n",
        "  print(\"Sudah beranjak dewasa\")\n",
        "else:\n",
        "  print(\"Belum beranjak dewasa\")"
      ],
      "metadata": {
        "colab": {
          "base_uri": "https://localhost:8080/"
        },
        "id": "A09vepW6QV8-",
        "outputId": "8e497d28-4dfb-4e89-9279-22178a9155d8"
      },
      "execution_count": 4,
      "outputs": [
        {
          "output_type": "stream",
          "name": "stdout",
          "text": [
            "Belum beranjak dewasa\n"
          ]
        }
      ]
    },
    {
      "cell_type": "code",
      "source": [
        "umut = 37\n",
        "if umur > 12:\n",
        "  print(\"Sudah beranjak dewasa\")\n",
        "elif umur > 30:\n",
        "  print(\"Sudah beranjak manula\")\n",
        "else:\n",
        "  print(\"Belum beranjak dewasa\")"
      ],
      "metadata": {
        "colab": {
          "base_uri": "https://localhost:8080/"
        },
        "id": "Jv8bHsrNQc3L",
        "outputId": "7b341b68-4faf-4e73-ed2f-638c796667b8"
      },
      "execution_count": 5,
      "outputs": [
        {
          "output_type": "stream",
          "name": "stdout",
          "text": [
            "Belum beranjak dewasa\n"
          ]
        }
      ]
    },
    {
      "cell_type": "markdown",
      "source": [
        "**WHILE LOOP**\n",
        "\n",
        "statement akan dieksekusi berulang-ulang selama kondisi masih terpenuhi atau bernilai true."
      ],
      "metadata": {
        "id": "kWKWANaORIh0"
      }
    },
    {
      "cell_type": "code",
      "source": [
        "count = 0\n",
        "while (count < 9):\n",
        "  print(\"The count is:\", count)\n",
        "  count = count + 1\n",
        "\n",
        "print(\"Good bye\")"
      ],
      "metadata": {
        "colab": {
          "base_uri": "https://localhost:8080/"
        },
        "id": "fMN0LpHHRSv3",
        "outputId": "ae382bf2-0424-450c-e6d2-66c470e41b8a"
      },
      "execution_count": 6,
      "outputs": [
        {
          "output_type": "stream",
          "name": "stdout",
          "text": [
            "The count is: 0\n",
            "The count is: 1\n",
            "The count is: 2\n",
            "The count is: 3\n",
            "The count is: 4\n",
            "The count is: 5\n",
            "The count is: 6\n",
            "The count is: 7\n",
            "The count is: 8\n",
            "Good bye\n"
          ]
        }
      ]
    },
    {
      "cell_type": "markdown",
      "source": [
        "**FOR LOOP**\n",
        "\n",
        "Digunakan untuk mengulangi eksekusi statement sesuai urutan tertentu (list, tuple, dictionary, set, atau nilai string)"
      ],
      "metadata": {
        "id": "hW4CJwp5R152"
      }
    },
    {
      "cell_type": "code",
      "source": [
        "# contoh pengulangan for sederhana\n",
        "angka = [1, 2, 3, 4, 5]\n",
        "for x in angka:\n",
        "  print(x)"
      ],
      "metadata": {
        "colab": {
          "base_uri": "https://localhost:8080/"
        },
        "id": "WOJz0x7jSEbn",
        "outputId": "55da48fa-4e3e-446a-bf56-38c014ad27ac"
      },
      "execution_count": 7,
      "outputs": [
        {
          "output_type": "stream",
          "name": "stdout",
          "text": [
            "1\n",
            "2\n",
            "3\n",
            "4\n",
            "5\n"
          ]
        }
      ]
    },
    {
      "cell_type": "code",
      "source": [
        "# contoh pengulangan for\n",
        "buah = [\"nanas\", \"apel\", \"jeruk\"]\n",
        "for makanan in buah:\n",
        "  print(\"Saya suka makan\", makanan)"
      ],
      "metadata": {
        "colab": {
          "base_uri": "https://localhost:8080/"
        },
        "id": "-hvs5E0LSYDF",
        "outputId": "abf89812-d498-4051-9778-1065858810a3"
      },
      "execution_count": 8,
      "outputs": [
        {
          "output_type": "stream",
          "name": "stdout",
          "text": [
            "Saya suka makan nanas\n",
            "Saya suka makan apel\n",
            "Saya suka makan jeruk\n"
          ]
        }
      ]
    },
    {
      "cell_type": "markdown",
      "source": [
        "**Nested Loop**\n",
        "\n",
        "Conditional statement dan / atau loop dalam loop"
      ],
      "metadata": {
        "id": "gkAbrYcoSg7d"
      }
    },
    {
      "cell_type": "code",
      "source": [
        "# contoh penggunaan nested loop\n",
        "i = 2\n",
        "while(i < 100):\n",
        "  j = 2\n",
        "  while(j <= (i/j)):\n",
        "    if not(i%j): break\n",
        "    j = j + 1\n",
        "    if (j > i/j): print(i, \" adalah bilangan prima\")\n",
        "  i = i + 1"
      ],
      "metadata": {
        "colab": {
          "base_uri": "https://localhost:8080/"
        },
        "id": "Zv_XVi1tSpql",
        "outputId": "e2fa8af2-5cac-4905-e997-f8d531ebdd9b"
      },
      "execution_count": 10,
      "outputs": [
        {
          "output_type": "stream",
          "name": "stdout",
          "text": [
            "5  adalah bilangan prima\n",
            "7  adalah bilangan prima\n",
            "11  adalah bilangan prima\n",
            "13  adalah bilangan prima\n",
            "17  adalah bilangan prima\n",
            "19  adalah bilangan prima\n",
            "23  adalah bilangan prima\n",
            "29  adalah bilangan prima\n",
            "31  adalah bilangan prima\n",
            "37  adalah bilangan prima\n",
            "41  adalah bilangan prima\n",
            "43  adalah bilangan prima\n",
            "47  adalah bilangan prima\n",
            "53  adalah bilangan prima\n",
            "59  adalah bilangan prima\n",
            "61  adalah bilangan prima\n",
            "67  adalah bilangan prima\n",
            "71  adalah bilangan prima\n",
            "73  adalah bilangan prima\n",
            "79  adalah bilangan prima\n",
            "83  adalah bilangan prima\n",
            "89  adalah bilangan prima\n",
            "97  adalah bilangan prima\n"
          ]
        }
      ]
    },
    {
      "cell_type": "markdown",
      "source": [
        "**BREAK Statement**\n",
        "\n",
        "Menghentikan loop walaupun kondisi masih bernilai True"
      ],
      "metadata": {
        "id": "1q7Jqz4WTD2M"
      }
    },
    {
      "cell_type": "code",
      "source": [
        "stock_barang = 10\n",
        "while stock_barang > 0:\n",
        "  print(\"stok barang saat ini:\", stock_barang)\n",
        "  stock_barang = stock_barang - 1\n",
        "  if stock_barang == 5:\n",
        "    break\n",
        "print(\"Stok barang sudah hampir habis\")"
      ],
      "metadata": {
        "colab": {
          "base_uri": "https://localhost:8080/"
        },
        "id": "sdIC_g07TMXA",
        "outputId": "1ec8e299-3ae9-411d-9dcc-6235e3246059"
      },
      "execution_count": 13,
      "outputs": [
        {
          "output_type": "stream",
          "name": "stdout",
          "text": [
            "stok barang saat ini: 10\n",
            "stok barang saat ini: 9\n",
            "stok barang saat ini: 8\n",
            "stok barang saat ini: 7\n",
            "stok barang saat ini: 6\n",
            "Stok barang sudah hampir habis\n"
          ]
        }
      ]
    }
  ]
}