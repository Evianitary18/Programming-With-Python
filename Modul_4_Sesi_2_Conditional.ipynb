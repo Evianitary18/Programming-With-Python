{
  "cells": [
    {
      "cell_type": "markdown",
      "metadata": {
        "id": "view-in-github",
        "colab_type": "text"
      },
      "source": [
        "<a href=\"https://colab.research.google.com/github/Evianitary18/Programming-With-Python/blob/main/Modul_4_Sesi_2_Conditional.ipynb\" target=\"_parent\"><img src=\"https://colab.research.google.com/assets/colab-badge.svg\" alt=\"Open In Colab\"/></a>"
      ]
    },
    {
      "cell_type": "markdown",
      "id": "20ff03c8",
      "metadata": {
        "id": "20ff03c8"
      },
      "source": [
        "### Basic If"
      ]
    },
    {
      "cell_type": "markdown",
      "id": "ce0074ba",
      "metadata": {
        "id": "ce0074ba"
      },
      "source": [
        "Wawan berencana untuk membeli laptop baru dari brand \"bcd\". Laptop yang diinginkan itu seharga 20 juta.\n",
        "\n",
        "Sebelum membeli laptop tersebut Wawan perlu memastikan apakah uang di tabungannya cukup untuk membeli laptop tersebut."
      ]
    },
    {
      "cell_type": "markdown",
      "id": "2774cfc2",
      "metadata": {
        "id": "2774cfc2"
      },
      "source": [
        "Kondisi di atas dapat di dituliskan ke dalam pernyataan `if`, seperti berikut:"
      ]
    },
    {
      "cell_type": "code",
      "execution_count": null,
      "id": "4c2f6d37",
      "metadata": {
        "id": "4c2f6d37"
      },
      "outputs": [],
      "source": [
        "harga_laptop = 20000000\n",
        "uang_wawan = 15000000"
      ]
    },
    {
      "cell_type": "code",
      "execution_count": null,
      "id": "a2ac1c69",
      "metadata": {
        "id": "a2ac1c69"
      },
      "outputs": [],
      "source": [
        "if uang_wawan >= harga_laptop:\n",
        "    print(\"beli laptop 'bcd'\")"
      ]
    },
    {
      "cell_type": "markdown",
      "id": "d6f810d8",
      "metadata": {
        "id": "d6f810d8"
      },
      "source": [
        "### Basic if else"
      ]
    },
    {
      "cell_type": "markdown",
      "id": "0d1bddfb",
      "metadata": {
        "id": "0d1bddfb"
      },
      "source": [
        "Setelah menimbang rencananya Wawan memutuskan Jika ternyata uangnya kurang, maka dia memilih untuk menabung terlebih dahulu."
      ]
    },
    {
      "cell_type": "markdown",
      "id": "6ac54627",
      "metadata": {
        "id": "6ac54627"
      },
      "source": [
        "Maka, jika ditulis bentuk pernyataan `if-else` menjadi:"
      ]
    },
    {
      "cell_type": "code",
      "execution_count": null,
      "id": "05d229e2",
      "metadata": {
        "id": "05d229e2"
      },
      "outputs": [],
      "source": [
        "harga_laptop = 20000000\n",
        "uang_wawan = 15000000"
      ]
    },
    {
      "cell_type": "code",
      "execution_count": null,
      "id": "daba9f5c",
      "metadata": {
        "id": "daba9f5c",
        "colab": {
          "base_uri": "https://localhost:8080/"
        },
        "outputId": "fabbb135-a100-49e1-d877-10b95639925c"
      },
      "outputs": [
        {
          "output_type": "stream",
          "name": "stdout",
          "text": [
            "Menabung dulu sampai uang cukup!\n"
          ]
        }
      ],
      "source": [
        "if uang_wawan >= harga_laptop:\n",
        "    print(\"beli laptop 'bcd'\")\n",
        "else:\n",
        "    print(\"Menabung dulu sampai uang cukup!\")"
      ]
    },
    {
      "cell_type": "markdown",
      "id": "fd1dd4e5",
      "metadata": {
        "id": "fd1dd4e5"
      },
      "source": [
        "---\n",
        "**Exercise**"
      ]
    },
    {
      "cell_type": "code",
      "execution_count": null,
      "id": "51034e88",
      "metadata": {
        "id": "51034e88",
        "colab": {
          "base_uri": "https://localhost:8080/"
        },
        "outputId": "441af629-777a-4ffb-db7e-a8a0da9def05"
      },
      "outputs": [
        {
          "output_type": "stream",
          "name": "stdout",
          "text": [
            "Makan Steak\n"
          ]
        }
      ],
      "source": [
        "# Masukkanlah nilai uang agar bisa makan steak\n",
        "uang = 1000001\n",
        "if uang >= 100000:\n",
        "    print(\"Makan Steak\")\n",
        "else:\n",
        "    print(\"Makan Nasi Goreng\")"
      ]
    },
    {
      "cell_type": "code",
      "execution_count": null,
      "id": "7cba6ece",
      "metadata": {
        "id": "7cba6ece",
        "colab": {
          "base_uri": "https://localhost:8080/"
        },
        "outputId": "f17b0cd4-a453-4e43-c789-efcccb1987b0"
      },
      "outputs": [
        {
          "output_type": "stream",
          "name": "stdout",
          "text": [
            "Cari yang lain!\n"
          ]
        }
      ],
      "source": [
        "# Buatlah conditional, jika univ adalah MIT, maka masuk Aeropsace Engineering, jika tidak, maka cari yang lain\n",
        "univ = 'Harvard'\n",
        "if univ == 'MIT':\n",
        "  print('Masuk Aerospance Engineering')\n",
        "else:\n",
        "  print(\"Cari yang lain!\")"
      ]
    },
    {
      "cell_type": "code",
      "execution_count": null,
      "id": "2a5437df",
      "metadata": {
        "id": "2a5437df"
      },
      "outputs": [],
      "source": [
        "# Buatlah conditional, jika nilai kurang dari sama dengan 50, maka tidak lulus, selain itu, lulus\n",
        "nilai = 49\n",
        "if nilai <= 50:\n",
        "  print('Tidak lulus!')\n",
        "else:\n",
        "  print(\"Lulus!\")"
      ]
    },
    {
      "cell_type": "markdown",
      "id": "e53ee29a",
      "metadata": {
        "id": "e53ee29a"
      },
      "source": [
        "### else if"
      ]
    },
    {
      "cell_type": "markdown",
      "id": "ed1b2a16",
      "metadata": {
        "id": "ed1b2a16"
      },
      "source": [
        "Karena di desak kebutuhan untuk menggunakan laptop tersebut, akhirnya Wawan mencari alternatif laptop lain dengan harga yang lebih murah. Setelah melakukan pencarian, dia mendapatkan dua alternatif, yaitu laptop brand 'fgh' dengan harga 15 juta dan laptop 'xyz' dengan harga 10 juta."
      ]
    },
    {
      "cell_type": "code",
      "execution_count": null,
      "id": "2cd7bf49",
      "metadata": {
        "id": "2cd7bf49"
      },
      "outputs": [],
      "source": [
        "laptop_fgh = 15000000\n",
        "laptop_xyz = 10000000"
      ]
    },
    {
      "cell_type": "markdown",
      "id": "0a7ed1ba",
      "metadata": {
        "id": "0a7ed1ba"
      },
      "source": [
        "Sehingga, kondisi di atas jika di tuliskan ke dalam bentuk kode akan seperti berikut:"
      ]
    },
    {
      "cell_type": "code",
      "execution_count": null,
      "id": "0883a03a",
      "metadata": {
        "id": "0883a03a",
        "colab": {
          "base_uri": "https://localhost:8080/"
        },
        "outputId": "b4038d95-0ef3-4a1d-d5ee-c03a96799595"
      },
      "outputs": [
        {
          "output_type": "stream",
          "name": "stdout",
          "text": [
            "beli laptop 'fgh'\n"
          ]
        }
      ],
      "source": [
        "if uang_wawan >= harga_laptop:\n",
        "    print(\"beli laptop 'bcd'\")\n",
        "elif uang_wawan >= laptop_fgh:\n",
        "    print(\"beli laptop 'fgh'\")\n",
        "elif uang_wawan >= laptop_xyz:\n",
        "    print(\"beli laptop 'xyz'\")\n",
        "else:\n",
        "    print(\"Menabung dulu sampai uang cukup!\")"
      ]
    },
    {
      "cell_type": "markdown",
      "id": "ae3e70a7",
      "metadata": {
        "id": "ae3e70a7"
      },
      "source": [
        "---\n",
        "**Exercise**"
      ]
    },
    {
      "cell_type": "code",
      "execution_count": null,
      "id": "d633bc04",
      "metadata": {
        "id": "d633bc04",
        "colab": {
          "base_uri": "https://localhost:8080/"
        },
        "outputId": "fb09c753-0bfa-4dab-b682-7b4357388794"
      },
      "outputs": [
        {
          "output_type": "stream",
          "name": "stdout",
          "text": [
            "Makan spaghetti\n"
          ]
        }
      ],
      "source": [
        "# Masukkanlah nilai uang agar makan spaghetti\n",
        "uang = 60000\n",
        "if uang >= 100000:\n",
        "    print(\"Makan Steak\")\n",
        "elif uang >= 50000:\n",
        "    print(\"Makan spaghetti\")\n",
        "else:\n",
        "    print(\"Makan Nasi Goreng\")"
      ]
    },
    {
      "cell_type": "code",
      "execution_count": null,
      "id": "dd38eae9",
      "metadata": {
        "id": "dd38eae9",
        "colab": {
          "base_uri": "https://localhost:8080/"
        },
        "outputId": "ddf4174f-461b-4998-b095-3b073e68f9b0"
      },
      "outputs": [
        {
          "output_type": "stream",
          "name": "stdout",
          "text": [
            "Nilai B\n"
          ]
        }
      ],
      "source": [
        "# Buatlah conditional, jika nilai kurang dari sama dengan 50, maka C, jika 50-75 maka B, jika diatas 75 maka A\n",
        "nilai = 75\n",
        "if nilai <= 50:\n",
        "  print('Nilai C')\n",
        "elif nilai <=75 :\n",
        "  print(\"Nilai B\")\n",
        "else:\n",
        "  print(\"Nilai A\")\n"
      ]
    },
    {
      "cell_type": "markdown",
      "id": "1ba99385",
      "metadata": {
        "id": "1ba99385"
      },
      "source": [
        "## Nested Conditionals\n",
        "\n",
        "* Nested conditional atau *nested-if* adalah suatu kondisi dimana suatu pernyataan kondisional memiliki pernyataan kondisional lain didalamnya.\n",
        "* Biasanya digunakan ketika permasalahan semakin kompleks.\n",
        "* Namun, hal ini sebenarnya tidak direkomendasikan.\n",
        "* Karena jika nested if sangat panjang, akan mempersulit orang untuk membaca kode.\n",
        "* Sehingga akan cukup rawan untuk error.\n",
        "\n"
      ]
    },
    {
      "cell_type": "markdown",
      "id": "508f2865",
      "metadata": {
        "id": "508f2865"
      },
      "source": [
        "### Nested conditionals"
      ]
    },
    {
      "cell_type": "markdown",
      "id": "bed7c733",
      "metadata": {
        "id": "bed7c733"
      },
      "source": [
        "Yana saat ini bekerja sebagai sales sebuah brand sepeda motor. Tiap bulan, Yana perlu untuk menjual 10 sepeda motor. Namun, dari kantor dia bisa mendapatkan insentif jika mampu menjual 20 sepeda motor."
      ]
    },
    {
      "cell_type": "markdown",
      "id": "404cc88d",
      "metadata": {
        "id": "404cc88d"
      },
      "source": [
        "Bulan ini, Yana mampu menjual:"
      ]
    },
    {
      "cell_type": "code",
      "execution_count": null,
      "id": "edbb587a",
      "metadata": {
        "id": "edbb587a"
      },
      "outputs": [],
      "source": [
        "sales_yana = 30"
      ]
    },
    {
      "cell_type": "markdown",
      "id": "e89db6bd",
      "metadata": {
        "id": "e89db6bd"
      },
      "source": [
        "Cek status sales Yana apakah sudah memenuhi target atau belum. Dan jika iya, apakah Yana bisa mendapatkan insentif bulan ini."
      ]
    },
    {
      "cell_type": "code",
      "execution_count": null,
      "id": "5f9aa107",
      "metadata": {
        "id": "5f9aa107"
      },
      "outputs": [],
      "source": [
        "target_penjualan = 10"
      ]
    },
    {
      "cell_type": "code",
      "execution_count": null,
      "id": "301fa723",
      "metadata": {
        "id": "301fa723"
      },
      "outputs": [],
      "source": [
        "target_insentif = 20"
      ]
    },
    {
      "cell_type": "code",
      "execution_count": null,
      "id": "87775d46",
      "metadata": {
        "id": "87775d46",
        "colab": {
          "base_uri": "https://localhost:8080/"
        },
        "outputId": "9c773e6f-df3e-4643-de45-aa5257d2be86"
      },
      "outputs": [
        {
          "output_type": "stream",
          "name": "stdout",
          "text": [
            "Yana memenuhi target dan mendapatkan insentif\n"
          ]
        }
      ],
      "source": [
        "if sales_yana >= target_penjualan:\n",
        "    if sales_yana >= target_insentif:\n",
        "        print('Yana memenuhi target dan mendapatkan insentif')\n",
        "    else:\n",
        "        print('Yana memenuhi target')\n",
        "else:\n",
        "    print('Yana belum memenuhi target')"
      ]
    },
    {
      "cell_type": "markdown",
      "id": "0abf3332",
      "metadata": {
        "id": "0abf3332"
      },
      "source": [
        "---\n",
        "**Exercise**"
      ]
    },
    {
      "cell_type": "code",
      "execution_count": null,
      "id": "4627e611",
      "metadata": {
        "id": "4627e611",
        "colab": {
          "base_uri": "https://localhost:8080/"
        },
        "outputId": "7ed4da76-aa64-44e4-c968-6bdf63eab44b"
      },
      "outputs": [
        {
          "output_type": "stream",
          "name": "stdout",
          "text": [
            "Angka ganjil kecil\n"
          ]
        }
      ],
      "source": [
        "# Buatlah nested if untuk kondisi berikut jika nilai a kurang dari 10, maka lihat apakah\n",
        "# Angka tersebut genap atau ganjil, jika genap maka print \"angka genap kecil\" jika ganjil \"angka ganjil kecil\"\n",
        "# Selain itu print \"angka besar\"\n",
        "\n",
        "if a < 10:\n",
        "    if a % 2 == 0:\n",
        "        print('Angka genap kecil')\n",
        "    else:\n",
        "        print('Angka ganjil kecil')\n",
        "else:\n",
        "    print('Angka besar')"
      ]
    },
    {
      "cell_type": "code",
      "execution_count": null,
      "id": "02e60970",
      "metadata": {
        "id": "02e60970"
      },
      "outputs": [],
      "source": []
    },
    {
      "cell_type": "code",
      "execution_count": null,
      "id": "1fbcfbbf",
      "metadata": {
        "id": "1fbcfbbf"
      },
      "outputs": [],
      "source": []
    },
    {
      "cell_type": "code",
      "execution_count": null,
      "id": "9d99f4a3",
      "metadata": {
        "id": "9d99f4a3"
      },
      "outputs": [],
      "source": []
    },
    {
      "cell_type": "code",
      "execution_count": null,
      "id": "b1e04f7f",
      "metadata": {
        "id": "b1e04f7f"
      },
      "outputs": [],
      "source": []
    },
    {
      "cell_type": "code",
      "execution_count": null,
      "id": "883d6c74",
      "metadata": {
        "id": "883d6c74"
      },
      "outputs": [],
      "source": []
    },
    {
      "cell_type": "code",
      "execution_count": null,
      "id": "21737757",
      "metadata": {
        "id": "21737757"
      },
      "outputs": [],
      "source": []
    }
  ],
  "metadata": {
    "kernelspec": {
      "display_name": "Python 3 (ipykernel)",
      "language": "python",
      "name": "python3"
    },
    "language_info": {
      "codemirror_mode": {
        "name": "ipython",
        "version": 3
      },
      "file_extension": ".py",
      "mimetype": "text/x-python",
      "name": "python",
      "nbconvert_exporter": "python",
      "pygments_lexer": "ipython3",
      "version": "3.8.13"
    },
    "colab": {
      "provenance": [],
      "include_colab_link": true
    }
  },
  "nbformat": 4,
  "nbformat_minor": 5
}