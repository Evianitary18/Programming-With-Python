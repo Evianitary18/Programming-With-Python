{
  "nbformat": 4,
  "nbformat_minor": 0,
  "metadata": {
    "colab": {
      "provenance": [],
      "authorship_tag": "ABX9TyOfWniCZSV3465LqP8iV3PU",
      "include_colab_link": true
    },
    "kernelspec": {
      "name": "python3",
      "display_name": "Python 3"
    },
    "language_info": {
      "name": "python"
    }
  },
  "cells": [
    {
      "cell_type": "markdown",
      "metadata": {
        "id": "view-in-github",
        "colab_type": "text"
      },
      "source": [
        "<a href=\"https://colab.research.google.com/github/Evianitary18/Programming-With-Python/blob/main/Evianita_Rifka_Yulistia_Data_Assessment.ipynb\" target=\"_parent\"><img src=\"https://colab.research.google.com/assets/colab-badge.svg\" alt=\"Open In Colab\"/></a>"
      ]
    },
    {
      "cell_type": "markdown",
      "source": [
        "# **Study Case**"
      ],
      "metadata": {
        "id": "U0qQZoGZP5J4"
      }
    },
    {
      "cell_type": "markdown",
      "source": [
        "The task is to study the data and show a new view of data that clearly shows which interation is likely done by the human and which is likely done by a programme/automation."
      ],
      "metadata": {
        "id": "DQzH_84HP9U9"
      }
    },
    {
      "cell_type": "markdown",
      "source": [
        "# Data Preparation"
      ],
      "metadata": {
        "id": "ui960DRAQNj9"
      }
    },
    {
      "cell_type": "code",
      "execution_count": 1,
      "metadata": {
        "id": "2gTK2XprPFqW"
      },
      "outputs": [],
      "source": [
        "# import library\n",
        "import matplotlib.pyplot as plt\n",
        "import numpy as np\n",
        "import pandas as pd\n",
        "import seaborn as sns\n",
        "from sklearn.pipeline import Pipeline\n",
        "from sklearn.preprocessing import StandardScaler,PolynomialFeatures\n",
        "from sklearn.linear_model import LinearRegression\n",
        "from scipy.stats import zscore\n",
        "import statsmodels.api as sa\n",
        "import statsmodels.formula.api as sm\n",
        "%matplotlib inline"
      ]
    },
    {
      "cell_type": "code",
      "source": [
        "import warnings\n",
        "warnings.filterwarnings('ignore')\n",
        ""
      ],
      "metadata": {
        "id": "gpLft_31QPCD"
      },
      "execution_count": 2,
      "outputs": []
    },
    {
      "cell_type": "code",
      "source": [
        "df_project = pd.read_csv('DataAssessment.csv')\n",
        "df_project.head()"
      ],
      "metadata": {
        "colab": {
          "base_uri": "https://localhost:8080/",
          "height": 293
        },
        "id": "hasSxh7nQcQm",
        "outputId": "2a012e44-caee-48c9-cbb7-b857e454c80d"
      },
      "execution_count": 3,
      "outputs": [
        {
          "output_type": "execute_result",
          "data": {
            "text/plain": [
              "  Interaction                   ts  \\\n",
              "0     Clicked  10-11-2024 08:15:50   \n",
              "1     Clicked  10-11-2024 08:15:50   \n",
              "2     Clicked  10-11-2024 08:13:57   \n",
              "3     Clicked  10-11-2024 08:13:57   \n",
              "4     Clicked  10-11-2024 08:13:57   \n",
              "\n",
              "                                      Recipient Name  \\\n",
              "0  Aaron -Secure Renewals and Maximize Upsell Opp...   \n",
              "1  Aaron -Secure Renewals and Maximize Upsell Opp...   \n",
              "2  Aaron -Secure Renewals and Maximize Upsell Opp...   \n",
              "3  Aaron -Secure Renewals and Maximize Upsell Opp...   \n",
              "4  Aaron -Secure Renewals and Maximize Upsell Opp...   \n",
              "\n",
              "                                               mid  \\\n",
              "0  <202411090832.66440413171@smtp-relay.mailin.fr>   \n",
              "1  <202411090832.66440413171@smtp-relay.mailin.fr>   \n",
              "2  <202411090832.66440413171@smtp-relay.mailin.fr>   \n",
              "3  <202411090832.66440413171@smtp-relay.mailin.fr>   \n",
              "4  <202411090832.66440413171@smtp-relay.mailin.fr>   \n",
              "\n",
              "                                                link  \n",
              "0  https://release-notes-manager.betrbeta.com/hom...  \n",
              "1  https://release-notes-manager.betrbeta.com/hom...  \n",
              "2  https://release-notes-manager.betrbeta.com/hom...  \n",
              "3  https://www.linkedin.com/company/betr-beta/?_s...  \n",
              "4  https://hgjghbj.r.bh.d.sendibt3.com/tr/mr/EMkW...  "
            ],
            "text/html": [
              "\n",
              "  <div id=\"df-47ff0497-e15b-4ce1-bf65-f3e31ff49c1e\" class=\"colab-df-container\">\n",
              "    <div>\n",
              "<style scoped>\n",
              "    .dataframe tbody tr th:only-of-type {\n",
              "        vertical-align: middle;\n",
              "    }\n",
              "\n",
              "    .dataframe tbody tr th {\n",
              "        vertical-align: top;\n",
              "    }\n",
              "\n",
              "    .dataframe thead th {\n",
              "        text-align: right;\n",
              "    }\n",
              "</style>\n",
              "<table border=\"1\" class=\"dataframe\">\n",
              "  <thead>\n",
              "    <tr style=\"text-align: right;\">\n",
              "      <th></th>\n",
              "      <th>Interaction</th>\n",
              "      <th>ts</th>\n",
              "      <th>Recipient Name</th>\n",
              "      <th>mid</th>\n",
              "      <th>link</th>\n",
              "    </tr>\n",
              "  </thead>\n",
              "  <tbody>\n",
              "    <tr>\n",
              "      <th>0</th>\n",
              "      <td>Clicked</td>\n",
              "      <td>10-11-2024 08:15:50</td>\n",
              "      <td>Aaron -Secure Renewals and Maximize Upsell Opp...</td>\n",
              "      <td>&lt;202411090832.66440413171@smtp-relay.mailin.fr&gt;</td>\n",
              "      <td>https://release-notes-manager.betrbeta.com/hom...</td>\n",
              "    </tr>\n",
              "    <tr>\n",
              "      <th>1</th>\n",
              "      <td>Clicked</td>\n",
              "      <td>10-11-2024 08:15:50</td>\n",
              "      <td>Aaron -Secure Renewals and Maximize Upsell Opp...</td>\n",
              "      <td>&lt;202411090832.66440413171@smtp-relay.mailin.fr&gt;</td>\n",
              "      <td>https://release-notes-manager.betrbeta.com/hom...</td>\n",
              "    </tr>\n",
              "    <tr>\n",
              "      <th>2</th>\n",
              "      <td>Clicked</td>\n",
              "      <td>10-11-2024 08:13:57</td>\n",
              "      <td>Aaron -Secure Renewals and Maximize Upsell Opp...</td>\n",
              "      <td>&lt;202411090832.66440413171@smtp-relay.mailin.fr&gt;</td>\n",
              "      <td>https://release-notes-manager.betrbeta.com/hom...</td>\n",
              "    </tr>\n",
              "    <tr>\n",
              "      <th>3</th>\n",
              "      <td>Clicked</td>\n",
              "      <td>10-11-2024 08:13:57</td>\n",
              "      <td>Aaron -Secure Renewals and Maximize Upsell Opp...</td>\n",
              "      <td>&lt;202411090832.66440413171@smtp-relay.mailin.fr&gt;</td>\n",
              "      <td>https://www.linkedin.com/company/betr-beta/?_s...</td>\n",
              "    </tr>\n",
              "    <tr>\n",
              "      <th>4</th>\n",
              "      <td>Clicked</td>\n",
              "      <td>10-11-2024 08:13:57</td>\n",
              "      <td>Aaron -Secure Renewals and Maximize Upsell Opp...</td>\n",
              "      <td>&lt;202411090832.66440413171@smtp-relay.mailin.fr&gt;</td>\n",
              "      <td>https://hgjghbj.r.bh.d.sendibt3.com/tr/mr/EMkW...</td>\n",
              "    </tr>\n",
              "  </tbody>\n",
              "</table>\n",
              "</div>\n",
              "    <div class=\"colab-df-buttons\">\n",
              "\n",
              "  <div class=\"colab-df-container\">\n",
              "    <button class=\"colab-df-convert\" onclick=\"convertToInteractive('df-47ff0497-e15b-4ce1-bf65-f3e31ff49c1e')\"\n",
              "            title=\"Convert this dataframe to an interactive table.\"\n",
              "            style=\"display:none;\">\n",
              "\n",
              "  <svg xmlns=\"http://www.w3.org/2000/svg\" height=\"24px\" viewBox=\"0 -960 960 960\">\n",
              "    <path d=\"M120-120v-720h720v720H120Zm60-500h600v-160H180v160Zm220 220h160v-160H400v160Zm0 220h160v-160H400v160ZM180-400h160v-160H180v160Zm440 0h160v-160H620v160ZM180-180h160v-160H180v160Zm440 0h160v-160H620v160Z\"/>\n",
              "  </svg>\n",
              "    </button>\n",
              "\n",
              "  <style>\n",
              "    .colab-df-container {\n",
              "      display:flex;\n",
              "      gap: 12px;\n",
              "    }\n",
              "\n",
              "    .colab-df-convert {\n",
              "      background-color: #E8F0FE;\n",
              "      border: none;\n",
              "      border-radius: 50%;\n",
              "      cursor: pointer;\n",
              "      display: none;\n",
              "      fill: #1967D2;\n",
              "      height: 32px;\n",
              "      padding: 0 0 0 0;\n",
              "      width: 32px;\n",
              "    }\n",
              "\n",
              "    .colab-df-convert:hover {\n",
              "      background-color: #E2EBFA;\n",
              "      box-shadow: 0px 1px 2px rgba(60, 64, 67, 0.3), 0px 1px 3px 1px rgba(60, 64, 67, 0.15);\n",
              "      fill: #174EA6;\n",
              "    }\n",
              "\n",
              "    .colab-df-buttons div {\n",
              "      margin-bottom: 4px;\n",
              "    }\n",
              "\n",
              "    [theme=dark] .colab-df-convert {\n",
              "      background-color: #3B4455;\n",
              "      fill: #D2E3FC;\n",
              "    }\n",
              "\n",
              "    [theme=dark] .colab-df-convert:hover {\n",
              "      background-color: #434B5C;\n",
              "      box-shadow: 0px 1px 3px 1px rgba(0, 0, 0, 0.15);\n",
              "      filter: drop-shadow(0px 1px 2px rgba(0, 0, 0, 0.3));\n",
              "      fill: #FFFFFF;\n",
              "    }\n",
              "  </style>\n",
              "\n",
              "    <script>\n",
              "      const buttonEl =\n",
              "        document.querySelector('#df-47ff0497-e15b-4ce1-bf65-f3e31ff49c1e button.colab-df-convert');\n",
              "      buttonEl.style.display =\n",
              "        google.colab.kernel.accessAllowed ? 'block' : 'none';\n",
              "\n",
              "      async function convertToInteractive(key) {\n",
              "        const element = document.querySelector('#df-47ff0497-e15b-4ce1-bf65-f3e31ff49c1e');\n",
              "        const dataTable =\n",
              "          await google.colab.kernel.invokeFunction('convertToInteractive',\n",
              "                                                    [key], {});\n",
              "        if (!dataTable) return;\n",
              "\n",
              "        const docLinkHtml = 'Like what you see? Visit the ' +\n",
              "          '<a target=\"_blank\" href=https://colab.research.google.com/notebooks/data_table.ipynb>data table notebook</a>'\n",
              "          + ' to learn more about interactive tables.';\n",
              "        element.innerHTML = '';\n",
              "        dataTable['output_type'] = 'display_data';\n",
              "        await google.colab.output.renderOutput(dataTable, element);\n",
              "        const docLink = document.createElement('div');\n",
              "        docLink.innerHTML = docLinkHtml;\n",
              "        element.appendChild(docLink);\n",
              "      }\n",
              "    </script>\n",
              "  </div>\n",
              "\n",
              "\n",
              "<div id=\"df-d1a875f0-e8bd-4452-a1b8-fe6a8a1434df\">\n",
              "  <button class=\"colab-df-quickchart\" onclick=\"quickchart('df-d1a875f0-e8bd-4452-a1b8-fe6a8a1434df')\"\n",
              "            title=\"Suggest charts\"\n",
              "            style=\"display:none;\">\n",
              "\n",
              "<svg xmlns=\"http://www.w3.org/2000/svg\" height=\"24px\"viewBox=\"0 0 24 24\"\n",
              "     width=\"24px\">\n",
              "    <g>\n",
              "        <path d=\"M19 3H5c-1.1 0-2 .9-2 2v14c0 1.1.9 2 2 2h14c1.1 0 2-.9 2-2V5c0-1.1-.9-2-2-2zM9 17H7v-7h2v7zm4 0h-2V7h2v10zm4 0h-2v-4h2v4z\"/>\n",
              "    </g>\n",
              "</svg>\n",
              "  </button>\n",
              "\n",
              "<style>\n",
              "  .colab-df-quickchart {\n",
              "      --bg-color: #E8F0FE;\n",
              "      --fill-color: #1967D2;\n",
              "      --hover-bg-color: #E2EBFA;\n",
              "      --hover-fill-color: #174EA6;\n",
              "      --disabled-fill-color: #AAA;\n",
              "      --disabled-bg-color: #DDD;\n",
              "  }\n",
              "\n",
              "  [theme=dark] .colab-df-quickchart {\n",
              "      --bg-color: #3B4455;\n",
              "      --fill-color: #D2E3FC;\n",
              "      --hover-bg-color: #434B5C;\n",
              "      --hover-fill-color: #FFFFFF;\n",
              "      --disabled-bg-color: #3B4455;\n",
              "      --disabled-fill-color: #666;\n",
              "  }\n",
              "\n",
              "  .colab-df-quickchart {\n",
              "    background-color: var(--bg-color);\n",
              "    border: none;\n",
              "    border-radius: 50%;\n",
              "    cursor: pointer;\n",
              "    display: none;\n",
              "    fill: var(--fill-color);\n",
              "    height: 32px;\n",
              "    padding: 0;\n",
              "    width: 32px;\n",
              "  }\n",
              "\n",
              "  .colab-df-quickchart:hover {\n",
              "    background-color: var(--hover-bg-color);\n",
              "    box-shadow: 0 1px 2px rgba(60, 64, 67, 0.3), 0 1px 3px 1px rgba(60, 64, 67, 0.15);\n",
              "    fill: var(--button-hover-fill-color);\n",
              "  }\n",
              "\n",
              "  .colab-df-quickchart-complete:disabled,\n",
              "  .colab-df-quickchart-complete:disabled:hover {\n",
              "    background-color: var(--disabled-bg-color);\n",
              "    fill: var(--disabled-fill-color);\n",
              "    box-shadow: none;\n",
              "  }\n",
              "\n",
              "  .colab-df-spinner {\n",
              "    border: 2px solid var(--fill-color);\n",
              "    border-color: transparent;\n",
              "    border-bottom-color: var(--fill-color);\n",
              "    animation:\n",
              "      spin 1s steps(1) infinite;\n",
              "  }\n",
              "\n",
              "  @keyframes spin {\n",
              "    0% {\n",
              "      border-color: transparent;\n",
              "      border-bottom-color: var(--fill-color);\n",
              "      border-left-color: var(--fill-color);\n",
              "    }\n",
              "    20% {\n",
              "      border-color: transparent;\n",
              "      border-left-color: var(--fill-color);\n",
              "      border-top-color: var(--fill-color);\n",
              "    }\n",
              "    30% {\n",
              "      border-color: transparent;\n",
              "      border-left-color: var(--fill-color);\n",
              "      border-top-color: var(--fill-color);\n",
              "      border-right-color: var(--fill-color);\n",
              "    }\n",
              "    40% {\n",
              "      border-color: transparent;\n",
              "      border-right-color: var(--fill-color);\n",
              "      border-top-color: var(--fill-color);\n",
              "    }\n",
              "    60% {\n",
              "      border-color: transparent;\n",
              "      border-right-color: var(--fill-color);\n",
              "    }\n",
              "    80% {\n",
              "      border-color: transparent;\n",
              "      border-right-color: var(--fill-color);\n",
              "      border-bottom-color: var(--fill-color);\n",
              "    }\n",
              "    90% {\n",
              "      border-color: transparent;\n",
              "      border-bottom-color: var(--fill-color);\n",
              "    }\n",
              "  }\n",
              "</style>\n",
              "\n",
              "  <script>\n",
              "    async function quickchart(key) {\n",
              "      const quickchartButtonEl =\n",
              "        document.querySelector('#' + key + ' button');\n",
              "      quickchartButtonEl.disabled = true;  // To prevent multiple clicks.\n",
              "      quickchartButtonEl.classList.add('colab-df-spinner');\n",
              "      try {\n",
              "        const charts = await google.colab.kernel.invokeFunction(\n",
              "            'suggestCharts', [key], {});\n",
              "      } catch (error) {\n",
              "        console.error('Error during call to suggestCharts:', error);\n",
              "      }\n",
              "      quickchartButtonEl.classList.remove('colab-df-spinner');\n",
              "      quickchartButtonEl.classList.add('colab-df-quickchart-complete');\n",
              "    }\n",
              "    (() => {\n",
              "      let quickchartButtonEl =\n",
              "        document.querySelector('#df-d1a875f0-e8bd-4452-a1b8-fe6a8a1434df button');\n",
              "      quickchartButtonEl.style.display =\n",
              "        google.colab.kernel.accessAllowed ? 'block' : 'none';\n",
              "    })();\n",
              "  </script>\n",
              "</div>\n",
              "\n",
              "    </div>\n",
              "  </div>\n"
            ],
            "application/vnd.google.colaboratory.intrinsic+json": {
              "type": "dataframe",
              "variable_name": "df_project",
              "summary": "{\n  \"name\": \"df_project\",\n  \"rows\": 1614,\n  \"fields\": [\n    {\n      \"column\": \"Interaction\",\n      \"properties\": {\n        \"dtype\": \"category\",\n        \"num_unique_values\": 2,\n        \"samples\": [\n          \"First opening\",\n          \"Clicked\"\n        ],\n        \"semantic_type\": \"\",\n        \"description\": \"\"\n      }\n    },\n    {\n      \"column\": \"ts\",\n      \"properties\": {\n        \"dtype\": \"object\",\n        \"num_unique_values\": 197,\n        \"samples\": [\n          \"10-11-2024 08:17:03\",\n          \"10-11-2024 09:14:55\"\n        ],\n        \"semantic_type\": \"\",\n        \"description\": \"\"\n      }\n    },\n    {\n      \"column\": \"Recipient Name\",\n      \"properties\": {\n        \"dtype\": \"category\",\n        \"num_unique_values\": 136,\n        \"samples\": [\n          \"Emily -Secure Renewals and Maximize Upsell Opportunities with This Simple Tip\",\n          \"Christian -Secure Renewals and Maximize Upsell Opportunities with This Simple Tip\"\n        ],\n        \"semantic_type\": \"\",\n        \"description\": \"\"\n      }\n    },\n    {\n      \"column\": \"mid\",\n      \"properties\": {\n        \"dtype\": \"category\",\n        \"num_unique_values\": 181,\n        \"samples\": [\n          \"<202411090832.85872120165@smtp-relay.mailin.fr>\",\n          \"<202411090832.69687073686@smtp-relay.mailin.fr>\"\n        ],\n        \"semantic_type\": \"\",\n        \"description\": \"\"\n      }\n    },\n    {\n      \"column\": \"link\",\n      \"properties\": {\n        \"dtype\": \"string\",\n        \"num_unique_values\": 1136,\n        \"samples\": [\n          \"https://release-notes-manager.betrbeta.com/pricing?_se=aGJ5bWFuQGxleG1hcmsuY29t\",\n          \"https://www.linkedin.com/company/betr-beta/?_se=amVmZi5lZ2dsZXN0b25Ac2UuY29t\"\n        ],\n        \"semantic_type\": \"\",\n        \"description\": \"\"\n      }\n    }\n  ]\n}"
            }
          },
          "metadata": {},
          "execution_count": 3
        }
      ]
    },
    {
      "cell_type": "markdown",
      "source": [
        "# EDA"
      ],
      "metadata": {
        "id": "sJwk28hlQ52i"
      }
    },
    {
      "cell_type": "code",
      "source": [
        "df_project.shape"
      ],
      "metadata": {
        "colab": {
          "base_uri": "https://localhost:8080/"
        },
        "id": "Acq7_XJqRA1e",
        "outputId": "46883fde-8a15-4449-a173-470d68851bd7"
      },
      "execution_count": 4,
      "outputs": [
        {
          "output_type": "execute_result",
          "data": {
            "text/plain": [
              "(1614, 5)"
            ]
          },
          "metadata": {},
          "execution_count": 4
        }
      ]
    },
    {
      "cell_type": "code",
      "source": [
        "df_project.info()"
      ],
      "metadata": {
        "colab": {
          "base_uri": "https://localhost:8080/"
        },
        "id": "-rINJdxSRFn9",
        "outputId": "23b840b5-a9da-4914-f59e-2c35ce9a4017"
      },
      "execution_count": 5,
      "outputs": [
        {
          "output_type": "stream",
          "name": "stdout",
          "text": [
            "<class 'pandas.core.frame.DataFrame'>\n",
            "RangeIndex: 1614 entries, 0 to 1613\n",
            "Data columns (total 5 columns):\n",
            " #   Column          Non-Null Count  Dtype \n",
            "---  ------          --------------  ----- \n",
            " 0   Interaction     1614 non-null   object\n",
            " 1   ts              1614 non-null   object\n",
            " 2   Recipient Name  1614 non-null   object\n",
            " 3   mid             1614 non-null   object\n",
            " 4   link            1437 non-null   object\n",
            "dtypes: object(5)\n",
            "memory usage: 63.2+ KB\n"
          ]
        }
      ]
    },
    {
      "cell_type": "markdown",
      "source": [
        "# Data Cleaning\n",
        "\n",
        "\n"
      ],
      "metadata": {
        "id": "Tdqt36mPROsU"
      }
    },
    {
      "cell_type": "markdown",
      "source": [
        "**1. Missing Value**"
      ],
      "metadata": {
        "id": "pJ1vw0OyRbs3"
      }
    },
    {
      "cell_type": "code",
      "source": [
        "#ceck missing value\n",
        "missing_values = df_project.isnull().sum()\n",
        "if missing_values.sum() == 0:\n",
        "    print('No missing value')\n",
        "else:\n",
        "    print('Missing value', missing_values)"
      ],
      "metadata": {
        "colab": {
          "base_uri": "https://localhost:8080/"
        },
        "id": "6oDlS1qwRR1t",
        "outputId": "60c53994-fe33-47db-8b70-77ca35500125"
      },
      "execution_count": 6,
      "outputs": [
        {
          "output_type": "stream",
          "name": "stdout",
          "text": [
            "Missing value Interaction         0\n",
            "ts                  0\n",
            "Recipient Name      0\n",
            "mid                 0\n",
            "link              177\n",
            "dtype: int64\n"
          ]
        }
      ]
    },
    {
      "cell_type": "code",
      "source": [
        "# Delete Nan Values\n",
        "df_project = df_project.dropna(subset=['link'])"
      ],
      "metadata": {
        "id": "fbrzJzFJSHUy"
      },
      "execution_count": 7,
      "outputs": []
    },
    {
      "cell_type": "code",
      "source": [
        "# Make sure the data type is numeric\n",
        "df_project['link'] = pd.to_numeric(df_project['link'], errors='coerce')"
      ],
      "metadata": {
        "id": "e3IRvEgRSNuo"
      },
      "execution_count": 8,
      "outputs": []
    },
    {
      "cell_type": "code",
      "source": [
        "df_project.shape"
      ],
      "metadata": {
        "colab": {
          "base_uri": "https://localhost:8080/"
        },
        "id": "Hs00YfeeUl-s",
        "outputId": "cf5bab0e-7998-45e8-df4b-4bc08624d88e"
      },
      "execution_count": 18,
      "outputs": [
        {
          "output_type": "execute_result",
          "data": {
            "text/plain": [
              "(1437, 5)"
            ]
          },
          "metadata": {},
          "execution_count": 18
        }
      ]
    },
    {
      "cell_type": "markdown",
      "source": [
        "After the null 'link' values ​​are removed, there are 1437 rows left"
      ],
      "metadata": {
        "id": "QU5MQDYjUqil"
      }
    },
    {
      "cell_type": "markdown",
      "source": [
        "**2. Duplicate**"
      ],
      "metadata": {
        "id": "ELp_A5qiSx-7"
      }
    },
    {
      "cell_type": "code",
      "source": [
        "df_project.duplicated().sum()"
      ],
      "metadata": {
        "colab": {
          "base_uri": "https://localhost:8080/"
        },
        "id": "ccERoxTaS0p1",
        "outputId": "0d4217b9-3fbb-4645-e008-065db507d675"
      },
      "execution_count": 9,
      "outputs": [
        {
          "output_type": "execute_result",
          "data": {
            "text/plain": [
              "1138"
            ]
          },
          "metadata": {},
          "execution_count": 9
        }
      ]
    },
    {
      "cell_type": "code",
      "source": [
        "duplicates = df_project[df_project.duplicated()]\n",
        "print(duplicates)"
      ],
      "metadata": {
        "colab": {
          "base_uri": "https://localhost:8080/"
        },
        "id": "ij47nywYTZuw",
        "outputId": "11b82aae-bde7-497b-fb26-4596a15c348d"
      },
      "execution_count": 10,
      "outputs": [
        {
          "output_type": "stream",
          "name": "stdout",
          "text": [
            "     Interaction                   ts  \\\n",
            "1        Clicked  10-11-2024 08:15:50   \n",
            "3        Clicked  10-11-2024 08:13:57   \n",
            "4        Clicked  10-11-2024 08:13:57   \n",
            "5        Clicked  10-11-2024 08:13:57   \n",
            "6        Clicked  10-11-2024 08:13:57   \n",
            "...          ...                  ...   \n",
            "1608     Clicked  09-11-2024 16:32:40   \n",
            "1609     Clicked  09-11-2024 16:32:40   \n",
            "1610     Clicked  09-11-2024 16:32:40   \n",
            "1611     Clicked  09-11-2024 16:32:40   \n",
            "1612     Clicked  09-11-2024 16:32:40   \n",
            "\n",
            "                                         Recipient Name  \\\n",
            "1     Aaron -Secure Renewals and Maximize Upsell Opp...   \n",
            "3     Aaron -Secure Renewals and Maximize Upsell Opp...   \n",
            "4     Aaron -Secure Renewals and Maximize Upsell Opp...   \n",
            "5     Aaron -Secure Renewals and Maximize Upsell Opp...   \n",
            "6     Aaron -Secure Renewals and Maximize Upsell Opp...   \n",
            "...                                                 ...   \n",
            "1608  Kurt -Secure Renewals and Maximize Upsell Oppo...   \n",
            "1609  Kurt -Secure Renewals and Maximize Upsell Oppo...   \n",
            "1610  Kurt -Secure Renewals and Maximize Upsell Oppo...   \n",
            "1611  Kurt -Secure Renewals and Maximize Upsell Oppo...   \n",
            "1612  Kurt -Secure Renewals and Maximize Upsell Oppo...   \n",
            "\n",
            "                                                  mid  link  \n",
            "1     <202411090832.66440413171@smtp-relay.mailin.fr>   NaN  \n",
            "3     <202411090832.66440413171@smtp-relay.mailin.fr>   NaN  \n",
            "4     <202411090832.66440413171@smtp-relay.mailin.fr>   NaN  \n",
            "5     <202411090832.66440413171@smtp-relay.mailin.fr>   NaN  \n",
            "6     <202411090832.66440413171@smtp-relay.mailin.fr>   NaN  \n",
            "...                                               ...   ...  \n",
            "1608  <202411090832.33786177890@smtp-relay.mailin.fr>   NaN  \n",
            "1609  <202411090832.33786177890@smtp-relay.mailin.fr>   NaN  \n",
            "1610  <202411090832.33786177890@smtp-relay.mailin.fr>   NaN  \n",
            "1611  <202411090832.33786177890@smtp-relay.mailin.fr>   NaN  \n",
            "1612  <202411090832.33786177890@smtp-relay.mailin.fr>   NaN  \n",
            "\n",
            "[1138 rows x 5 columns]\n"
          ]
        }
      ]
    },
    {
      "cell_type": "markdown",
      "source": [
        "**3. Typo**"
      ],
      "metadata": {
        "id": "doWChb5Q8ryh"
      }
    },
    {
      "cell_type": "code",
      "source": [
        "# let's look at the contents of the Interaction column\n",
        "df_project[\"Interaction\"].unique()"
      ],
      "metadata": {
        "colab": {
          "base_uri": "https://localhost:8080/"
        },
        "id": "ecVv9CN5T0kD",
        "outputId": "1e29fcd6-c7b5-416e-eef8-bf6d0675cfe1"
      },
      "execution_count": 12,
      "outputs": [
        {
          "output_type": "execute_result",
          "data": {
            "text/plain": [
              "array(['Clicked'], dtype=object)"
            ]
          },
          "metadata": {},
          "execution_count": 12
        }
      ]
    },
    {
      "cell_type": "code",
      "source": [
        "# let's look at the contents of the ts column\n",
        "df_project[\"ts\"].unique()"
      ],
      "metadata": {
        "colab": {
          "base_uri": "https://localhost:8080/"
        },
        "id": "2pa1oqwZ9NmL",
        "outputId": "79cdd5d6-a5a7-4950-ef6c-7df17d5640cd"
      },
      "execution_count": 13,
      "outputs": [
        {
          "output_type": "execute_result",
          "data": {
            "text/plain": [
              "array(['10-11-2024 08:15:50', '10-11-2024 08:13:57',\n",
              "       '10-11-2024 08:14:34', '10-11-2024 08:14:23',\n",
              "       '10-11-2024 08:17:04', '10-11-2024 08:14:28',\n",
              "       '10-11-2024 08:14:21', '10-11-2024 08:17:02',\n",
              "       '10-11-2024 08:14:24', '10-11-2024 08:15:49',\n",
              "       '10-11-2024 08:13:51', '10-11-2024 08:14:40',\n",
              "       '10-11-2024 08:14:29', '10-11-2024 08:15:36',\n",
              "       '10-11-2024 08:13:52', '10-11-2024 08:16:48',\n",
              "       '10-11-2024 08:14:17', '10-11-2024 08:14:20',\n",
              "       '10-11-2024 08:16:55', '10-11-2024 08:14:18',\n",
              "       '10-11-2024 08:16:14', '10-11-2024 08:13:55',\n",
              "       '10-11-2024 08:15:43', '10-11-2024 08:14:02',\n",
              "       '10-11-2024 08:15:58', '10-11-2024 08:15:42',\n",
              "       '10-11-2024 08:13:54', '10-11-2024 08:16:22',\n",
              "       '10-11-2024 08:14:15', '10-11-2024 08:15:46',\n",
              "       '10-11-2024 08:13:56', '10-11-2024 08:15:59',\n",
              "       '10-11-2024 08:13:32', '10-11-2024 08:14:27',\n",
              "       '10-11-2024 08:14:25', '10-11-2024 08:14:49',\n",
              "       '10-11-2024 08:14:35', '10-11-2024 08:16:57',\n",
              "       '10-11-2024 08:14:22', '10-11-2024 08:15:53',\n",
              "       '10-11-2024 08:14:01', '10-11-2024 08:13:58',\n",
              "       '10-11-2024 08:17:50', '10-11-2024 08:15:26',\n",
              "       '10-11-2024 08:16:02', '10-11-2024 08:16:36',\n",
              "       '10-11-2024 08:14:19', '10-11-2024 08:15:44',\n",
              "       '10-11-2024 08:13:53', '10-11-2024 08:15:28',\n",
              "       '10-11-2024 08:16:47', '10-11-2024 08:16:43',\n",
              "       '10-11-2024 08:14:54', '10-11-2024 08:16:54',\n",
              "       '10-11-2024 08:14:32', '10-11-2024 08:16:19',\n",
              "       '10-11-2024 08:14:03', '10-11-2024 08:16:41',\n",
              "       '10-11-2024 08:17:27', '10-11-2024 08:14:37',\n",
              "       '10-11-2024 08:13:33', '10-11-2024 08:13:59',\n",
              "       '10-11-2024 08:14:00', '10-11-2024 08:14:04',\n",
              "       '10-11-2024 08:13:42', '10-11-2024 08:13:35',\n",
              "       '10-11-2024 08:15:34', '10-11-2024 08:15:33',\n",
              "       '10-11-2024 08:16:38', '10-11-2024 08:14:57',\n",
              "       '10-11-2024 08:17:05', '10-11-2024 08:14:08',\n",
              "       '10-11-2024 08:16:35', '10-11-2024 08:14:38',\n",
              "       '10-11-2024 08:16:51', '10-11-2024 08:16:42',\n",
              "       '10-11-2024 08:15:25', '10-11-2024 08:13:48',\n",
              "       '10-11-2024 08:21:30', '10-11-2024 08:14:16',\n",
              "       '10-11-2024 08:16:37', '10-11-2024 08:14:30',\n",
              "       '10-11-2024 08:16:13', '10-11-2024 08:16:34',\n",
              "       '10-11-2024 08:15:57', '10-11-2024 08:14:11',\n",
              "       '10-11-2024 08:16:59', '10-11-2024 08:16:52',\n",
              "       '10-11-2024 08:14:14', '10-11-2024 08:15:41',\n",
              "       '10-11-2024 08:17:13', '10-11-2024 08:16:15',\n",
              "       '10-11-2024 08:17:56', '10-11-2024 09:17:54',\n",
              "       '10-11-2024 09:14:55', '10-11-2024 08:18:11',\n",
              "       '10-11-2024 08:15:31', '10-11-2024 08:14:07',\n",
              "       '10-11-2024 08:19:43', '10-11-2024 08:16:31',\n",
              "       '10-11-2024 08:14:31', '10-11-2024 08:14:10',\n",
              "       '10-11-2024 08:19:54', '10-11-2024 08:17:29',\n",
              "       '10-11-2024 08:15:56', '10-11-2024 08:16:53',\n",
              "       '10-11-2024 08:15:39', '10-11-2024 08:14:09',\n",
              "       '09-11-2024 16:32:45', '10-11-2024 08:17:10',\n",
              "       '09-11-2024 16:32:52', '10-11-2024 08:14:55',\n",
              "       '10-11-2024 08:13:46', '10-11-2024 08:13:39',\n",
              "       '10-11-2024 08:13:31', '10-11-2024 08:16:58',\n",
              "       '09-11-2024 16:32:49', '10-11-2024 08:17:03',\n",
              "       '10-11-2024 08:17:46', '10-11-2024 08:15:17',\n",
              "       '10-11-2024 08:15:04', '10-11-2024 08:15:40',\n",
              "       '09-11-2024 16:32:47', '09-11-2024 16:33:17',\n",
              "       '10-11-2024 08:16:44', '10-11-2024 08:14:13',\n",
              "       '09-11-2024 16:33:06', '09-11-2024 16:33:07',\n",
              "       '10-11-2024 08:15:38', '09-11-2024 16:32:50',\n",
              "       '09-11-2024 16:32:43', '09-11-2024 16:33:08',\n",
              "       '09-11-2024 16:32:39', '09-11-2024 16:35:05',\n",
              "       '09-11-2024 16:33:13', '09-11-2024 16:33:14',\n",
              "       '09-11-2024 16:32:37', '09-11-2024 16:32:42',\n",
              "       '09-11-2024 16:33:10', '09-11-2024 16:33:03',\n",
              "       '09-11-2024 16:32:46', '09-11-2024 16:32:55',\n",
              "       '09-11-2024 16:32:41', '09-11-2024 16:33:04',\n",
              "       '09-11-2024 16:33:09', '09-11-2024 16:32:24',\n",
              "       '09-11-2024 16:33:20', '09-11-2024 16:37:53',\n",
              "       '09-11-2024 16:33:15', '09-11-2024 16:33:01',\n",
              "       '09-11-2024 16:32:48', '09-11-2024 16:32:36',\n",
              "       '09-11-2024 16:33:27', '09-11-2024 16:33:26',\n",
              "       '09-11-2024 16:32:51', '09-11-2024 16:32:40',\n",
              "       '09-11-2024 16:36:11', '09-11-2024 16:33:16'], dtype=object)"
            ]
          },
          "metadata": {},
          "execution_count": 13
        }
      ]
    },
    {
      "cell_type": "code",
      "source": [
        "# let's look at the contents of the Recipient Name column\n",
        "df_project[\"Recipient Name\"].unique()"
      ],
      "metadata": {
        "colab": {
          "base_uri": "https://localhost:8080/"
        },
        "id": "mVh3zLs59XFr",
        "outputId": "4a8c2d5c-47cc-4ce7-df2e-2c71ddea2680"
      },
      "execution_count": 14,
      "outputs": [
        {
          "output_type": "execute_result",
          "data": {
            "text/plain": [
              "array(['Aaron -Secure Renewals and Maximize Upsell Opportunities with This Simple Tip',\n",
              "       'Amy -Secure Renewals and Maximize Upsell Opportunities with This Simple Tip',\n",
              "       'Adam -Secure Renewals and Maximize Upsell Opportunities with This Simple Tip',\n",
              "       'Angie -Secure Renewals and Maximize Upsell Opportunities with This Simple Tip',\n",
              "       'Alan -Secure Renewals and Maximize Upsell Opportunities with This Simple Tip',\n",
              "       'Alexander -Secure Renewals and Maximize Upsell Opportunities with This Simple Tip',\n",
              "       'Alexei -Secure Renewals and Maximize Upsell Opportunities with This Simple Tip',\n",
              "       'Ali -Secure Renewals and Maximize Upsell Opportunities with This Simple Tip',\n",
              "       'Allison -Secure Renewals and Maximize Upsell Opportunities with This Simple Tip',\n",
              "       'Alyssa -Secure Renewals and Maximize Upsell Opportunities with This Simple Tip',\n",
              "       'Alessandro -Secure Renewals and Maximize Upsell Opportunities with This Simple Tip',\n",
              "       'Andrea -Secure Renewals and Maximize Upsell Opportunities with This Simple Tip',\n",
              "       'Andrew -Secure Renewals and Maximize Upsell Opportunities with This Simple Tip',\n",
              "       'Andy -Secure Renewals and Maximize Upsell Opportunities with This Simple Tip',\n",
              "       'Annette -Secure Renewals and Maximize Upsell Opportunities with This Simple Tip',\n",
              "       'Anthony -Secure Renewals and Maximize Upsell Opportunities with This Simple Tip',\n",
              "       'Audrey -Secure Renewals and Maximize Upsell Opportunities with This Simple Tip',\n",
              "       'Axel -Secure Renewals and Maximize Upsell Opportunities with This Simple Tip',\n",
              "       'Rebecca -Secure Renewals and Maximize Upsell Opportunities with This Simple Tip',\n",
              "       'Benee -Secure Renewals and Maximize Upsell Opportunities with This Simple Tip',\n",
              "       'Benjamin -Secure Renewals and Maximize Upsell Opportunities with This Simple Tip',\n",
              "       'Bill -Secure Renewals and Maximize Upsell Opportunities with This Simple Tip',\n",
              "       'Bob -Secure Renewals and Maximize Upsell Opportunities with This Simple Tip',\n",
              "       'Braheem -Secure Renewals and Maximize Upsell Opportunities with This Simple Tip',\n",
              "       'Brandon -Secure Renewals and Maximize Upsell Opportunities with This Simple Tip',\n",
              "       'Brett -Secure Renewals and Maximize Upsell Opportunities with This Simple Tip',\n",
              "       'Brian -Secure Renewals and Maximize Upsell Opportunities with This Simple Tip',\n",
              "       'Brittany -Secure Renewals and Maximize Upsell Opportunities with This Simple Tip',\n",
              "       'Brooke -Secure Renewals and Maximize Upsell Opportunities with This Simple Tip',\n",
              "       'Bruce -Secure Renewals and Maximize Upsell Opportunities with This Simple Tip',\n",
              "       'Bryan -Secure Renewals and Maximize Upsell Opportunities with This Simple Tip',\n",
              "       'Caiden -Secure Renewals and Maximize Upsell Opportunities with This Simple Tip',\n",
              "       'Candace -Secure Renewals and Maximize Upsell Opportunities with This Simple Tip',\n",
              "       'Carla -Secure Renewals and Maximize Upsell Opportunities with This Simple Tip',\n",
              "       'Carlos -Secure Renewals and Maximize Upsell Opportunities with This Simple Tip',\n",
              "       'Carrie -Secure Renewals and Maximize Upsell Opportunities with This Simple Tip',\n",
              "       'Cecilia -Secure Renewals and Maximize Upsell Opportunities with This Simple Tip',\n",
              "       'Charlie -Secure Renewals and Maximize Upsell Opportunities with This Simple Tip',\n",
              "       'Chase -Secure Renewals and Maximize Upsell Opportunities with This Simple Tip',\n",
              "       'Cheryl -Secure Renewals and Maximize Upsell Opportunities with This Simple Tip',\n",
              "       'Chris -Secure Renewals and Maximize Upsell Opportunities with This Simple Tip',\n",
              "       'Christian -Secure Renewals and Maximize Upsell Opportunities with This Simple Tip',\n",
              "       'Christofer -Secure Renewals and Maximize Upsell Opportunities with This Simple Tip',\n",
              "       'Chuck -Secure Renewals and Maximize Upsell Opportunities with This Simple Tip',\n",
              "       'Cindy -Secure Renewals and Maximize Upsell Opportunities with This Simple Tip',\n",
              "       'Coco -Secure Renewals and Maximize Upsell Opportunities with This Simple Tip',\n",
              "       'Collin -Secure Renewals and Maximize Upsell Opportunities with This Simple Tip',\n",
              "       'Conor -Secure Renewals and Maximize Upsell Opportunities with This Simple Tip',\n",
              "       'Cyril -Secure Renewals and Maximize Upsell Opportunities with This Simple Tip',\n",
              "       'Damon -Secure Renewals and Maximize Upsell Opportunities with This Simple Tip',\n",
              "       'Dan -Secure Renewals and Maximize Upsell Opportunities with This Simple Tip',\n",
              "       'Dana -Secure Renewals and Maximize Upsell Opportunities with This Simple Tip',\n",
              "       'Daniel -Secure Renewals and Maximize Upsell Opportunities with This Simple Tip',\n",
              "       'Darin -Secure Renewals and Maximize Upsell Opportunities with This Simple Tip',\n",
              "       'Darwin -Secure Renewals and Maximize Upsell Opportunities with This Simple Tip',\n",
              "       'David -Secure Renewals and Maximize Upsell Opportunities with This Simple Tip',\n",
              "       'Dennis -Secure Renewals and Maximize Upsell Opportunities with This Simple Tip',\n",
              "       'Derek -Secure Renewals and Maximize Upsell Opportunities with This Simple Tip',\n",
              "       'Dimitri -Secure Renewals and Maximize Upsell Opportunities with This Simple Tip',\n",
              "       'Dirk -Secure Renewals and Maximize Upsell Opportunities with This Simple Tip',\n",
              "       'Dominique -Secure Renewals and Maximize Upsell Opportunities with This Simple Tip',\n",
              "       'Donald -Secure Renewals and Maximize Upsell Opportunities with This Simple Tip',\n",
              "       'Donna -Secure Renewals and Maximize Upsell Opportunities with This Simple Tip',\n",
              "       'Doug -Secure Renewals and Maximize Upsell Opportunities with This Simple Tip',\n",
              "       'Dylan -Secure Renewals and Maximize Upsell Opportunities with This Simple Tip',\n",
              "       'Eddie -Secure Renewals and Maximize Upsell Opportunities with This Simple Tip',\n",
              "       'Eduardo -Secure Renewals and Maximize Upsell Opportunities with This Simple Tip',\n",
              "       'Edwin -Secure Renewals and Maximize Upsell Opportunities with This Simple Tip',\n",
              "       'Eiborys -Secure Renewals and Maximize Upsell Opportunities with This Simple Tip',\n",
              "       'Emily -Secure Renewals and Maximize Upsell Opportunities with This Simple Tip',\n",
              "       'Edward -Secure Renewals and Maximize Upsell Opportunities with This Simple Tip',\n",
              "       'Ewa -Secure Renewals and Maximize Upsell Opportunities with This Simple Tip',\n",
              "       'Evan -Secure Renewals and Maximize Upsell Opportunities with This Simple Tip',\n",
              "       'Fabiola -Secure Renewals and Maximize Upsell Opportunities with This Simple Tip',\n",
              "       'Farhang -Secure Renewals and Maximize Upsell Opportunities with This Simple Tip',\n",
              "       'Faye -Secure Renewals and Maximize Upsell Opportunities with This Simple Tip',\n",
              "       'Ferenc -Secure Renewals and Maximize Upsell Opportunities with This Simple Tip',\n",
              "       'Frank -Secure Renewals and Maximize Upsell Opportunities with This Simple Tip',\n",
              "       'Gary -Secure Renewals and Maximize Upsell Opportunities with This Simple Tip',\n",
              "       'George -Secure Renewals and Maximize Upsell Opportunities with This Simple Tip',\n",
              "       'Georgina -Secure Renewals and Maximize Upsell Opportunities with This Simple Tip',\n",
              "       'Gillian -Secure Renewals and Maximize Upsell Opportunities with This Simple Tip',\n",
              "       'Ginger -Secure Renewals and Maximize Upsell Opportunities with This Simple Tip',\n",
              "       'Greg -Secure Renewals and Maximize Upsell Opportunities with This Simple Tip',\n",
              "       'Grace -Secure Renewals and Maximize Upsell Opportunities with This Simple Tip',\n",
              "       'Graham -Secure Renewals and Maximize Upsell Opportunities with This Simple Tip',\n",
              "       'Grzegorz -Secure Renewals and Maximize Upsell Opportunities with This Simple Tip',\n",
              "       'Guillaume -Secure Renewals and Maximize Upsell Opportunities with This Simple Tip',\n",
              "       'Harsha -Secure Renewals and Maximize Upsell Opportunities with This Simple Tip',\n",
              "       'Henrik -Secure Renewals and Maximize Upsell Opportunities with This Simple Tip',\n",
              "       'Holger -Secure Renewals and Maximize Upsell Opportunities with This Simple Tip',\n",
              "       'Ian -Secure Renewals and Maximize Upsell Opportunities with This Simple Tip',\n",
              "       'Ingrid -Secure Renewals and Maximize Upsell Opportunities with This Simple Tip',\n",
              "       'Irena -Secure Renewals and Maximize Upsell Opportunities with This Simple Tip',\n",
              "       'Jack -Secure Renewals and Maximize Upsell Opportunities with This Simple Tip',\n",
              "       'Jacob -Secure Renewals and Maximize Upsell Opportunities with This Simple Tip',\n",
              "       'Jade -Secure Renewals and Maximize Upsell Opportunities with This Simple Tip',\n",
              "       'Jaime -Secure Renewals and Maximize Upsell Opportunities with This Simple Tip',\n",
              "       'Janice -Secure Renewals and Maximize Upsell Opportunities with This Simple Tip',\n",
              "       'Jasmine -Secure Renewals and Maximize Upsell Opportunities with This Simple Tip',\n",
              "       'Jason -Secure Renewals and Maximize Upsell Opportunities with This Simple Tip',\n",
              "       'Javier -Secure Renewals and Maximize Upsell Opportunities with This Simple Tip',\n",
              "       'Jamie -Secure Renewals and Maximize Upsell Opportunities with This Simple Tip',\n",
              "       'Jeff -Secure Renewals and Maximize Upsell Opportunities with This Simple Tip',\n",
              "       'Jena -Secure Renewals and Maximize Upsell Opportunities with This Simple Tip',\n",
              "       'Jens -Secure Renewals and Maximize Upsell Opportunities with This Simple Tip',\n",
              "       'Jerome -Secure Renewals and Maximize Upsell Opportunities with This Simple Tip',\n",
              "       'Jez -Secure Renewals and Maximize Upsell Opportunities with This Simple Tip',\n",
              "       'John -Secure Renewals and Maximize Upsell Opportunities with This Simple Tip',\n",
              "       'Jim -Secure Renewals and Maximize Upsell Opportunities with This Simple Tip',\n",
              "       'Jon -Secure Renewals and Maximize Upsell Opportunities with This Simple Tip',\n",
              "       'Jose -Secure Renewals and Maximize Upsell Opportunities with This Simple Tip',\n",
              "       'Josh -Secure Renewals and Maximize Upsell Opportunities with This Simple Tip',\n",
              "       'Juan -Secure Renewals and Maximize Upsell Opportunities with This Simple Tip',\n",
              "       'Julia -Secure Renewals and Maximize Upsell Opportunities with This Simple Tip',\n",
              "       'Julie -Secure Renewals and Maximize Upsell Opportunities with This Simple Tip',\n",
              "       'Julien -Secure Renewals and Maximize Upsell Opportunities with This Simple Tip',\n",
              "       'Kaled -Secure Renewals and Maximize Upsell Opportunities with This Simple Tip',\n",
              "       'Kara -Secure Renewals and Maximize Upsell Opportunities with This Simple Tip',\n",
              "       'Karl -Secure Renewals and Maximize Upsell Opportunities with This Simple Tip',\n",
              "       'Katiso -Secure Renewals and Maximize Upsell Opportunities with This Simple Tip',\n",
              "       'Keely -Secure Renewals and Maximize Upsell Opportunities with This Simple Tip',\n",
              "       'Keith -Secure Renewals and Maximize Upsell Opportunities with This Simple Tip',\n",
              "       'Kelly -Secure Renewals and Maximize Upsell Opportunities with This Simple Tip',\n",
              "       'Ken-Wye -Secure Renewals and Maximize Upsell Opportunities with This Simple Tip',\n",
              "       'Kevin -Secure Renewals and Maximize Upsell Opportunities with This Simple Tip',\n",
              "       'Kiah -Secure Renewals and Maximize Upsell Opportunities with This Simple Tip',\n",
              "       'Arnie -Secure Renewals and Maximize Upsell Opportunities with This Simple Tip',\n",
              "       'Kirrilly -Secure Renewals and Maximize Upsell Opportunities with This Simple Tip',\n",
              "       'Kathleen -Secure Renewals and Maximize Upsell Opportunities with This Simple Tip',\n",
              "       'Kurt -Secure Renewals and Maximize Upsell Opportunities with This Simple Tip'],\n",
              "      dtype=object)"
            ]
          },
          "metadata": {},
          "execution_count": 14
        }
      ]
    },
    {
      "cell_type": "code",
      "source": [
        "# let's look at the contents of the mid column\n",
        "df_project[\"mid\"].unique()"
      ],
      "metadata": {
        "colab": {
          "base_uri": "https://localhost:8080/"
        },
        "id": "oe8UMC9h9lwq",
        "outputId": "39f4a219-ecd4-4bf2-c262-b6ba1b2c29ce"
      },
      "execution_count": 15,
      "outputs": [
        {
          "output_type": "execute_result",
          "data": {
            "text/plain": [
              "array(['<202411090832.66440413171@smtp-relay.mailin.fr>',\n",
              "       '<202411090832.81296424078@smtp-relay.mailin.fr>',\n",
              "       '<202411090832.12665200981@smtp-relay.mailin.fr>',\n",
              "       '<202411090832.25146301427@smtp-relay.mailin.fr>',\n",
              "       '<202411090832.35357188275@smtp-relay.mailin.fr>',\n",
              "       '<202411090832.85595533095@smtp-relay.mailin.fr>',\n",
              "       '<202411090832.51119963870@smtp-relay.mailin.fr>',\n",
              "       '<202411090832.27102472427@smtp-relay.mailin.fr>',\n",
              "       '<202411090832.60144383519@smtp-relay.mailin.fr>',\n",
              "       '<202411090832.79797039903@smtp-relay.mailin.fr>',\n",
              "       '<202411090832.18888880717@smtp-relay.mailin.fr>',\n",
              "       '<202411090832.37100879444@smtp-relay.mailin.fr>',\n",
              "       '<202411090832.42937087944@smtp-relay.mailin.fr>',\n",
              "       '<202411090832.63935527731@smtp-relay.mailin.fr>',\n",
              "       '<202411090832.25602175741@smtp-relay.mailin.fr>',\n",
              "       '<202411090832.36754588005@smtp-relay.mailin.fr>',\n",
              "       '<202411090832.75574108979@smtp-relay.mailin.fr>',\n",
              "       '<202411090832.92214299603@smtp-relay.mailin.fr>',\n",
              "       '<202411090832.21616920335@smtp-relay.mailin.fr>',\n",
              "       '<202411090832.85872120165@smtp-relay.mailin.fr>',\n",
              "       '<202411090832.20199460953@smtp-relay.mailin.fr>',\n",
              "       '<202411090832.26192898457@smtp-relay.mailin.fr>',\n",
              "       '<202411090832.34160722559@smtp-relay.mailin.fr>',\n",
              "       '<202411090832.88849397867@smtp-relay.mailin.fr>',\n",
              "       '<202411090832.75704845320@smtp-relay.mailin.fr>',\n",
              "       '<202411090832.22400158155@smtp-relay.mailin.fr>',\n",
              "       '<202411090832.65716091079@smtp-relay.mailin.fr>',\n",
              "       '<202411090832.94036665727@smtp-relay.mailin.fr>',\n",
              "       '<202411090832.34518540447@smtp-relay.mailin.fr>',\n",
              "       '<202411090832.59144614910@smtp-relay.mailin.fr>',\n",
              "       '<202411090832.71574327098@smtp-relay.mailin.fr>',\n",
              "       '<202411090832.65881957878@smtp-relay.mailin.fr>',\n",
              "       '<202411090832.79315761091@smtp-relay.mailin.fr>',\n",
              "       '<202411090832.27325727253@smtp-relay.mailin.fr>',\n",
              "       '<202411090832.83413192277@smtp-relay.mailin.fr>',\n",
              "       '<202411090832.61963002223@smtp-relay.mailin.fr>',\n",
              "       '<202411090832.37328514380@smtp-relay.mailin.fr>',\n",
              "       '<202411090832.52078159116@smtp-relay.mailin.fr>',\n",
              "       '<202411090832.83601385298@smtp-relay.mailin.fr>',\n",
              "       '<202411090832.69687073686@smtp-relay.mailin.fr>',\n",
              "       '<202411090832.48705649998@smtp-relay.mailin.fr>',\n",
              "       '<202411090832.50533799986@smtp-relay.mailin.fr>',\n",
              "       '<202411090832.39554946891@smtp-relay.mailin.fr>',\n",
              "       '<202411090832.89142337269@smtp-relay.mailin.fr>',\n",
              "       '<202411090832.27958237732@smtp-relay.mailin.fr>',\n",
              "       '<202411090832.80897360142@smtp-relay.mailin.fr>',\n",
              "       '<202411090832.80292928034@smtp-relay.mailin.fr>',\n",
              "       '<202411090832.17028128079@smtp-relay.mailin.fr>',\n",
              "       '<202411090832.36978045162@smtp-relay.mailin.fr>',\n",
              "       '<202411090832.13187023756@smtp-relay.mailin.fr>',\n",
              "       '<202411090832.76234746657@smtp-relay.mailin.fr>',\n",
              "       '<202411090832.89647237553@smtp-relay.mailin.fr>',\n",
              "       '<202411090832.83355501520@smtp-relay.mailin.fr>',\n",
              "       '<202411090832.58244698187@smtp-relay.mailin.fr>',\n",
              "       '<202411090832.15826838494@smtp-relay.mailin.fr>',\n",
              "       '<202411090832.40099558428@smtp-relay.mailin.fr>',\n",
              "       '<202411090832.87185824372@smtp-relay.mailin.fr>',\n",
              "       '<202411090832.89122529978@smtp-relay.mailin.fr>',\n",
              "       '<202411090832.76229951291@smtp-relay.mailin.fr>',\n",
              "       '<202411090832.61132705480@smtp-relay.mailin.fr>',\n",
              "       '<202411090832.41834472908@smtp-relay.mailin.fr>',\n",
              "       '<202411090832.33380241877@smtp-relay.mailin.fr>',\n",
              "       '<202411090832.47746408856@smtp-relay.mailin.fr>',\n",
              "       '<202411090832.58610667728@smtp-relay.mailin.fr>',\n",
              "       '<202411090832.22553057918@smtp-relay.mailin.fr>',\n",
              "       '<202411090832.38723927396@smtp-relay.mailin.fr>',\n",
              "       '<202411090832.46586117467@smtp-relay.mailin.fr>',\n",
              "       '<202411090832.49175680521@smtp-relay.mailin.fr>',\n",
              "       '<202411090832.47689639771@smtp-relay.mailin.fr>',\n",
              "       '<202411090832.80134650739@smtp-relay.mailin.fr>',\n",
              "       '<202411090832.86255086992@smtp-relay.mailin.fr>',\n",
              "       '<202411090832.68622730948@smtp-relay.mailin.fr>',\n",
              "       '<202411090832.96738690957@smtp-relay.mailin.fr>',\n",
              "       '<202411090832.75000035670@smtp-relay.mailin.fr>',\n",
              "       '<202411090832.90628252600@smtp-relay.mailin.fr>',\n",
              "       '<202411090832.10450243156@smtp-relay.mailin.fr>',\n",
              "       '<202411090832.58385157348@smtp-relay.mailin.fr>',\n",
              "       '<202411090832.91044869432@smtp-relay.mailin.fr>',\n",
              "       '<202411090832.55907623956@smtp-relay.mailin.fr>',\n",
              "       '<202411090832.63616101688@smtp-relay.mailin.fr>',\n",
              "       '<202411090832.89796883809@smtp-relay.mailin.fr>',\n",
              "       '<202411090832.85477283719@smtp-relay.mailin.fr>',\n",
              "       '<202411090832.17097561799@smtp-relay.mailin.fr>',\n",
              "       '<202411090832.37285321687@smtp-relay.mailin.fr>',\n",
              "       '<202411090832.63896110984@smtp-relay.mailin.fr>',\n",
              "       '<202411090832.88217981221@smtp-relay.mailin.fr>',\n",
              "       '<202411090832.11959070760@smtp-relay.mailin.fr>',\n",
              "       '<202411090832.33633976521@smtp-relay.mailin.fr>',\n",
              "       '<202411090832.40089536844@smtp-relay.mailin.fr>',\n",
              "       '<202411090832.59423184792@smtp-relay.mailin.fr>',\n",
              "       '<202411090832.57439555639@smtp-relay.mailin.fr>',\n",
              "       '<202411090832.64184073325@smtp-relay.mailin.fr>',\n",
              "       '<202411090832.27529282983@smtp-relay.mailin.fr>',\n",
              "       '<202411090832.99401675058@smtp-relay.mailin.fr>',\n",
              "       '<202411090832.42134341766@smtp-relay.mailin.fr>',\n",
              "       '<202411090832.90574595422@smtp-relay.mailin.fr>',\n",
              "       '<202411090832.13737610603@smtp-relay.mailin.fr>',\n",
              "       '<202411090832.75714020798@smtp-relay.mailin.fr>',\n",
              "       '<202411090832.33168068216@smtp-relay.mailin.fr>',\n",
              "       '<202411090832.67748987004@smtp-relay.mailin.fr>',\n",
              "       '<202411090832.61035585019@smtp-relay.mailin.fr>',\n",
              "       '<202411090832.87555749924@smtp-relay.mailin.fr>',\n",
              "       '<202411090832.33280843336@smtp-relay.mailin.fr>',\n",
              "       '<202411090832.51374174978@smtp-relay.mailin.fr>',\n",
              "       '<202411090832.49662045280@smtp-relay.mailin.fr>',\n",
              "       '<202411090832.73805240456@smtp-relay.mailin.fr>',\n",
              "       '<202411090832.69350380670@smtp-relay.mailin.fr>',\n",
              "       '<202411090832.29897268824@smtp-relay.mailin.fr>',\n",
              "       '<202411090832.91662602037@smtp-relay.mailin.fr>',\n",
              "       '<202411090832.32906659432@smtp-relay.mailin.fr>',\n",
              "       '<202411090832.22406355709@smtp-relay.mailin.fr>',\n",
              "       '<202411090832.11782713783@smtp-relay.mailin.fr>',\n",
              "       '<202411090832.51956406018@smtp-relay.mailin.fr>',\n",
              "       '<202411090832.23457527968@smtp-relay.mailin.fr>',\n",
              "       '<202411090832.11134028198@smtp-relay.mailin.fr>',\n",
              "       '<202411090832.96111244771@smtp-relay.mailin.fr>',\n",
              "       '<202411090832.75795851525@smtp-relay.mailin.fr>',\n",
              "       '<202411090832.30824613836@smtp-relay.mailin.fr>',\n",
              "       '<202411090832.75622704297@smtp-relay.mailin.fr>',\n",
              "       '<202411090832.16807909537@smtp-relay.mailin.fr>',\n",
              "       '<202411090832.83631599300@smtp-relay.mailin.fr>',\n",
              "       '<202411090832.53239799851@smtp-relay.mailin.fr>',\n",
              "       '<202411090832.67867332631@smtp-relay.mailin.fr>',\n",
              "       '<202411090832.17633504699@smtp-relay.mailin.fr>',\n",
              "       '<202411090832.57117091707@smtp-relay.mailin.fr>',\n",
              "       '<202411090832.75999920332@smtp-relay.mailin.fr>',\n",
              "       '<202411090832.99927663611@smtp-relay.mailin.fr>',\n",
              "       '<202411090832.81837673009@smtp-relay.mailin.fr>',\n",
              "       '<202411090832.21548384814@smtp-relay.mailin.fr>',\n",
              "       '<202411090832.23159022680@smtp-relay.mailin.fr>',\n",
              "       '<202411090832.30760952356@smtp-relay.mailin.fr>',\n",
              "       '<202411090832.94745413016@smtp-relay.mailin.fr>',\n",
              "       '<202411090832.85172127268@smtp-relay.mailin.fr>',\n",
              "       '<202411090832.46712171279@smtp-relay.mailin.fr>',\n",
              "       '<202411090832.24108948775@smtp-relay.mailin.fr>',\n",
              "       '<202411090832.71771223098@smtp-relay.mailin.fr>',\n",
              "       '<202411090832.17749872740@smtp-relay.mailin.fr>',\n",
              "       '<202411090832.58841289786@smtp-relay.mailin.fr>',\n",
              "       '<202411090832.85129773065@smtp-relay.mailin.fr>',\n",
              "       '<202411090832.58636134770@smtp-relay.mailin.fr>',\n",
              "       '<202411090832.45588397773@smtp-relay.mailin.fr>',\n",
              "       '<202411090832.24629191753@smtp-relay.mailin.fr>',\n",
              "       '<202411090832.67369565777@smtp-relay.mailin.fr>',\n",
              "       '<202411090832.74463089641@smtp-relay.mailin.fr>',\n",
              "       '<202411090832.93035809783@smtp-relay.mailin.fr>',\n",
              "       '<202411090832.74778939695@smtp-relay.mailin.fr>',\n",
              "       '<202411090832.59974782637@smtp-relay.mailin.fr>',\n",
              "       '<202411090832.93491639087@smtp-relay.mailin.fr>',\n",
              "       '<202411090832.96970866967@smtp-relay.mailin.fr>',\n",
              "       '<202411090832.95718718995@smtp-relay.mailin.fr>',\n",
              "       '<202411090832.67347181162@smtp-relay.mailin.fr>',\n",
              "       '<202411090832.27150944822@smtp-relay.mailin.fr>',\n",
              "       '<202411090832.78011937752@smtp-relay.mailin.fr>',\n",
              "       '<202411090832.35303837786@smtp-relay.mailin.fr>',\n",
              "       '<202411090832.52213100432@smtp-relay.mailin.fr>',\n",
              "       '<202411090832.63351686690@smtp-relay.mailin.fr>',\n",
              "       '<202411090832.56625968923@smtp-relay.mailin.fr>',\n",
              "       '<202411090832.68484568809@smtp-relay.mailin.fr>',\n",
              "       '<202411090832.67908986017@smtp-relay.mailin.fr>',\n",
              "       '<202411090832.18549891512@smtp-relay.mailin.fr>',\n",
              "       '<202411090832.36940557146@smtp-relay.mailin.fr>',\n",
              "       '<202411090832.10888688801@smtp-relay.mailin.fr>',\n",
              "       '<202411090832.43836650396@smtp-relay.mailin.fr>',\n",
              "       '<202411090832.32874620068@smtp-relay.mailin.fr>',\n",
              "       '<202411090832.54575245789@smtp-relay.mailin.fr>',\n",
              "       '<202411090832.82526601574@smtp-relay.mailin.fr>',\n",
              "       '<202411090832.71256472107@smtp-relay.mailin.fr>',\n",
              "       '<202411090832.91323396961@smtp-relay.mailin.fr>',\n",
              "       '<202411090832.95152057946@smtp-relay.mailin.fr>',\n",
              "       '<202411090832.57349316570@smtp-relay.mailin.fr>',\n",
              "       '<202411090832.87750509041@smtp-relay.mailin.fr>',\n",
              "       '<202411090832.36024127479@smtp-relay.mailin.fr>',\n",
              "       '<202411090832.53818609464@smtp-relay.mailin.fr>',\n",
              "       '<202411090832.61239704186@smtp-relay.mailin.fr>',\n",
              "       '<202411090832.78245260374@smtp-relay.mailin.fr>',\n",
              "       '<202411090832.33786177890@smtp-relay.mailin.fr>'], dtype=object)"
            ]
          },
          "metadata": {},
          "execution_count": 15
        }
      ]
    },
    {
      "cell_type": "code",
      "source": [
        "# let's look at the contents of the link column\n",
        "df_project[\"link\"].unique()"
      ],
      "metadata": {
        "colab": {
          "base_uri": "https://localhost:8080/"
        },
        "id": "lpTWd4Xe9saN",
        "outputId": "c1781f61-56bb-439e-f90d-01e1baa76108"
      },
      "execution_count": 16,
      "outputs": [
        {
          "output_type": "execute_result",
          "data": {
            "text/plain": [
              "array([nan])"
            ]
          },
          "metadata": {},
          "execution_count": 16
        }
      ]
    },
    {
      "cell_type": "markdown",
      "source": [
        "**4. Outlier**"
      ],
      "metadata": {
        "id": "NyAZCAThBfpt"
      }
    },
    {
      "cell_type": "markdown",
      "source": [
        "I decided not to check for outliers because it doesn't seem necessary yet"
      ],
      "metadata": {
        "id": "U1uEF4Z3CGB9"
      }
    },
    {
      "cell_type": "markdown",
      "source": [
        "# Answer"
      ],
      "metadata": {
        "id": "jTdsY7hJCTiD"
      }
    },
    {
      "cell_type": "markdown",
      "source": [
        "To distinguish interactions that are most likely carried out by humans or programs/automation, we can use several rules based on common behavioral patterns, such as:\n",
        "\n",
        "Time Interval:\n",
        "\n",
        "1. Automated interactions usually occur over a very short time sequence (ms or seconds), whereas human interactions are more spread out in time.\n",
        "Number of Consecutive Clicks:\n",
        "\n",
        "2. Programs/automations tend to generate a lot of clicks in a very short period of time.\n",
        "\n",
        "3. Programs may access certain link patterns repeatedly."
      ],
      "metadata": {
        "id": "KO5wJQk5DLZ4"
      }
    },
    {
      "cell_type": "code",
      "source": [
        "# Convert 'ts' to datetime format\n",
        "df_project['ts'] = pd.to_datetime(df_project['ts'], errors='coerce')"
      ],
      "metadata": {
        "id": "oit78WubDLJw"
      },
      "execution_count": 18,
      "outputs": []
    },
    {
      "cell_type": "code",
      "source": [
        "# Sort data by 'Recipient Name' and 'ts'\n",
        "df_project = df_project.sort_values(by=['Recipient Name', 'ts']).reset_index(drop=True)"
      ],
      "metadata": {
        "id": "9nmsOhZyDpgU"
      },
      "execution_count": 19,
      "outputs": []
    },
    {
      "cell_type": "code",
      "source": [
        "# Calculate time difference between consecutive interactions for the same recipient\n",
        "df_project['time_diff'] = df_project.groupby('Recipient Name')['ts'].diff().dt.total_seconds()"
      ],
      "metadata": {
        "id": "tl93i00PDqX1"
      },
      "execution_count": 20,
      "outputs": []
    },
    {
      "cell_type": "code",
      "source": [
        "# Define classification rules\n",
        "def classify_interaction(row):\n",
        "    # Rule 1: Very short time intervals (< 5 seconds) suggest automation\n",
        "    if row['time_diff'] is not None and row['time_diff'] < 5:\n",
        "        return 'automation'\n",
        "    # Rule 2: Repeated clicking of similar links in a short time suggests automation\n",
        "    if row.name > 0:\n",
        "        prev_row = df_project.iloc[row.name - 1]\n",
        "        if row['Recipient Name'] == prev_row['Recipient Name'] and row['link'] == prev_row['link']:\n",
        "            return 'automation'\n",
        "    # Default: Assume human interaction\n",
        "    return 'human'"
      ],
      "metadata": {
        "id": "jtLc0b0sDqj-"
      },
      "execution_count": 21,
      "outputs": []
    },
    {
      "cell_type": "markdown",
      "source": [
        "- Applied Logic Rules:\n",
        "Time Difference Between Interactions (time_diff):\n",
        "\n",
        "1. If the time between interactions is very short (< 5 seconds), it is most likely an automatic action (automation), because humans usually need more time to perform repetitive actions.\n",
        "2. If the time between interactions is longer, it is assumed that the interaction was carried out by humans.\n",
        "\n",
        "3. Repeated Clicks on the Same Link\n",
        "If the same recipient clicks on the same link within a short period of time (for example within seconds), then this is considered automation, because this pattern is usually generated by the program."
      ],
      "metadata": {
        "id": "e9kQM15RFFIw"
      }
    },
    {
      "cell_type": "code",
      "source": [
        "# Apply classification to each row\n",
        "df_project['interaction_type'] = df_project.apply(classify_interaction, axis=1)\n"
      ],
      "metadata": {
        "id": "zqww9y_eD0LS"
      },
      "execution_count": 22,
      "outputs": []
    },
    {
      "cell_type": "code",
      "source": [
        "# Summary of classification\n",
        "classification_summary = df_project['interaction_type'].value_counts()"
      ],
      "metadata": {
        "id": "GUf4PH2qD4uH"
      },
      "execution_count": 23,
      "outputs": []
    },
    {
      "cell_type": "code",
      "source": [
        "# Display results\n",
        "print(\"Classification Summary:\")\n",
        "print(classification_summary)\n",
        "print(\"\\nSample of Classified Data:\")\n",
        "print(df_project[['Recipient Name', 'ts', 'link', 'interaction_type']].head(10))"
      ],
      "metadata": {
        "colab": {
          "base_uri": "https://localhost:8080/"
        },
        "id": "GSe1PSXBD5ig",
        "outputId": "fd0f2a82-1fd7-4af1-a213-bd657681a6ef"
      },
      "execution_count": 24,
      "outputs": [
        {
          "output_type": "stream",
          "name": "stdout",
          "text": [
            "Classification Summary:\n",
            "interaction_type\n",
            "automation    1169\n",
            "human          268\n",
            "Name: count, dtype: int64\n",
            "\n",
            "Sample of Classified Data:\n",
            "                                      Recipient Name                  ts  \\\n",
            "0  Aaron -Secure Renewals and Maximize Upsell Opp... 2024-10-11 08:13:57   \n",
            "1  Aaron -Secure Renewals and Maximize Upsell Opp... 2024-10-11 08:13:57   \n",
            "2  Aaron -Secure Renewals and Maximize Upsell Opp... 2024-10-11 08:13:57   \n",
            "3  Aaron -Secure Renewals and Maximize Upsell Opp... 2024-10-11 08:13:57   \n",
            "4  Aaron -Secure Renewals and Maximize Upsell Opp... 2024-10-11 08:13:57   \n",
            "5  Aaron -Secure Renewals and Maximize Upsell Opp... 2024-10-11 08:13:57   \n",
            "6  Aaron -Secure Renewals and Maximize Upsell Opp... 2024-10-11 08:13:57   \n",
            "7  Aaron -Secure Renewals and Maximize Upsell Opp... 2024-10-11 08:14:23   \n",
            "8  Aaron -Secure Renewals and Maximize Upsell Opp... 2024-10-11 08:14:23   \n",
            "9  Aaron -Secure Renewals and Maximize Upsell Opp... 2024-10-11 08:14:23   \n",
            "\n",
            "   link interaction_type  \n",
            "0   NaN            human  \n",
            "1   NaN       automation  \n",
            "2   NaN       automation  \n",
            "3   NaN       automation  \n",
            "4   NaN       automation  \n",
            "5   NaN       automation  \n",
            "6   NaN       automation  \n",
            "7   NaN            human  \n",
            "8   NaN       automation  \n",
            "9   NaN       automation  \n"
          ]
        }
      ]
    },
    {
      "cell_type": "markdown",
      "source": [
        "**Output Explanation**"
      ],
      "metadata": {
        "id": "ZbS8tT5GE1C1"
      }
    },
    {
      "cell_type": "markdown",
      "source": [
        "- In the first line (08:13:57), the first interaction for this recipient is considered human because there is no prior information to compare (the time difference is NaN).\n",
        "- The next line (08:13:57) has the exact same time as the previous line. Because the time difference is very small (0 seconds), it is classified as automation."
      ],
      "metadata": {
        "id": "3YN_HyorFbAC"
      }
    },
    {
      "cell_type": "markdown",
      "source": [
        "# Insight"
      ],
      "metadata": {
        "id": "h2acci2RGf30"
      }
    },
    {
      "cell_type": "markdown",
      "source": [
        "**1. Most interactions are carried out by automation**\n",
        "\n",
        "**Summary:**\n",
        "- From the total data, **1,169** interactions (78%) were classified as **automation**.\n",
        "- Only **268** interactions (22%) were classified as **human**.\n",
        "\n",
        "**Interpretation:**\n",
        "Most of the activities in this dataset were likely generated by programs/automation, indicating that these systems or workflows were designed to leverage process automation in a highly scalable manner."
      ],
      "metadata": {
        "id": "oe3581jeG7dz"
      }
    },
    {
      "cell_type": "markdown",
      "source": [
        "**2. Time patterns can identify automation characteristics**\n",
        "\n",
        "**Automation:**\n",
        "- Automatic interaction has a pattern with a very short interaction time (less than 5 seconds).\n",
        "- Repeated clicks on the same link or simultaneous actions indicate a typical program or bot pattern.\n",
        "\n",
        "**Human:**\n",
        "Human interactions show patterns with longer time lags between actions, reflecting the time needed to think, read, or react manually."
      ],
      "metadata": {
        "id": "-8kQK2tmHcrU"
      }
    },
    {
      "cell_type": "markdown",
      "source": [
        "**3. Empty links can be a cause for concern**\n",
        "- There are many interactions with empty link columns, but they are still classified as automation because the time between interactions is very short.\n",
        "\n",
        "**Additional Insights:**\n",
        "- This could indicate an automation script that may be running in the background without fully utilizing the link."
      ],
      "metadata": {
        "id": "ZN63akuBIfZ_"
      }
    },
    {
      "cell_type": "markdown",
      "source": [
        "# Recomendation"
      ],
      "metadata": {
        "id": "yjU_rt9aI4JH"
      }
    },
    {
      "cell_type": "markdown",
      "source": [
        "**1. Automation Process Optimization**\n",
        "\n",
        "*Why*: Automation should increase efficiency, but if not managed well, it can cause unnecessary system load.\n",
        "\n",
        "*What to do:*\n",
        "- Evaluate whether automatic clicks on the same link over a short period of time are really necessary.\n",
        "- If not, add delays or filtering to the script to reduce unnecessary repetitive actions.\n",
        "- Integrate validation mechanisms to ensure each automation process produces relevant results."
      ],
      "metadata": {
        "id": "jnor7dcyI7qr"
      }
    },
    {
      "cell_type": "markdown",
      "source": [
        "**2. Manual Interaction Pattern Analysis (Human)**\n",
        "*Why*: Less frequent human interaction may indicate that there are tasks that cannot (or have not) been automated, or that users are encountering roadblocks in the process.\n",
        "\n",
        "*What to do*:\n",
        "- Identify the type of manual interaction (for example, does it involve a specific link, a specific time, or a specific user).\n",
        "- Find out if these interactions can be automated to increase efficiency.\n",
        "- If they can't be automated, make sure these manual processes are easy to implement, for example by improving the user experience (UX) or providing additional guidance."
      ],
      "metadata": {
        "id": "1gfzOsjTJZhU"
      }
    }
  ]
}