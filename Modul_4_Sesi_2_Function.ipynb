{
  "cells": [
    {
      "cell_type": "markdown",
      "metadata": {
        "id": "view-in-github",
        "colab_type": "text"
      },
      "source": [
        "<a href=\"https://colab.research.google.com/github/Evianitary18/Programming-With-Python/blob/main/Modul_4_Sesi_2_Function.ipynb\" target=\"_parent\"><img src=\"https://colab.research.google.com/assets/colab-badge.svg\" alt=\"Open In Colab\"/></a>"
      ]
    },
    {
      "cell_type": "markdown",
      "id": "ae8accb7",
      "metadata": {
        "id": "ae8accb7"
      },
      "source": [
        "# Function\n",
        "\n",
        "* Melanjutkan pembahasan yang sebelumnya, konsep dekomposisi dan abstraksi adalah hal yang cukup penting agar kode lebih mudah untuk dipahami, ditulis, dan juga untuk dirawat.\n",
        "* `function` adalah cara untuk menerapkan konsep dekomposisi dan abstraksi di dalam pemrograman."
      ]
    },
    {
      "cell_type": "markdown",
      "id": "ec9c8cbc",
      "metadata": {
        "id": "ec9c8cbc"
      },
      "source": [
        "---\n",
        "## Komponen Dasar"
      ]
    },
    {
      "cell_type": "markdown",
      "id": "150f6764",
      "metadata": {
        "id": "150f6764"
      },
      "source": [
        "* Untuk mendefinisikan fungsi, digunakan `def`.\n",
        "* Secara umum, bentuk fungsi dalam Python adalah sebagai berikut:\n",
        "```\n",
        "def nama_fungsi(parameter/argumen):\n",
        "    kode\n",
        "```\n"
      ]
    },
    {
      "cell_type": "markdown",
      "id": "2748de68",
      "metadata": {
        "id": "2748de68"
      },
      "source": [
        "---\n",
        "### Fungsi sederhana\n",
        "Contoh:\n",
        "* dibuat fungsi dibawah untuk menampilkan \"Halo\"\n",
        "* Ketika dijalankan, kode dibawah tidak akan langsung mengeluarkan \"Halo\".\n",
        "* Namun, kode dibawah disimpan di dalam memori.\n"
      ]
    },
    {
      "cell_type": "code",
      "execution_count": 1,
      "id": "8007d8e7",
      "metadata": {
        "id": "8007d8e7"
      },
      "outputs": [],
      "source": [
        "def print_halo():\n",
        "    print(\"halo\")"
      ]
    },
    {
      "cell_type": "markdown",
      "id": "f1a91d70",
      "metadata": {
        "id": "f1a91d70"
      },
      "source": [
        "* Untuk memanggil fungsi yang disimpan tadi, cukup dengan menggunakan:"
      ]
    },
    {
      "cell_type": "code",
      "execution_count": 2,
      "id": "d72833cb",
      "metadata": {
        "colab": {
          "base_uri": "https://localhost:8080/"
        },
        "id": "d72833cb",
        "outputId": "bccf9b3b-76b9-4960-ac1b-d262221c32d3"
      },
      "outputs": [
        {
          "output_type": "stream",
          "name": "stdout",
          "text": [
            "halo\n"
          ]
        }
      ],
      "source": [
        "print_halo()"
      ]
    },
    {
      "cell_type": "markdown",
      "id": "8d7123e2",
      "metadata": {
        "id": "8d7123e2"
      },
      "source": [
        "---\n",
        "Kesalahan yang sering terjadi ketika membuat fungsi adalah:\n",
        "* Lupa menggunakan `()`"
      ]
    },
    {
      "cell_type": "code",
      "execution_count": null,
      "id": "282df0f4",
      "metadata": {
        "colab": {
          "base_uri": "https://localhost:8080/",
          "height": 145
        },
        "id": "282df0f4",
        "outputId": "7082a0ce-bd2c-471d-fa4f-3e8dd370d54b"
      },
      "outputs": [
        {
          "output_type": "error",
          "ename": "SyntaxError",
          "evalue": "ignored",
          "traceback": [
            "\u001b[0;36m  File \u001b[0;32m\"<ipython-input-5-5eeaac8ddd0c>\"\u001b[0;36m, line \u001b[0;32m1\u001b[0m\n\u001b[0;31m    def print_halo:\u001b[0m\n\u001b[0m                  ^\u001b[0m\n\u001b[0;31mSyntaxError\u001b[0m\u001b[0;31m:\u001b[0m invalid syntax\n"
          ]
        }
      ],
      "source": [
        "def print_halo:\n",
        "    print(\"halo\")"
      ]
    },
    {
      "cell_type": "markdown",
      "id": "ea91632a",
      "metadata": {
        "id": "ea91632a"
      },
      "source": [
        "* Lupa titik dua `:`"
      ]
    },
    {
      "cell_type": "code",
      "execution_count": null,
      "id": "4ecf1074",
      "metadata": {
        "colab": {
          "base_uri": "https://localhost:8080/",
          "height": 145
        },
        "id": "4ecf1074",
        "outputId": "8f95460d-6518-4bec-a070-d870302e8329"
      },
      "outputs": [
        {
          "output_type": "error",
          "ename": "SyntaxError",
          "evalue": "ignored",
          "traceback": [
            "\u001b[0;36m  File \u001b[0;32m\"<ipython-input-6-22d6fe80ff75>\"\u001b[0;36m, line \u001b[0;32m1\u001b[0m\n\u001b[0;31m    def print_halo()\u001b[0m\n\u001b[0m                    ^\u001b[0m\n\u001b[0;31mSyntaxError\u001b[0m\u001b[0;31m:\u001b[0m expected ':'\n"
          ]
        }
      ],
      "source": [
        "def print_halo()\n",
        "    print(\"halo\")"
      ]
    },
    {
      "cell_type": "markdown",
      "id": "ba40a072",
      "metadata": {
        "id": "ba40a072"
      },
      "source": [
        "---\n",
        "**Exercise!**"
      ]
    },
    {
      "cell_type": "code",
      "execution_count": null,
      "id": "9c17167e",
      "metadata": {
        "id": "9c17167e"
      },
      "outputs": [],
      "source": [
        "# Buatlah fungsi yang menampilkan 3*7\n",
        "def fungsi_a():\n",
        "  print(3*7)"
      ]
    },
    {
      "cell_type": "code",
      "execution_count": null,
      "id": "f11a7cc7",
      "metadata": {
        "id": "f11a7cc7",
        "colab": {
          "base_uri": "https://localhost:8080/"
        },
        "outputId": "63445196-7fda-44bd-9613-66249e5e81a7"
      },
      "outputs": [
        {
          "output_type": "stream",
          "name": "stdout",
          "text": [
            "21\n"
          ]
        }
      ],
      "source": [
        "# Panggillah fungsi yang telah dibuat\n",
        "fungsi_a()"
      ]
    },
    {
      "cell_type": "markdown",
      "id": "b195e4c3",
      "metadata": {
        "id": "b195e4c3"
      },
      "source": [
        "---\n",
        "### Fungsi yang mengembalikan hasil.\n",
        "\n",
        "* Di atas telah dicontohkan fungsi untuk menampilkan hasil.\n",
        "* Namun, bagaimana agar kita bisa menggunakan nilai yang telah diolah pada fungsi?\n",
        "* Gunakan `return`, dengan `return` kita bisa mengambil nilai yang telah diolah di dalam fungsi.\n",
        "\n",
        "Contoh:"
      ]
    },
    {
      "cell_type": "code",
      "execution_count": null,
      "id": "c37cd374",
      "metadata": {
        "id": "c37cd374"
      },
      "outputs": [],
      "source": [
        "def dua_tambah_tiga():\n",
        "    angka = 2+3\n",
        "    return angka"
      ]
    },
    {
      "cell_type": "code",
      "execution_count": null,
      "id": "fb8180f6",
      "metadata": {
        "colab": {
          "base_uri": "https://localhost:8080/"
        },
        "id": "fb8180f6",
        "outputId": "f3180c9d-9c7e-4b75-b5d9-ea98c3eb0800"
      },
      "outputs": [
        {
          "output_type": "stream",
          "name": "stdout",
          "text": [
            "5\n"
          ]
        }
      ],
      "source": [
        "hasil = dua_tambah_tiga()\n",
        "print(hasil)"
      ]
    },
    {
      "cell_type": "markdown",
      "id": "5806a098",
      "metadata": {
        "id": "5806a098"
      },
      "source": [
        "* Nilai dari return juga bisa banyak\n",
        "* Namun, untuk kemudahan hal ini tidak akan kita bahas di sini"
      ]
    },
    {
      "cell_type": "markdown",
      "id": "3b311853",
      "metadata": {
        "id": "3b311853"
      },
      "source": [
        "---\n",
        "**Exercise!**\n"
      ]
    },
    {
      "cell_type": "code",
      "execution_count": null,
      "id": "e678b1fc",
      "metadata": {
        "id": "e678b1fc",
        "colab": {
          "base_uri": "https://localhost:8080/"
        },
        "outputId": "80d7a27f-0855-47b8-8c4a-6f08477ba696"
      },
      "outputs": [
        {
          "output_type": "execute_result",
          "data": {
            "text/plain": [
              "-19"
            ]
          },
          "metadata": {},
          "execution_count": 13
        }
      ],
      "source": [
        "# Buatlah fungsi yang mengembalikan nilai 4-23, lalu tampilkan hasilnya!\n",
        "def fungsi_b():\n",
        "  return 4 - 23\n",
        "\n",
        "fungsi_b()"
      ]
    },
    {
      "cell_type": "markdown",
      "id": "262d3def",
      "metadata": {
        "id": "262d3def"
      },
      "source": [
        "---\n",
        "### Fungsi dengan Parameters/Arguments\n",
        "\n",
        "* Parameters/arguments adalah nama lain dari input fungsi.\n",
        "* Untuk menggunakan parameter, kita hanya perlu mendefinisikan variabel di fungsi:\n",
        "\n",
        "Contoh:"
      ]
    },
    {
      "cell_type": "code",
      "execution_count": null,
      "id": "077b50d3",
      "metadata": {
        "id": "077b50d3"
      },
      "outputs": [],
      "source": [
        "def print_teks(teks):\n",
        "    print(teks)"
      ]
    },
    {
      "cell_type": "code",
      "execution_count": null,
      "id": "97b05ebc",
      "metadata": {
        "colab": {
          "base_uri": "https://localhost:8080/"
        },
        "id": "97b05ebc",
        "outputId": "c9ce1f90-66ff-472b-e008-e00cee2fa682"
      },
      "outputs": [
        {
          "output_type": "stream",
          "name": "stdout",
          "text": [
            "Halo, nama saya Budi.\n"
          ]
        }
      ],
      "source": [
        "print_teks(\"Halo, nama saya Budi.\")"
      ]
    },
    {
      "cell_type": "markdown",
      "id": "14f91205",
      "metadata": {
        "id": "14f91205"
      },
      "source": [
        "* Kita dapat mendefinisikan beberapa parameter sekaligus\n",
        "* Namun, untuk hal ini, urutan yang dimasukkan ke dalam fungsi harus sama dengan urutan nama variabel"
      ]
    },
    {
      "cell_type": "code",
      "execution_count": null,
      "id": "a9bb15f4",
      "metadata": {
        "id": "a9bb15f4"
      },
      "outputs": [],
      "source": [
        "def print_banyak(nama, hewan, jumlah):\n",
        "    print(nama+\" mempunyai \"+str(jumlah)+\" \"+hewan)"
      ]
    },
    {
      "cell_type": "code",
      "execution_count": null,
      "id": "017b1c04",
      "metadata": {
        "colab": {
          "base_uri": "https://localhost:8080/"
        },
        "id": "017b1c04",
        "outputId": "fdf73c22-414e-47f2-d3f7-48d5dd1b66d2"
      },
      "outputs": [
        {
          "output_type": "stream",
          "name": "stdout",
          "text": [
            "Budi mempunyai 2 landak\n"
          ]
        }
      ],
      "source": [
        "print_banyak(\"Budi\",\"landak\",\"2\")"
      ]
    },
    {
      "cell_type": "markdown",
      "id": "69e97bbc",
      "metadata": {
        "id": "69e97bbc"
      },
      "source": [
        "* Namun, jika kita menggunakan parameter, pastikan semua variabel terisi.\n",
        "* Jika tidak akan error"
      ]
    },
    {
      "cell_type": "code",
      "execution_count": null,
      "id": "8852c0a9",
      "metadata": {
        "id": "8852c0a9"
      },
      "outputs": [],
      "source": [
        "def print_banyak(nama, hewan, jumlah):\n",
        "    print(nama+\" mempunyai \"+str(jumlah)+\" \"+hewan)"
      ]
    },
    {
      "cell_type": "code",
      "execution_count": null,
      "id": "74388023",
      "metadata": {
        "colab": {
          "base_uri": "https://localhost:8080/",
          "height": 181
        },
        "id": "74388023",
        "outputId": "6b8bc146-0b81-4869-8bb3-72cbe437e54a"
      },
      "outputs": [
        {
          "output_type": "error",
          "ename": "TypeError",
          "evalue": "ignored",
          "traceback": [
            "\u001b[0;31m---------------------------------------------------------------------------\u001b[0m",
            "\u001b[0;31mTypeError\u001b[0m                                 Traceback (most recent call last)",
            "\u001b[0;32m<ipython-input-19-1768c219e288>\u001b[0m in \u001b[0;36m<cell line: 1>\u001b[0;34m()\u001b[0m\n\u001b[0;32m----> 1\u001b[0;31m \u001b[0mprint_banyak\u001b[0m\u001b[0;34m(\u001b[0m\u001b[0;34m\"Tono\"\u001b[0m\u001b[0;34m,\u001b[0m\u001b[0;34m\"kambing\"\u001b[0m\u001b[0;34m)\u001b[0m\u001b[0;34m\u001b[0m\u001b[0;34m\u001b[0m\u001b[0m\n\u001b[0m",
            "\u001b[0;31mTypeError\u001b[0m: print_banyak() missing 1 required positional argument: 'jumlah'"
          ]
        }
      ],
      "source": [
        "print_banyak(\"Tono\",\"kambing\")"
      ]
    },
    {
      "cell_type": "markdown",
      "id": "faf380ac",
      "metadata": {
        "id": "faf380ac"
      },
      "source": [
        "---\n",
        "#### Keyword Arguments\n",
        "\n",
        "* Pada pengenalan *parameters/arguments* diberikan contoh fungsi dengan banyak parameter.\n",
        "* Dengan cara tersebut, urutan nilai yang dimasukkan ke fungsi harus sama dengan urutan nama variabel parameter.\n",
        "* Jika ingin tidak urut, dapat digunakan *keyword arguments*\n",
        "\n",
        "contoh:"
      ]
    },
    {
      "cell_type": "code",
      "execution_count": null,
      "id": "c7e75d80",
      "metadata": {
        "id": "c7e75d80"
      },
      "outputs": [],
      "source": [
        "def print_banyak(nama, hewan, jumlah):\n",
        "    print(nama+\" mempunyai \"+str(jumlah)+\" \"+hewan)"
      ]
    },
    {
      "cell_type": "code",
      "execution_count": null,
      "id": "737525d3",
      "metadata": {
        "colab": {
          "base_uri": "https://localhost:8080/"
        },
        "id": "737525d3",
        "outputId": "e445b379-ace6-40f0-be8e-f8ef10db83e1"
      },
      "outputs": [
        {
          "output_type": "stream",
          "name": "stdout",
          "text": [
            "Lala mempunyai 3 Kelinci\n"
          ]
        }
      ],
      "source": [
        "print_banyak(nama=\"Lala\", jumlah=3, hewan=\"Kelinci\")"
      ]
    },
    {
      "cell_type": "markdown",
      "id": "9198c25f",
      "metadata": {
        "id": "9198c25f"
      },
      "source": [
        "---\n",
        "**Exercise!**"
      ]
    },
    {
      "cell_type": "code",
      "execution_count": null,
      "id": "65a8675f",
      "metadata": {
        "id": "65a8675f"
      },
      "outputs": [],
      "source": [
        "# Buatlah fungsi untuk menambahkan dua bilangan, lalu bagi hasil penjumlahan tersebut dengan angka ketiga (a+b)/c.\n",
        "# Panggil fungsi tersebut dengan keyword arguments, dan ambil hasilnya sebagai variabel hasil.\n",
        "# Print nilai variabel hasil tersebut\n",
        "\n",
        "def fungsi_c(a, b, c):\n",
        "  result = (a + b) / c\n",
        "  return result\n"
      ]
    },
    {
      "cell_type": "code",
      "source": [
        "fungsi_c(c = 1, a = 5, b = 2)"
      ],
      "metadata": {
        "colab": {
          "base_uri": "https://localhost:8080/"
        },
        "id": "j3wu4wDO_Psb",
        "outputId": "d514ad98-f03b-41b6-bbe0-83f34d9b5678"
      },
      "id": "j3wu4wDO_Psb",
      "execution_count": null,
      "outputs": [
        {
          "output_type": "execute_result",
          "data": {
            "text/plain": [
              "7.0"
            ]
          },
          "metadata": {},
          "execution_count": 23
        }
      ]
    },
    {
      "cell_type": "markdown",
      "id": "168fa10c",
      "metadata": {
        "id": "168fa10c"
      },
      "source": [
        "---\n",
        "#### Nilai Default\n",
        "\n",
        "* Pada setiap contoh diatas, dinyatakan bahwa nilai dari parameter harus mempunyai nilai.\n",
        "* Hal ini akan cukup membuat repot ketika setiap kali kita memanggil fungsi.\n",
        "* Karena kita harus mengisi semua nilai parameter.\n",
        "* Untuk mengatasi hal ini, digunakan `default value`."
      ]
    },
    {
      "cell_type": "markdown",
      "id": "9026e16b",
      "metadata": {
        "id": "9026e16b"
      },
      "source": [
        "* `default value` biasanya digunakan ketika kita tidak ingin repot mengisi semua parameter.\n",
        "* Maka dari itu biasanya nilai `default value` adalah nilai standar yang ditetapkan oleh programmer.\n",
        "\n",
        "Contoh penggunaan default value:"
      ]
    },
    {
      "cell_type": "code",
      "execution_count": null,
      "id": "eb5402bb",
      "metadata": {
        "id": "eb5402bb"
      },
      "outputs": [],
      "source": [
        "def gaji_karyawan(posisi, gaji=6000000):\n",
        "    print(\"Gaji dari\",posisi,\"adalah: \",gaji)"
      ]
    },
    {
      "cell_type": "markdown",
      "id": "d118d0a1",
      "metadata": {
        "id": "d118d0a1"
      },
      "source": [
        "* Nilai dari `default value` akan masuk secara otomatis sehingga pada kasus ini cukup memberikan 1 parameter saja."
      ]
    },
    {
      "cell_type": "code",
      "execution_count": null,
      "id": "e807a0ae",
      "metadata": {
        "colab": {
          "base_uri": "https://localhost:8080/"
        },
        "id": "e807a0ae",
        "outputId": "1ec8e8ab-2c95-402b-c6ee-3643834063f7"
      },
      "outputs": [
        {
          "output_type": "stream",
          "name": "stdout",
          "text": [
            "Gaji dari Jr. Data Analyst adalah:  6000000\n"
          ]
        }
      ],
      "source": [
        "gaji_karyawan(\"Jr. Data Analyst\")"
      ]
    },
    {
      "cell_type": "markdown",
      "id": "9ac89272",
      "metadata": {
        "id": "9ac89272"
      },
      "source": [
        "* Untuk merubah nilai `default value` dapat langsung dimasukkan nilainya."
      ]
    },
    {
      "cell_type": "code",
      "execution_count": null,
      "id": "c9813fc0",
      "metadata": {
        "colab": {
          "base_uri": "https://localhost:8080/"
        },
        "id": "c9813fc0",
        "outputId": "ea328ad0-777f-48cc-d4f3-87061e0f31c5"
      },
      "outputs": [
        {
          "output_type": "stream",
          "name": "stdout",
          "text": [
            "Gaji dari Supervisor adalah:  15000000\n"
          ]
        }
      ],
      "source": [
        "gaji_karyawan(\"Supervisor\", 15000000)"
      ]
    },
    {
      "cell_type": "markdown",
      "id": "d3a49c88",
      "metadata": {
        "id": "d3a49c88"
      },
      "source": [
        "* Atau dengan *keyword argument*"
      ]
    },
    {
      "cell_type": "code",
      "execution_count": null,
      "id": "154d81ad",
      "metadata": {
        "colab": {
          "base_uri": "https://localhost:8080/"
        },
        "id": "154d81ad",
        "outputId": "0886ffaa-9135-422e-9762-6b5cb92e6e72"
      },
      "outputs": [
        {
          "output_type": "stream",
          "name": "stdout",
          "text": [
            "Gaji dari Sr. Data Scientist adalah:  40000000\n"
          ]
        }
      ],
      "source": [
        "gaji_karyawan(\"Sr. Data Scientist\", gaji=40000000)"
      ]
    },
    {
      "cell_type": "markdown",
      "id": "f4924863",
      "metadata": {
        "id": "f4924863"
      },
      "source": [
        "---\n",
        "#### Arbitrary Arguments (args)\n",
        "\n",
        "* Jika kita tidak tahu ada berapa banyak argumen yang ingin dimasukkan kedalam fungsi. Bisa digunakan *arbitrary arguments*\n",
        "* Untuk membuat *arbitrary arguments* cukup menambahkan `*` sebelum nama parameter di definisi fungsi.\n",
        "* Untuk mengakses variabel ke-X bisa digunakan indexing.\n",
        "\n",
        "Contoh:"
      ]
    },
    {
      "cell_type": "code",
      "execution_count": null,
      "id": "4ad66adc",
      "metadata": {
        "id": "4ad66adc"
      },
      "outputs": [],
      "source": [
        "def urutan_anak(*nama):\n",
        "    print(\"Anak pertama adalah\",nama[0])"
      ]
    },
    {
      "cell_type": "code",
      "execution_count": null,
      "id": "e3982621",
      "metadata": {
        "colab": {
          "base_uri": "https://localhost:8080/"
        },
        "id": "e3982621",
        "outputId": "73612d37-c7d0-4557-e7d3-cf18e6b0c314"
      },
      "outputs": [
        {
          "output_type": "stream",
          "name": "stdout",
          "text": [
            "Anak pertama adalah Budi\n"
          ]
        }
      ],
      "source": [
        "urutan_anak(\"Budi\",\"Tono\",\"Joko\")"
      ]
    },
    {
      "cell_type": "markdown",
      "id": "da841aff",
      "metadata": {
        "id": "da841aff"
      },
      "source": [
        "* Karena bisa banyak, *arbitrary arguments* juga bisa dimasukkan ke dalam loop."
      ]
    },
    {
      "cell_type": "code",
      "execution_count": null,
      "id": "0e3f5a87",
      "metadata": {
        "id": "0e3f5a87"
      },
      "outputs": [],
      "source": [
        "def makanan_favorit(*daftar_makanan):\n",
        "    for makanan in daftar_makanan:\n",
        "        print(\"Makanan favorit saya adalah\", makanan)"
      ]
    },
    {
      "cell_type": "code",
      "execution_count": null,
      "id": "45a94553",
      "metadata": {
        "colab": {
          "base_uri": "https://localhost:8080/",
          "height": 68
        },
        "id": "45a94553",
        "outputId": "128754ef-c87f-4d73-ac0b-bafbccc2f071"
      },
      "outputs": [
        {
          "name": "stdout",
          "output_type": "stream",
          "text": [
            "Makanan favorit saya adalah Nasi Goreng\n",
            "Makanan favorit saya adalah Rawon\n",
            "Makanan favorit saya adalah Sate Kambing\n"
          ]
        }
      ],
      "source": [
        "makanan_favorit(\"Nasi Goreng\",\"Rawon\",\"Sate Kambing\")"
      ]
    },
    {
      "cell_type": "markdown",
      "id": "1c8e2881",
      "metadata": {
        "id": "1c8e2881"
      },
      "source": [
        "---\n",
        "#### Arbitrary Keyword Arguments (kwargs)\n",
        "\n",
        "* Konsep sama seperti *arbitrary arguments*, namun untuk hal ini bisa diberikan nama variabel.\n",
        "* Untuk membuat *arbitrary keyword arguments* cukup menambahkan `**` sebelum nama parameter di definisi fungsi.\n",
        "* Untuk mengakses nilai, digunakan nama variabel.\n",
        "\n",
        "Contoh:"
      ]
    },
    {
      "cell_type": "code",
      "execution_count": null,
      "id": "fabf91d2",
      "metadata": {
        "id": "fabf91d2"
      },
      "outputs": [],
      "source": [
        "def nama_belakang(**nama):\n",
        "    print(\"Nama belakang dia adalah\",nama['nama_belakang'])"
      ]
    },
    {
      "cell_type": "code",
      "execution_count": null,
      "id": "a26ab703",
      "metadata": {
        "colab": {
          "base_uri": "https://localhost:8080/"
        },
        "id": "a26ab703",
        "outputId": "e615b075-8ebe-4719-834d-60a78d4459cb"
      },
      "outputs": [
        {
          "output_type": "stream",
          "name": "stdout",
          "text": [
            "Nama belakang dia adalah Suwarno\n"
          ]
        }
      ],
      "source": [
        "nama_belakang(nama_depan = \"Budi\", nama_belakang = \"Suwarno\")"
      ]
    },
    {
      "cell_type": "markdown",
      "id": "f8a09e0a",
      "metadata": {
        "id": "f8a09e0a"
      },
      "source": [
        "* Bisa dilihat bahwa ketika memanggil fungsi diberikan `nama_belakang = \"Suwarno\"`\n",
        "* Sehingga untuk memanggil nilai variabelnya digunakan `nama['nama_belakang']`\n",
        "* Salah satu error yang sering terjadi adalah ketika nama variabel di dalam fungsi dan ketika memanggil fungsi tidak sama."
      ]
    },
    {
      "cell_type": "code",
      "execution_count": null,
      "id": "a005b4cf",
      "metadata": {
        "id": "a005b4cf"
      },
      "outputs": [],
      "source": [
        "def nama_belakang(**nama):\n",
        "    print(\"Nama belakang dia adalah\",nama['last_name'])"
      ]
    },
    {
      "cell_type": "code",
      "execution_count": null,
      "id": "fa7745e7",
      "metadata": {
        "colab": {
          "base_uri": "https://localhost:8080/"
        },
        "id": "fa7745e7",
        "outputId": "d83c1948-878b-40ae-e702-29789be12904"
      },
      "outputs": [
        {
          "output_type": "stream",
          "name": "stdout",
          "text": [
            "Nama belakang dia adalah Suwarno\n"
          ]
        }
      ],
      "source": [
        "nama_belakang(first_name = \"Budi\", last_name = \"Suwarno\")"
      ]
    },
    {
      "cell_type": "markdown",
      "id": "4a44b5f5",
      "metadata": {
        "id": "4a44b5f5"
      },
      "source": [
        "---\n",
        "**Exercise!**"
      ]
    },
    {
      "cell_type": "code",
      "execution_count": null,
      "id": "8bdd2564",
      "metadata": {
        "id": "8bdd2564",
        "colab": {
          "base_uri": "https://localhost:8080/"
        },
        "outputId": "be786629-6bf6-481c-f094-b6c2354c0817"
      },
      "outputs": [
        {
          "output_type": "stream",
          "name": "stdout",
          "text": [
            "Angka input adalah :  1\n",
            "Angka input adalah :  3\n",
            "Angka input adalah :  5\n",
            "Angka input adalah :  7\n",
            "Angka input adalah :  9\n",
            "Angka input adalah :  11\n"
          ]
        }
      ],
      "source": [
        "# Buat fungsi yang menerima angka apa saja sebagai arbitrary arguments\n",
        "# Print angka-angka tersebut\n",
        "def angka(*numbers):\n",
        "  for number in numbers:\n",
        "    print(\"Angka input adalah : \", number)\n",
        "\n",
        "angka(1,3,5,7,9,11)"
      ]
    }
  ],
  "metadata": {
    "kernelspec": {
      "display_name": "Python 3 (ipykernel)",
      "language": "python",
      "name": "python3"
    },
    "language_info": {
      "codemirror_mode": {
        "name": "ipython",
        "version": 3
      },
      "file_extension": ".py",
      "mimetype": "text/x-python",
      "name": "python",
      "nbconvert_exporter": "python",
      "pygments_lexer": "ipython3",
      "version": "3.8.13"
    },
    "colab": {
      "provenance": [],
      "include_colab_link": true
    }
  },
  "nbformat": 4,
  "nbformat_minor": 5
}