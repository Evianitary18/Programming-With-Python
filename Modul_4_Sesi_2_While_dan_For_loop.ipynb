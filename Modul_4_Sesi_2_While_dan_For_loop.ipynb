{
  "cells": [
    {
      "cell_type": "markdown",
      "metadata": {
        "id": "view-in-github",
        "colab_type": "text"
      },
      "source": [
        "<a href=\"https://colab.research.google.com/github/Evianitary18/Programming-With-Python/blob/main/Modul_4_Sesi_2_While_dan_For_loop.ipynb\" target=\"_parent\"><img src=\"https://colab.research.google.com/assets/colab-badge.svg\" alt=\"Open In Colab\"/></a>"
      ]
    },
    {
      "cell_type": "markdown",
      "id": "aaa41a44",
      "metadata": {
        "id": "aaa41a44"
      },
      "source": [
        "---\n",
        "## *While* Statement\n",
        "\n"
      ]
    },
    {
      "cell_type": "markdown",
      "id": "2c4c3360",
      "metadata": {
        "id": "2c4c3360"
      },
      "source": [
        "---\n",
        "### Basic While statement\n",
        "\n",
        "* `while` statement adalah pernyataan untuk looping.\n",
        "* `while` statement memiliki bentuk umum:\n",
        "\n",
        "```\n",
        "while condition:\n",
        "    run_this\n",
        "```\n",
        "* Yang berarti selama `condition` terpenuhi, maka akan terus mengulang `run_this`\n",
        "\n",
        "Contoh:"
      ]
    },
    {
      "cell_type": "code",
      "execution_count": null,
      "id": "21c9960e",
      "metadata": {
        "id": "21c9960e",
        "colab": {
          "base_uri": "https://localhost:8080/"
        },
        "outputId": "67ad0be4-2a6b-4bcb-b1a9-e2e2be7cad8d"
      },
      "outputs": [
        {
          "output_type": "stream",
          "name": "stdout",
          "text": [
            "4\n",
            "5\n"
          ]
        }
      ],
      "source": [
        "angka = 4\n",
        "while angka <= 5: # \"angka\" disini memenuhi kondisi while, maka looping akan berjalan\n",
        "    print(angka) # menampilkan \"angka\"\n",
        "    angka += 1"
      ]
    },
    {
      "cell_type": "markdown",
      "id": "57d5cc4f",
      "metadata": {
        "id": "57d5cc4f"
      },
      "source": [
        "---\n",
        "Cara membaca kode tersebut adalah:\n",
        "1. Definisikan nilai awal dari `angka` adalah 1\n",
        "2. Cek angka, apakah kurang dari sama dengan 5\n",
        "3. Jika iya, maka tampilkan nilai angka dan tambahkan nilai `angka` dengan satu.\n",
        "4. Jika tidak, maka program akan berhenti."
      ]
    },
    {
      "cell_type": "markdown",
      "id": "df50dd38",
      "metadata": {
        "id": "df50dd38"
      },
      "source": [
        "---\n",
        "Contoh lain:"
      ]
    },
    {
      "cell_type": "code",
      "execution_count": null,
      "id": "881c7f14",
      "metadata": {
        "colab": {
          "base_uri": "https://localhost:8080/"
        },
        "id": "881c7f14",
        "outputId": "0a105de7-e718-4dc9-f45b-1449e64c6c6b"
      },
      "outputs": [
        {
          "output_type": "stream",
          "name": "stdout",
          "text": [
            "5\n",
            "4\n",
            "3\n",
            "2\n",
            "1\n"
          ]
        }
      ],
      "source": [
        "angka = 5\n",
        "while angka >= 1:\n",
        "    print(angka)\n",
        "    angka -= 1"
      ]
    },
    {
      "cell_type": "markdown",
      "id": "8c02378a",
      "metadata": {
        "id": "8c02378a"
      },
      "source": [
        "---\n",
        "**Exercise!**"
      ]
    },
    {
      "cell_type": "code",
      "execution_count": null,
      "id": "370f04a4",
      "metadata": {
        "id": "370f04a4",
        "colab": {
          "base_uri": "https://localhost:8080/"
        },
        "outputId": "2b762159-d828-4d1f-a6b5-cdc48eed1acd"
      },
      "outputs": [
        {
          "output_type": "stream",
          "name": "stdout",
          "text": [
            "1\n",
            "2\n",
            "3\n",
            "4\n",
            "5\n",
            "6\n",
            "7\n",
            "8\n",
            "9\n",
            "10\n"
          ]
        }
      ],
      "source": [
        "# Buatlah angka dari 1 sampai 10\n",
        "angka = 1\n",
        "while angka <= 10:\n",
        "  print(angka)\n",
        "  angka += 1\n"
      ]
    },
    {
      "cell_type": "code",
      "execution_count": null,
      "id": "035ac17c",
      "metadata": {
        "id": "035ac17c",
        "colab": {
          "base_uri": "https://localhost:8080/"
        },
        "outputId": "9375740f-a655-4a1a-9e9f-4099f580d0f1"
      },
      "outputs": [
        {
          "output_type": "stream",
          "name": "stdout",
          "text": [
            "15\n",
            "14\n",
            "13\n",
            "12\n",
            "11\n",
            "10\n",
            "9\n",
            "8\n",
            "7\n",
            "6\n",
            "5\n"
          ]
        }
      ],
      "source": [
        "# Buatlah angka dari 15 sampai 5\n",
        "angka = 15\n",
        "while angka >= 5:\n",
        "    print(angka)\n",
        "    angka -= 1"
      ]
    },
    {
      "cell_type": "markdown",
      "id": "38c8d857",
      "metadata": {
        "id": "38c8d857"
      },
      "source": [
        "---\n",
        "### Common Errors\n",
        "\n",
        "* Salah tanda kondisional:\n",
        "    * Program nggak akan jalan.\n",
        "    * Karena kondisi tidak terpenuhi."
      ]
    },
    {
      "cell_type": "code",
      "execution_count": null,
      "id": "9869c00e",
      "metadata": {
        "id": "9869c00e"
      },
      "outputs": [],
      "source": [
        "angka = 1\n",
        "while angka >= 5:\n",
        "    print(angka)\n",
        "    angka += 1"
      ]
    },
    {
      "cell_type": "markdown",
      "id": "ab6600d9",
      "metadata": {
        "id": "ab6600d9"
      },
      "source": [
        "* Lupa memberi kondisi awal\n",
        "    * Akibatnya error"
      ]
    },
    {
      "cell_type": "code",
      "execution_count": null,
      "id": "b8c8e3ff",
      "metadata": {
        "colab": {
          "base_uri": "https://localhost:8080/",
          "height": 218
        },
        "id": "b8c8e3ff",
        "outputId": "8dbc2cf8-edab-4750-8928-31fd80e62191"
      },
      "outputs": [
        {
          "output_type": "error",
          "ename": "NameError",
          "evalue": "ignored",
          "traceback": [
            "\u001b[0;31m---------------------------------------------------------------------------\u001b[0m",
            "\u001b[0;31mNameError\u001b[0m                                 Traceback (most recent call last)",
            "\u001b[0;32m<ipython-input-6-450ba1bef3ea>\u001b[0m in \u001b[0;36m<cell line: 1>\u001b[0;34m()\u001b[0m\n\u001b[0;32m----> 1\u001b[0;31m \u001b[0;32mwhile\u001b[0m \u001b[0mtest\u001b[0m \u001b[0;34m<=\u001b[0m \u001b[0;36m5\u001b[0m\u001b[0;34m:\u001b[0m\u001b[0;34m\u001b[0m\u001b[0;34m\u001b[0m\u001b[0m\n\u001b[0m\u001b[1;32m      2\u001b[0m     \u001b[0mprint\u001b[0m\u001b[0;34m(\u001b[0m\u001b[0mtest\u001b[0m\u001b[0;34m)\u001b[0m\u001b[0;34m\u001b[0m\u001b[0;34m\u001b[0m\u001b[0m\n\u001b[1;32m      3\u001b[0m     \u001b[0mtest\u001b[0m \u001b[0;34m+=\u001b[0m \u001b[0;36m1\u001b[0m\u001b[0;34m\u001b[0m\u001b[0;34m\u001b[0m\u001b[0m\n",
            "\u001b[0;31mNameError\u001b[0m: name 'test' is not defined"
          ]
        }
      ],
      "source": [
        "while test <= 5:\n",
        "    print(test)\n",
        "    test += 1"
      ]
    },
    {
      "cell_type": "markdown",
      "id": "c347ab7d",
      "metadata": {
        "id": "c347ab7d"
      },
      "source": [
        "* Lupa update variabel di dalam loop\n",
        "    * Akibatnya bisa infinite loop"
      ]
    },
    {
      "cell_type": "code",
      "execution_count": null,
      "id": "63ea8a9e",
      "metadata": {
        "id": "63ea8a9e"
      },
      "outputs": [],
      "source": [
        "test_2 = 1\n",
        "while test_2 <= 5:\n",
        "    # test_2 akan mengeluarkan angka 1 sebanyak tak hingga asalkan sudah ...\n",
        "    # ... memenuhi kondisi dari while\n",
        "    # lupa untuk melakukan update pada variable \"test_2\"\n",
        "    print(test_2)"
      ]
    },
    {
      "cell_type": "markdown",
      "id": "35f2fd80",
      "metadata": {
        "id": "35f2fd80"
      },
      "source": [
        "* Ekspektasi dan kenyataan berbeda 1 iterasi:\n",
        "    * Dikarenakan penggunaan tanda yang tidak tepat\n",
        "    * Di sini alih alih print angka 1 sampai 5 kita hanya print sampai 4 saja"
      ]
    },
    {
      "cell_type": "code",
      "execution_count": null,
      "id": "ddc09dbb",
      "metadata": {
        "colab": {
          "base_uri": "https://localhost:8080/"
        },
        "id": "ddc09dbb",
        "outputId": "1f970070-5b3f-4c0c-b8e6-5e33a1443d6c"
      },
      "outputs": [
        {
          "output_type": "stream",
          "name": "stdout",
          "text": [
            "1\n",
            "2\n",
            "3\n",
            "4\n"
          ]
        }
      ],
      "source": [
        "test_2 = 1\n",
        "while test_2 < 5:\n",
        "    print(test_2)\n",
        "    test_2 += 1"
      ]
    },
    {
      "cell_type": "code",
      "execution_count": null,
      "id": "389494b9",
      "metadata": {
        "colab": {
          "base_uri": "https://localhost:8080/"
        },
        "id": "389494b9",
        "outputId": "7d160211-0100-4569-9027-5651d3a2202d"
      },
      "outputs": [
        {
          "output_type": "stream",
          "name": "stdout",
          "text": [
            "2\n",
            "3\n",
            "4\n",
            "5\n",
            "6\n",
            "7\n",
            "8\n",
            "9\n",
            "10\n",
            "11\n"
          ]
        }
      ],
      "source": [
        "# kira-kira mengapa hasil dari kode di bawah tidak sesuai ekspektasi?\n",
        "\n",
        "test_2 = 1\n",
        "while test_2 <= 10: # perhitungan \"angka\" tetap akan sampai dengan \"angka = 10\"\n",
        "    test_2 += 1 # ditambahkan terlebih dahulu sebelum ditampilkan\n",
        "    print(test_2)"
      ]
    },
    {
      "cell_type": "markdown",
      "source": [
        "### Pass statement\n",
        "\n",
        "\n",
        "*   Kita dapat melewati suatu iterasi sesuai dengan kondisi yang kita tentukan dengan statemen *pass*\n",
        "*   Contohnya jika kita tidak ingin mencetak suatu angka tertentu dalam loop\n",
        "\n"
      ],
      "metadata": {
        "id": "ZhFjQUdgDo6I"
      },
      "id": "ZhFjQUdgDo6I"
    },
    {
      "cell_type": "code",
      "source": [
        "# membuat angka dari 13 sampai 17, namun tidak mencetak angka 15\n",
        "angka = 13\n",
        "while angka <=17:\n",
        "  if angka == 15:\n",
        "    pass\n",
        "  else:\n",
        "    print(angka)\n",
        "  angka += 1"
      ],
      "metadata": {
        "colab": {
          "base_uri": "https://localhost:8080/"
        },
        "id": "mMUYosc9D9xK",
        "outputId": "08daef38-3078-445a-c20e-b8aadd9ddd50"
      },
      "id": "mMUYosc9D9xK",
      "execution_count": null,
      "outputs": [
        {
          "output_type": "stream",
          "name": "stdout",
          "text": [
            "13\n",
            "14\n",
            "16\n",
            "17\n"
          ]
        }
      ]
    },
    {
      "cell_type": "markdown",
      "id": "7d40e20e",
      "metadata": {
        "id": "7d40e20e"
      },
      "source": [
        "---\n",
        "**Exercise!**"
      ]
    },
    {
      "cell_type": "code",
      "execution_count": null,
      "id": "b01036a7",
      "metadata": {
        "id": "b01036a7"
      },
      "outputs": [],
      "source": [
        "# Perbaiki kode berikut, hasil adalah angka dari 1 sampai 10\n",
        "angka = 0\n",
        "while angka >= 10:\n",
        "    print(angka)\n",
        "    angka += 1"
      ]
    },
    {
      "cell_type": "code",
      "execution_count": null,
      "id": "faccdc1c",
      "metadata": {
        "id": "faccdc1c"
      },
      "outputs": [],
      "source": [
        "# Perbaiki kode berikut, hasil adalah angka genap dari 0 sampai 8\n",
        "while test <= 8:\n",
        "    print(test)\n",
        "    test += 2"
      ]
    },
    {
      "cell_type": "code",
      "execution_count": null,
      "id": "89a303ae",
      "metadata": {
        "id": "89a303ae"
      },
      "outputs": [],
      "source": [
        "# Perbaiki kode berikut, hasil adalah angka ganjil dari 1 sampai 17\n",
        "test_2 = 0\n",
        "while test_2 < 17:\n",
        "    print(test_2)\n",
        "    test_2 += 1"
      ]
    },
    {
      "cell_type": "markdown",
      "id": "bc8b9fd7",
      "metadata": {
        "id": "bc8b9fd7"
      },
      "source": [
        "---\n",
        "**Exercise!**"
      ]
    },
    {
      "cell_type": "code",
      "execution_count": null,
      "id": "10d90506",
      "metadata": {
        "id": "10d90506",
        "colab": {
          "base_uri": "https://localhost:8080/"
        },
        "outputId": "075470db-3da5-43ac-d957-593aa1fe8981"
      },
      "outputs": [
        {
          "output_type": "stream",
          "name": "stdout",
          "text": [
            "15\n",
            "16\n",
            "17\n",
            "18\n",
            "19\n",
            "21\n",
            "22\n",
            "23\n",
            "24\n",
            "25\n"
          ]
        }
      ],
      "source": [
        "# Buatlah angka dari 15 sampai 25 dengan kondisi angka tidak boleh sama dengan 20\n",
        "angka = 15\n",
        "while angka <= 25:\n",
        "  if angka == 20:\n",
        "    pass\n",
        "  else:\n",
        "    print(angka)\n",
        "  angka += 1"
      ]
    },
    {
      "cell_type": "code",
      "execution_count": null,
      "id": "bad601df",
      "metadata": {
        "id": "bad601df",
        "colab": {
          "base_uri": "https://localhost:8080/"
        },
        "outputId": "4451625e-aa34-428e-8dad-555d10f30140"
      },
      "outputs": [
        {
          "output_type": "stream",
          "name": "stdout",
          "text": [
            "30\n",
            "29\n",
            "28\n",
            "27\n",
            "26\n",
            "25\n",
            "24\n",
            "23\n",
            "22\n",
            "21\n",
            "20\n",
            "19\n",
            "17\n",
            "16\n",
            "15\n",
            "14\n",
            "13\n",
            "12\n",
            "11\n",
            "10\n"
          ]
        }
      ],
      "source": [
        "# Buatlah angka genap menurun dari 30 sampai 10 dengan kondisi angka tidak boleh sama dengan 18\n",
        "angka = 30\n",
        "while angka >=10:\n",
        "  if angka == 18:\n",
        "    pass\n",
        "  else:\n",
        "    print(angka)\n",
        "  angka -= 1"
      ]
    },
    {
      "cell_type": "markdown",
      "id": "0b59e350",
      "metadata": {
        "id": "0b59e350"
      },
      "source": [
        "---\n",
        "### While - Else\n",
        "\n",
        "* Statement `else` di dalam while berguna untuk menjalankan satu blok kode ketika kondisi sudah tidak terpenuhi."
      ]
    },
    {
      "cell_type": "code",
      "execution_count": null,
      "id": "11eb53bc",
      "metadata": {
        "colab": {
          "base_uri": "https://localhost:8080/"
        },
        "id": "11eb53bc",
        "outputId": "c722cd8d-f2bf-4c6b-8eb2-8bac28094aad"
      },
      "outputs": [
        {
          "output_type": "stream",
          "name": "stdout",
          "text": [
            "1\n",
            "2\n",
            "3\n",
            "nilai i sudah lebih dari 3.\n"
          ]
        }
      ],
      "source": [
        "i = 1\n",
        "while i <= 3:\n",
        "    print(i)\n",
        "    i += 1\n",
        "else:\n",
        "    print(\"nilai i sudah lebih dari 3.\")"
      ]
    },
    {
      "cell_type": "markdown",
      "id": "e53331a4",
      "metadata": {
        "id": "e53331a4"
      },
      "source": [
        "* Namun pada prakteknya jarang digunakan, karena bisa juga digunakan seperti ini."
      ]
    },
    {
      "cell_type": "code",
      "execution_count": null,
      "id": "d385ca2c",
      "metadata": {
        "colab": {
          "base_uri": "https://localhost:8080/"
        },
        "id": "d385ca2c",
        "outputId": "be8cc4cd-71a5-4142-eb7a-953038a4bf84"
      },
      "outputs": [
        {
          "output_type": "stream",
          "name": "stdout",
          "text": [
            "1\n",
            "2\n",
            "3\n",
            "nilai i sudah lebih dari 3.\n"
          ]
        }
      ],
      "source": [
        "i = 1\n",
        "while i <= 3:\n",
        "    print(i)\n",
        "    i += 1\n",
        "\n",
        "print(\"nilai i sudah lebih dari 3.\")"
      ]
    },
    {
      "cell_type": "markdown",
      "id": "e34365e1",
      "metadata": {
        "id": "e34365e1"
      },
      "source": [
        "# For Loop\n",
        "\n",
        "* Pada bagian ini akan dipelajari `for`.\n",
        "* Perbedaan antar keduanya:\n",
        "    * `while` merupakan *indefinite loops*. Singkatnya, kita tidak tahu akan berapa banyak loop yang dijalankan.\n",
        "    * `for` merupakan *definite loops*. Yang berarti, kita sudah tahu objek apa yang akan di-loop.\n"
      ]
    },
    {
      "cell_type": "markdown",
      "id": "6383e58c",
      "metadata": {
        "id": "6383e58c"
      },
      "source": [
        "Contoh sederhana\n",
        "\n",
        "Dalam `while`:"
      ]
    },
    {
      "cell_type": "code",
      "execution_count": null,
      "id": "7bf79cce",
      "metadata": {
        "id": "7bf79cce",
        "colab": {
          "base_uri": "https://localhost:8080/"
        },
        "outputId": "cfaebd6b-2585-4c39-f204-614a2b77ff17"
      },
      "outputs": [
        {
          "output_type": "stream",
          "name": "stdout",
          "text": [
            "0\n",
            "1\n",
            "2\n",
            "3\n",
            "4\n"
          ]
        }
      ],
      "source": [
        "i = 0\n",
        "while i <= 4:\n",
        "    print(i)\n",
        "    i += 1"
      ]
    },
    {
      "cell_type": "markdown",
      "id": "29c37d89",
      "metadata": {
        "id": "29c37d89"
      },
      "source": [
        "Dalam `for`:"
      ]
    },
    {
      "cell_type": "code",
      "execution_count": null,
      "id": "382b80ac",
      "metadata": {
        "id": "382b80ac",
        "colab": {
          "base_uri": "https://localhost:8080/"
        },
        "outputId": "ca6add13-0d98-46e4-de66-f60a3cfc9adc"
      },
      "outputs": [
        {
          "output_type": "stream",
          "name": "stdout",
          "text": [
            "0\n",
            "1\n",
            "2\n",
            "3\n",
            "4\n"
          ]
        }
      ],
      "source": [
        "for i in 0,1,2,3,4:\n",
        "    print(i)"
      ]
    },
    {
      "cell_type": "code",
      "execution_count": null,
      "id": "52008bde",
      "metadata": {
        "id": "52008bde"
      },
      "outputs": [],
      "source": [
        "# can for loops be infinite? Yes, can!\n",
        "# example 1:\n",
        "l = [1]\n",
        "for x in l:\n",
        "    l.append(x + 1) # we're not specifying when append is gonna stop\n",
        "    print(x)"
      ]
    },
    {
      "cell_type": "code",
      "execution_count": null,
      "id": "b22d9241",
      "metadata": {
        "id": "b22d9241",
        "colab": {
          "base_uri": "https://localhost:8080/",
          "height": 218
        },
        "outputId": "22f46da9-60b1-4b18-abb4-3d5f19cb4531"
      },
      "outputs": [
        {
          "output_type": "error",
          "ename": "KeyboardInterrupt",
          "evalue": "ignored",
          "traceback": [
            "\u001b[0;31m---------------------------------------------------------------------------\u001b[0m",
            "\u001b[0;31mKeyboardInterrupt\u001b[0m                         Traceback (most recent call last)",
            "\u001b[0;32m<ipython-input-32-497154a1de21>\u001b[0m in \u001b[0;36m<cell line: 2>\u001b[0;34m()\u001b[0m\n\u001b[1;32m      1\u001b[0m \u001b[0;31m# example 2:\u001b[0m\u001b[0;34m\u001b[0m\u001b[0;34m\u001b[0m\u001b[0m\n\u001b[1;32m      2\u001b[0m \u001b[0;32mfor\u001b[0m \u001b[0mi\u001b[0m \u001b[0;32min\u001b[0m \u001b[0miter\u001b[0m\u001b[0;34m(\u001b[0m\u001b[0mint\u001b[0m\u001b[0;34m,\u001b[0m \u001b[0;36m1\u001b[0m\u001b[0;34m)\u001b[0m\u001b[0;34m:\u001b[0m\u001b[0;34m\u001b[0m\u001b[0;34m\u001b[0m\u001b[0m\n\u001b[0;32m----> 3\u001b[0;31m     \u001b[0;32mpass\u001b[0m\u001b[0;34m\u001b[0m\u001b[0;34m\u001b[0m\u001b[0m\n\u001b[0m",
            "\u001b[0;31mKeyboardInterrupt\u001b[0m: "
          ]
        }
      ],
      "source": [
        "# example 2:\n",
        "for i in iter(int, 1):\n",
        "    pass"
      ]
    },
    {
      "cell_type": "code",
      "execution_count": null,
      "id": "b0604694",
      "metadata": {
        "id": "b0604694"
      },
      "outputs": [],
      "source": [
        "# apa itu iter()\n",
        "\n",
        "huruf_vokal = ['a', 'e', 'i', 'o', 'u']\n",
        "iter_huruf_vokal = iter(huruf_vokal)"
      ]
    },
    {
      "cell_type": "code",
      "execution_count": null,
      "id": "6a71aec2",
      "metadata": {
        "id": "6a71aec2",
        "colab": {
          "base_uri": "https://localhost:8080/"
        },
        "outputId": "45f6be2d-3779-45d3-ac55-76a433c874cd"
      },
      "outputs": [
        {
          "output_type": "stream",
          "name": "stdout",
          "text": [
            "a\n"
          ]
        }
      ],
      "source": [
        "print(next(iter_huruf_vokal))"
      ]
    },
    {
      "cell_type": "markdown",
      "id": "9caa99a1",
      "metadata": {
        "id": "9caa99a1"
      },
      "source": [
        "---\n",
        "**Exercise!**"
      ]
    },
    {
      "cell_type": "code",
      "execution_count": null,
      "id": "5762166d",
      "metadata": {
        "id": "5762166d",
        "colab": {
          "base_uri": "https://localhost:8080/"
        },
        "outputId": "41e003c9-9c73-48e5-961a-047618050d7a"
      },
      "outputs": [
        {
          "output_type": "stream",
          "name": "stdout",
          "text": [
            "1\n",
            "2\n",
            "3\n",
            "4\n",
            "5\n"
          ]
        }
      ],
      "source": [
        "# Buatlah for loop dari 1 sampai 5\n",
        "for i in 1, 2, 3, 4, 5:\n",
        "  print(i)\n"
      ]
    },
    {
      "cell_type": "code",
      "execution_count": null,
      "id": "b5a64d6f",
      "metadata": {
        "id": "b5a64d6f",
        "colab": {
          "base_uri": "https://localhost:8080/"
        },
        "outputId": "5de1b47b-6390-4a7c-9d80-937cde59edef"
      },
      "outputs": [
        {
          "output_type": "stream",
          "name": "stdout",
          "text": [
            "0\n",
            "1\n",
            "2\n",
            "3\n",
            "4\n",
            "5\n",
            "6\n"
          ]
        }
      ],
      "source": [
        "# Buatlah for loop dari 0 sampai 6\n",
        "for i in 0, 1, 2, 3, 4, 5, 6:\n",
        "  print(i)"
      ]
    },
    {
      "cell_type": "code",
      "execution_count": null,
      "id": "91146c3c",
      "metadata": {
        "id": "91146c3c"
      },
      "outputs": [],
      "source": [
        "# Ubahlah while berikut menjadi for\n",
        "i = 1\n",
        "while i <= 9:\n",
        "    print(i)\n",
        "    i += 2"
      ]
    },
    {
      "cell_type": "markdown",
      "id": "0bdc679f",
      "metadata": {
        "id": "0bdc679f"
      },
      "source": [
        "---\n",
        "## Range\n",
        "\n",
        "* Di penjelasan sebelumnya, telah dijelaskan bahwa untuk `for` kita harus mengetahui hal yang ingin di-loop terlebih dahulu.\n",
        "* Contoh di atas memerlukan definisi secara manual, ini akan sangat tidak praktis jika hal yang ingin di-loop banyak.\n",
        "* Untuk mengatasi hal tersebut digunakan fungsi `range()`"
      ]
    },
    {
      "cell_type": "markdown",
      "id": "5d3520cb",
      "metadata": {
        "id": "5d3520cb"
      },
      "source": [
        "---\n",
        "* Secara umum fungsi `range` memiliki bentuk seperti berikut: `range(begin,end,step)`\n",
        "* `begin` adalah angka pertama di dalam range, secara default adalah `0`.\n",
        "* `end` adalah angka 1 step setelah angka terakhir, tidak memiliki default.\n",
        "* `step` adalah besar dari kenaikan atau penurunan, secara default adalah `1`.\n",
        "\n",
        "Contoh:"
      ]
    },
    {
      "cell_type": "markdown",
      "id": "d5c0b65c",
      "metadata": {
        "id": "d5c0b65c"
      },
      "source": [
        "* range dengan nilai `end` saja."
      ]
    },
    {
      "cell_type": "code",
      "execution_count": null,
      "id": "66a8fead",
      "metadata": {
        "id": "66a8fead",
        "colab": {
          "base_uri": "https://localhost:8080/"
        },
        "outputId": "0b719677-f343-4ad8-8bc8-e6346439b7ee"
      },
      "outputs": [
        {
          "output_type": "stream",
          "name": "stdout",
          "text": [
            "0\n",
            "1\n",
            "2\n",
            "3\n",
            "4\n"
          ]
        }
      ],
      "source": [
        "for i in range(5):\n",
        "    print(i)"
      ]
    },
    {
      "cell_type": "markdown",
      "id": "e974b8de",
      "metadata": {
        "id": "e974b8de"
      },
      "source": [
        "* range dengan nilai `begin` dan `end`"
      ]
    },
    {
      "cell_type": "code",
      "execution_count": null,
      "id": "09a7e750",
      "metadata": {
        "id": "09a7e750",
        "colab": {
          "base_uri": "https://localhost:8080/"
        },
        "outputId": "82ee6276-066c-4fd5-8fa9-d364a8fc91d2"
      },
      "outputs": [
        {
          "output_type": "stream",
          "name": "stdout",
          "text": [
            "1\n",
            "2\n",
            "3\n",
            "4\n"
          ]
        }
      ],
      "source": [
        "for i in range(1,5):\n",
        "    print(i)"
      ]
    },
    {
      "cell_type": "markdown",
      "id": "bd620419",
      "metadata": {
        "id": "bd620419"
      },
      "source": [
        "* range dengan `step`"
      ]
    },
    {
      "cell_type": "code",
      "execution_count": null,
      "id": "d36e81db",
      "metadata": {
        "id": "d36e81db",
        "colab": {
          "base_uri": "https://localhost:8080/"
        },
        "outputId": "7b09b339-c953-4f67-9afe-98eb81445e01"
      },
      "outputs": [
        {
          "output_type": "stream",
          "name": "stdout",
          "text": [
            "0\n",
            "2\n",
            "4\n",
            "6\n",
            "8\n",
            "10\n"
          ]
        }
      ],
      "source": [
        "for i in range(0,12,2):\n",
        "    print(i)"
      ]
    },
    {
      "cell_type": "markdown",
      "id": "bc3eb142",
      "metadata": {
        "id": "bc3eb142"
      },
      "source": [
        "* range dengan `step` menurun"
      ]
    },
    {
      "cell_type": "code",
      "execution_count": null,
      "id": "303d7a76",
      "metadata": {
        "id": "303d7a76",
        "colab": {
          "base_uri": "https://localhost:8080/"
        },
        "outputId": "9292bb2c-0172-4685-f636-01bc9480b1f8"
      },
      "outputs": [
        {
          "output_type": "stream",
          "name": "stdout",
          "text": [
            "10\n",
            "8\n",
            "6\n",
            "4\n",
            "2\n"
          ]
        }
      ],
      "source": [
        "for i in range(10,0,-2):\n",
        "    print(i)"
      ]
    },
    {
      "cell_type": "markdown",
      "id": "8a1cc266",
      "metadata": {
        "id": "8a1cc266"
      },
      "source": [
        "---\n",
        "**Exercise!**"
      ]
    },
    {
      "cell_type": "code",
      "execution_count": null,
      "id": "a5e8a4e6",
      "metadata": {
        "id": "a5e8a4e6",
        "colab": {
          "base_uri": "https://localhost:8080/"
        },
        "outputId": "0bf722b2-9eb3-4947-a32f-f06f4eb241f5"
      },
      "outputs": [
        {
          "output_type": "stream",
          "name": "stdout",
          "text": [
            "0\n",
            "1\n",
            "2\n",
            "3\n",
            "4\n",
            "5\n",
            "6\n",
            "7\n",
            "8\n",
            "9\n",
            "10\n",
            "11\n"
          ]
        }
      ],
      "source": [
        "# Buatlah for loop dari 0 sampai 11\n",
        "for i in range(12):\n",
        "  print(i)"
      ]
    },
    {
      "cell_type": "code",
      "execution_count": null,
      "id": "6af38f25",
      "metadata": {
        "id": "6af38f25",
        "colab": {
          "base_uri": "https://localhost:8080/"
        },
        "outputId": "f9dc84b3-d35a-4c20-9b41-f5755909410f"
      },
      "outputs": [
        {
          "output_type": "stream",
          "name": "stdout",
          "text": [
            "2\n",
            "4\n",
            "6\n",
            "8\n"
          ]
        }
      ],
      "source": [
        "# Buatlah for loop bilangan genap dari 2 sampai 8\n",
        "for i in range(2,9,2):\n",
        "  print(i)"
      ]
    },
    {
      "cell_type": "code",
      "execution_count": null,
      "id": "8db2252b",
      "metadata": {
        "id": "8db2252b",
        "colab": {
          "base_uri": "https://localhost:8080/"
        },
        "outputId": "1824eed1-0df9-4ab5-b88c-07df13d92429"
      },
      "outputs": [
        {
          "output_type": "stream",
          "name": "stdout",
          "text": [
            "29\n",
            "27\n",
            "25\n",
            "23\n",
            "21\n",
            "19\n",
            "17\n",
            "15\n"
          ]
        }
      ],
      "source": [
        "# Buatlah for loop menurun bilangan ganjil dari 29 sampai 15\n",
        "for i in range(29, 14, -2):\n",
        "  print(i)"
      ]
    },
    {
      "cell_type": "markdown",
      "id": "e0f6cea6",
      "metadata": {
        "id": "e0f6cea6"
      },
      "source": [
        "---\n",
        "## Common errors\n",
        "\n",
        "* lupa memakai fungsi `range()`"
      ]
    },
    {
      "cell_type": "code",
      "execution_count": null,
      "id": "cdd1f061",
      "metadata": {
        "id": "cdd1f061",
        "colab": {
          "base_uri": "https://localhost:8080/",
          "height": 200
        },
        "outputId": "0935fa8c-3902-4b89-cdd7-f500fc8b3da3"
      },
      "outputs": [
        {
          "output_type": "error",
          "ename": "TypeError",
          "evalue": "ignored",
          "traceback": [
            "\u001b[0;31m---------------------------------------------------------------------------\u001b[0m",
            "\u001b[0;31mTypeError\u001b[0m                                 Traceback (most recent call last)",
            "\u001b[0;32m<ipython-input-44-2ce37977c71e>\u001b[0m in \u001b[0;36m<cell line: 1>\u001b[0;34m()\u001b[0m\n\u001b[0;32m----> 1\u001b[0;31m \u001b[0;32mfor\u001b[0m \u001b[0mi\u001b[0m \u001b[0;32min\u001b[0m \u001b[0;36m5\u001b[0m\u001b[0;34m:\u001b[0m\u001b[0;34m\u001b[0m\u001b[0;34m\u001b[0m\u001b[0m\n\u001b[0m\u001b[1;32m      2\u001b[0m     \u001b[0mprint\u001b[0m\u001b[0;34m(\u001b[0m\u001b[0mi\u001b[0m\u001b[0;34m)\u001b[0m\u001b[0;34m\u001b[0m\u001b[0;34m\u001b[0m\u001b[0m\n",
            "\u001b[0;31mTypeError\u001b[0m: 'int' object is not iterable"
          ]
        }
      ],
      "source": [
        "for i in 5:\n",
        "    print(i)"
      ]
    },
    {
      "cell_type": "markdown",
      "id": "eeda2730",
      "metadata": {
        "id": "eeda2730"
      },
      "source": [
        "* ekspektasi tidak sesuai kenyataan:\n",
        "    * biasanya karena lupa `end` pada for loop bukan angka terakhir.\n",
        "    * Melainkan angka setelah angka terakhir."
      ]
    },
    {
      "cell_type": "code",
      "execution_count": null,
      "id": "ab4c6476",
      "metadata": {
        "id": "ab4c6476",
        "colab": {
          "base_uri": "https://localhost:8080/"
        },
        "outputId": "15ee6920-383d-47ab-9f18-18a1b8991d63"
      },
      "outputs": [
        {
          "output_type": "stream",
          "name": "stdout",
          "text": [
            "1\n",
            "2\n",
            "3\n",
            "4\n"
          ]
        }
      ],
      "source": [
        "# Misal mau membuat loop 1 sampai 5\n",
        "for i in range(1,5):\n",
        "    print(i)"
      ]
    },
    {
      "cell_type": "markdown",
      "id": "c85b4336",
      "metadata": {
        "id": "c85b4336"
      },
      "source": [
        "---\n",
        "**Exercise!**"
      ]
    },
    {
      "cell_type": "code",
      "execution_count": null,
      "id": "552574b5",
      "metadata": {
        "id": "552574b5"
      },
      "outputs": [],
      "source": [
        "# Perbaikilah kode berikut\n",
        "for i in 5:\n",
        "    print(i)"
      ]
    },
    {
      "cell_type": "code",
      "execution_count": null,
      "id": "9d27fdf5",
      "metadata": {
        "id": "9d27fdf5"
      },
      "outputs": [],
      "source": [
        "# Perbaikilah kode berikut sehingga output dari 0 sampai 7\n",
        "for i in range(1,7):\n",
        "    print(i)"
      ]
    },
    {
      "cell_type": "markdown",
      "id": "623089c4",
      "metadata": {
        "id": "623089c4"
      },
      "source": [
        "---\n",
        "## Iterasi pada String\n",
        "\n",
        "* Pada pertemuan pertama sudah dibahas mengenai `string`.\n",
        "* Elemen pada `string` dapat diakses dengan menggunakan index maupun slicing.\n",
        "\n",
        "Contoh:"
      ]
    },
    {
      "cell_type": "code",
      "execution_count": null,
      "id": "01a71e7d",
      "metadata": {
        "id": "01a71e7d",
        "colab": {
          "base_uri": "https://localhost:8080/",
          "height": 36
        },
        "outputId": "adf94b7a-dc2d-4644-9337-99f80286457e"
      },
      "outputs": [
        {
          "output_type": "execute_result",
          "data": {
            "text/plain": [
              "'mput'"
            ],
            "application/vnd.google.colaboratory.intrinsic+json": {
              "type": "string"
            }
          },
          "metadata": {},
          "execution_count": 46
        }
      ],
      "source": [
        "teks = \"komputer\"\n",
        "teks[2:6]"
      ]
    },
    {
      "cell_type": "markdown",
      "id": "009308f0",
      "metadata": {
        "id": "009308f0"
      },
      "source": [
        "* `for` loop juga bisa digunakan untuk mengakses elemen satu per satu dari `string`.\n",
        "\n",
        "contoh:"
      ]
    },
    {
      "cell_type": "code",
      "execution_count": null,
      "id": "99b0ca1e",
      "metadata": {
        "id": "99b0ca1e",
        "colab": {
          "base_uri": "https://localhost:8080/"
        },
        "outputId": "1ec8e308-94c4-45d5-9d7e-f1877b3861a7"
      },
      "outputs": [
        {
          "output_type": "stream",
          "name": "stdout",
          "text": [
            "p\n",
            "r\n",
            "o\n",
            "g\n",
            "r\n",
            "a\n",
            "m\n",
            "m\n",
            "i\n",
            "n\n",
            "g\n"
          ]
        }
      ],
      "source": [
        "kata = \"programming\"\n",
        "for huruf in kata:\n",
        "    print(huruf)"
      ]
    },
    {
      "cell_type": "markdown",
      "id": "8f6f71f5",
      "metadata": {
        "id": "8f6f71f5"
      },
      "source": [
        "* Dengan menggabungkan method `.split()` untuk string dan `for` loop. Maka bisa juga digunakan untuk mendapatkan kata dari kalimat."
      ]
    },
    {
      "cell_type": "code",
      "execution_count": null,
      "id": "2e4bc665",
      "metadata": {
        "id": "2e4bc665",
        "colab": {
          "base_uri": "https://localhost:8080/"
        },
        "outputId": "0cfd0b1f-7ef9-4d46-a9ea-62ef4a87f398"
      },
      "outputs": [
        {
          "output_type": "stream",
          "name": "stdout",
          "text": [
            "teman\n",
            "saya\n",
            "suka\n",
            "makan\n",
            "nasi\n",
            "goreng\n"
          ]
        }
      ],
      "source": [
        "kalimat = 'teman saya suka makan nasi goreng'\n",
        "for kata in kalimat.split():\n",
        "    print(kata)"
      ]
    },
    {
      "cell_type": "markdown",
      "id": "e42bce90",
      "metadata": {
        "id": "e42bce90"
      },
      "source": [
        "---\n",
        "**Exercise!**"
      ]
    },
    {
      "cell_type": "code",
      "execution_count": null,
      "id": "cf5d86bb",
      "metadata": {
        "id": "cf5d86bb",
        "colab": {
          "base_uri": "https://localhost:8080/"
        },
        "outputId": "3417f29a-984e-43c6-e45f-bb7c02629d99"
      },
      "outputs": [
        {
          "output_type": "stream",
          "name": "stdout",
          "text": [
            "t\n",
            "e\n",
            "l\n",
            "e\n",
            "v\n",
            "i\n",
            "s\n",
            "i\n"
          ]
        }
      ],
      "source": [
        "# tampilkan setiap huruf pada kata berikut\n",
        "kata_1 = \"televisi\"\n",
        "for kata in kata_1:\n",
        "  print(kata)"
      ]
    },
    {
      "cell_type": "code",
      "execution_count": null,
      "id": "6b24d62e",
      "metadata": {
        "id": "6b24d62e",
        "colab": {
          "base_uri": "https://localhost:8080/"
        },
        "outputId": "bb8af7c1-17d8-47b7-c091-b5d96fd1f305"
      },
      "outputs": [
        {
          "output_type": "stream",
          "name": "stdout",
          "text": [
            "0\n",
            "8\n",
            "1\n",
            "7\n",
            "1\n",
            "9\n",
            "4\n",
            "5\n"
          ]
        }
      ],
      "source": [
        "# tampilkan setiap digit pada angka berikut\n",
        "angka = \"08171945\"\n",
        "for a in angka:\n",
        "  print(a)"
      ]
    },
    {
      "cell_type": "markdown",
      "id": "dedd5d7e",
      "metadata": {
        "id": "dedd5d7e"
      },
      "source": [
        "---\n",
        "## Nested loop\n",
        "\n",
        "* Sama seperti *conditional* , Loop juga bisa *nested*.\n",
        "* Yang berarti loop di dalam loop.\n",
        "* Biasanya dipakai untuk program yang lebih kompleks."
      ]
    },
    {
      "cell_type": "markdown",
      "id": "a50bf55e",
      "metadata": {
        "id": "a50bf55e"
      },
      "source": [
        "---\n",
        "* Konsep dari *nested* loop adalah:\n",
        "    * Untuk 1 kali iterasi yang luar.\n",
        "    * *Loop* yang dalam akan menyelesaikan 1 siklus.\n",
        "\n",
        "Contoh:"
      ]
    },
    {
      "cell_type": "code",
      "execution_count": null,
      "id": "223c0993",
      "metadata": {
        "id": "223c0993",
        "colab": {
          "base_uri": "https://localhost:8080/"
        },
        "outputId": "f74b5510-d595-4dac-9ff5-7eb640dd631b"
      },
      "outputs": [
        {
          "output_type": "stream",
          "name": "stdout",
          "text": [
            "ini loop luar\n",
            "ini loop dalam\n",
            "ini loop dalam\n",
            "ini loop dalam\n",
            "ini loop luar\n",
            "ini loop dalam\n",
            "ini loop dalam\n",
            "ini loop dalam\n"
          ]
        }
      ],
      "source": [
        "for i in range (2):\n",
        "    print(\"ini loop luar\")\n",
        "    for j in range(3):\n",
        "        print(\"ini loop dalam\")"
      ]
    },
    {
      "cell_type": "markdown",
      "id": "78074789",
      "metadata": {
        "id": "78074789"
      },
      "source": [
        "Contoh lain:\n",
        "\n",
        "membuat tabel perkalian 1 dan 2 (dari 1 sampai 5)"
      ]
    },
    {
      "cell_type": "code",
      "execution_count": null,
      "id": "1925fad1",
      "metadata": {
        "id": "1925fad1",
        "colab": {
          "base_uri": "https://localhost:8080/"
        },
        "outputId": "862cf8f9-37ec-48b9-ace6-5778010b3446"
      },
      "outputs": [
        {
          "output_type": "stream",
          "name": "stdout",
          "text": [
            "1  x  1\n",
            "1  x  2\n",
            "1  x  3\n",
            "1  x  4\n",
            "1  x  5\n",
            "\n",
            "2  x  1\n",
            "2  x  2\n",
            "2  x  3\n",
            "2  x  4\n",
            "2  x  5\n",
            "\n"
          ]
        }
      ],
      "source": [
        "for dikali in range(1,3):\n",
        "    for pengali in range(1,6):\n",
        "        perkalian = dikali * pengali\n",
        "        print(dikali, ' x ', pengali)\n",
        "    print('')"
      ]
    },
    {
      "cell_type": "markdown",
      "id": "36810663",
      "metadata": {
        "id": "36810663"
      },
      "source": [
        "---\n",
        "**Exercise!**"
      ]
    },
    {
      "cell_type": "code",
      "execution_count": null,
      "id": "d67cfd31",
      "metadata": {
        "id": "d67cfd31",
        "colab": {
          "base_uri": "https://localhost:8080/"
        },
        "outputId": "906c552a-ffd1-469e-9c4c-27187aa39988"
      },
      "outputs": [
        {
          "output_type": "stream",
          "name": "stdout",
          "text": [
            "3  x  1 = 3\n",
            "3  x  2 = 6\n",
            "3  x  3 = 9\n",
            "3  x  4 = 12\n",
            "3  x  5 = 15\n",
            "\n",
            "4  x  1 = 4\n",
            "4  x  2 = 8\n",
            "4  x  3 = 12\n",
            "4  x  4 = 16\n",
            "4  x  5 = 20\n",
            "\n"
          ]
        }
      ],
      "source": [
        "# Buatlah tabel perkalian 3-4 (dari 1-5) dan tambahkan hasil perkalian di dalam tabel tersebut\n",
        "for dikali in range(3,5):\n",
        "    for pengali in range(1,6):\n",
        "        perkalian = dikali * pengali\n",
        "        print(dikali, ' x ', pengali, '=', perkalian)\n",
        "    print('')"
      ]
    },
    {
      "cell_type": "code",
      "execution_count": null,
      "id": "73fdcbae",
      "metadata": {
        "id": "73fdcbae"
      },
      "outputs": [],
      "source": []
    },
    {
      "cell_type": "code",
      "execution_count": null,
      "id": "e17162ee",
      "metadata": {
        "id": "e17162ee"
      },
      "outputs": [],
      "source": []
    }
  ],
  "metadata": {
    "kernelspec": {
      "display_name": "Python 3 (ipykernel)",
      "language": "python",
      "name": "python3"
    },
    "language_info": {
      "codemirror_mode": {
        "name": "ipython",
        "version": 3
      },
      "file_extension": ".py",
      "mimetype": "text/x-python",
      "name": "python",
      "nbconvert_exporter": "python",
      "pygments_lexer": "ipython3",
      "version": "3.8.13"
    },
    "colab": {
      "provenance": [],
      "include_colab_link": true
    }
  },
  "nbformat": 4,
  "nbformat_minor": 5
}