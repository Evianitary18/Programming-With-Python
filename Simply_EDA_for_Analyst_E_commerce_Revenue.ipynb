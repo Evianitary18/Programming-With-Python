{
  "nbformat": 4,
  "nbformat_minor": 0,
  "metadata": {
    "colab": {
      "provenance": [],
      "authorship_tag": "ABX9TyOl4enwNQlghzOg96YJITBq",
      "include_colab_link": true
    },
    "kernelspec": {
      "name": "python3",
      "display_name": "Python 3"
    },
    "language_info": {
      "name": "python"
    }
  },
  "cells": [
    {
      "cell_type": "markdown",
      "metadata": {
        "id": "view-in-github",
        "colab_type": "text"
      },
      "source": [
        "<a href=\"https://colab.research.google.com/github/Evianitary18/Programming-With-Python/blob/main/Simply_EDA_for_Analyst_E_commerce_Revenue.ipynb\" target=\"_parent\"><img src=\"https://colab.research.google.com/assets/colab-badge.svg\" alt=\"Open In Colab\"/></a>"
      ]
    },
    {
      "cell_type": "markdown",
      "source": [
        "# Data Preparation"
      ],
      "metadata": {
        "id": "dHKq5tfbJFAA"
      }
    },
    {
      "cell_type": "code",
      "execution_count": 1,
      "metadata": {
        "id": "Po7iLHc1Ertd"
      },
      "outputs": [],
      "source": [
        "# import library\n",
        "import matplotlib.pyplot as plt\n",
        "import numpy as np\n",
        "import pandas as pd\n",
        "import seaborn as sns\n",
        "from sklearn.pipeline import Pipeline\n",
        "from sklearn.preprocessing import StandardScaler,PolynomialFeatures\n",
        "from sklearn.linear_model import LinearRegression\n",
        "from scipy.stats import zscore\n",
        "import statsmodels.api as sa\n",
        "import statsmodels.formula.api as sm\n",
        "%matplotlib inline\n",
        "\n"
      ]
    },
    {
      "cell_type": "code",
      "source": [
        "# code untuk menghilangkan warning message saat menjalankan code di bawah\n",
        "import warnings\n",
        "warnings.filterwarnings('ignore')\n",
        ""
      ],
      "metadata": {
        "id": "mkI3sl1dJBfv"
      },
      "execution_count": 2,
      "outputs": []
    },
    {
      "cell_type": "code",
      "source": [
        "# Load data kita ke sebuah dataframe bernamaa\n",
        "df_project = pd.read_excel('Ecommerce_Final.xlsx')\n",
        "df_project.head()\n",
        ""
      ],
      "metadata": {
        "colab": {
          "base_uri": "https://localhost:8080/",
          "height": 397
        },
        "id": "azIYX8qCJJ6m",
        "outputId": "2809334d-48a1-45ed-bea1-845643f1288f"
      },
      "execution_count": 3,
      "outputs": [
        {
          "output_type": "execute_result",
          "data": {
            "text/plain": [
              "   InvoiceNo StockCode                                       Product_name  \\\n",
              "0     536370      POST  Reffair AX30 [MAX] Portable Air Purifier for C...   \n",
              "1     536370     22726  Wayona Nylon Braided USB to Lightning Fast Cha...   \n",
              "2     536370     21724  Ambrane Unbreakable 60W / 3A Fast Charging 1.5...   \n",
              "3     536370     21913  Sounce Fast Phone Charging Cable & Data Sync U...   \n",
              "4     536370     21035  boAt Deuce USB 300 2 in 1 Type-C & Micro USB S...   \n",
              "\n",
              "                  Category         InvoiceDate  Quantity  UnitPrice(€)  \\\n",
              "0          Car & Motorbike 2010-12-01 08:45:00        15         18.00   \n",
              "1  Computers & Accessories 2010-12-01 08:45:00       118          3.75   \n",
              "2  Computers & Accessories 2010-12-01 08:45:00       106          0.85   \n",
              "3  Computers & Accessories 2010-12-01 08:45:00        96          3.75   \n",
              "4  Computers & Accessories 2010-12-01 08:45:00        61          2.95   \n",
              "\n",
              "   Disc_type  CustomerID        Country Market_id   Region  \n",
              "0          1       12583  United States        US     East  \n",
              "1          1       12583      Australia      APAC  Oceania  \n",
              "2          3       12583      Australia      APAC  Oceania  \n",
              "3          1       12583        Germany        EU  Central  \n",
              "4          1       12583        Senegal    Africa   Africa  "
            ],
            "text/html": [
              "\n",
              "  <div id=\"df-444b24b8-3b1f-4fc6-8b44-adac844c221a\" class=\"colab-df-container\">\n",
              "    <div>\n",
              "<style scoped>\n",
              "    .dataframe tbody tr th:only-of-type {\n",
              "        vertical-align: middle;\n",
              "    }\n",
              "\n",
              "    .dataframe tbody tr th {\n",
              "        vertical-align: top;\n",
              "    }\n",
              "\n",
              "    .dataframe thead th {\n",
              "        text-align: right;\n",
              "    }\n",
              "</style>\n",
              "<table border=\"1\" class=\"dataframe\">\n",
              "  <thead>\n",
              "    <tr style=\"text-align: right;\">\n",
              "      <th></th>\n",
              "      <th>InvoiceNo</th>\n",
              "      <th>StockCode</th>\n",
              "      <th>Product_name</th>\n",
              "      <th>Category</th>\n",
              "      <th>InvoiceDate</th>\n",
              "      <th>Quantity</th>\n",
              "      <th>UnitPrice(€)</th>\n",
              "      <th>Disc_type</th>\n",
              "      <th>CustomerID</th>\n",
              "      <th>Country</th>\n",
              "      <th>Market_id</th>\n",
              "      <th>Region</th>\n",
              "    </tr>\n",
              "  </thead>\n",
              "  <tbody>\n",
              "    <tr>\n",
              "      <th>0</th>\n",
              "      <td>536370</td>\n",
              "      <td>POST</td>\n",
              "      <td>Reffair AX30 [MAX] Portable Air Purifier for C...</td>\n",
              "      <td>Car &amp; Motorbike</td>\n",
              "      <td>2010-12-01 08:45:00</td>\n",
              "      <td>15</td>\n",
              "      <td>18.00</td>\n",
              "      <td>1</td>\n",
              "      <td>12583</td>\n",
              "      <td>United States</td>\n",
              "      <td>US</td>\n",
              "      <td>East</td>\n",
              "    </tr>\n",
              "    <tr>\n",
              "      <th>1</th>\n",
              "      <td>536370</td>\n",
              "      <td>22726</td>\n",
              "      <td>Wayona Nylon Braided USB to Lightning Fast Cha...</td>\n",
              "      <td>Computers &amp; Accessories</td>\n",
              "      <td>2010-12-01 08:45:00</td>\n",
              "      <td>118</td>\n",
              "      <td>3.75</td>\n",
              "      <td>1</td>\n",
              "      <td>12583</td>\n",
              "      <td>Australia</td>\n",
              "      <td>APAC</td>\n",
              "      <td>Oceania</td>\n",
              "    </tr>\n",
              "    <tr>\n",
              "      <th>2</th>\n",
              "      <td>536370</td>\n",
              "      <td>21724</td>\n",
              "      <td>Ambrane Unbreakable 60W / 3A Fast Charging 1.5...</td>\n",
              "      <td>Computers &amp; Accessories</td>\n",
              "      <td>2010-12-01 08:45:00</td>\n",
              "      <td>106</td>\n",
              "      <td>0.85</td>\n",
              "      <td>3</td>\n",
              "      <td>12583</td>\n",
              "      <td>Australia</td>\n",
              "      <td>APAC</td>\n",
              "      <td>Oceania</td>\n",
              "    </tr>\n",
              "    <tr>\n",
              "      <th>3</th>\n",
              "      <td>536370</td>\n",
              "      <td>21913</td>\n",
              "      <td>Sounce Fast Phone Charging Cable &amp; Data Sync U...</td>\n",
              "      <td>Computers &amp; Accessories</td>\n",
              "      <td>2010-12-01 08:45:00</td>\n",
              "      <td>96</td>\n",
              "      <td>3.75</td>\n",
              "      <td>1</td>\n",
              "      <td>12583</td>\n",
              "      <td>Germany</td>\n",
              "      <td>EU</td>\n",
              "      <td>Central</td>\n",
              "    </tr>\n",
              "    <tr>\n",
              "      <th>4</th>\n",
              "      <td>536370</td>\n",
              "      <td>21035</td>\n",
              "      <td>boAt Deuce USB 300 2 in 1 Type-C &amp; Micro USB S...</td>\n",
              "      <td>Computers &amp; Accessories</td>\n",
              "      <td>2010-12-01 08:45:00</td>\n",
              "      <td>61</td>\n",
              "      <td>2.95</td>\n",
              "      <td>1</td>\n",
              "      <td>12583</td>\n",
              "      <td>Senegal</td>\n",
              "      <td>Africa</td>\n",
              "      <td>Africa</td>\n",
              "    </tr>\n",
              "  </tbody>\n",
              "</table>\n",
              "</div>\n",
              "    <div class=\"colab-df-buttons\">\n",
              "\n",
              "  <div class=\"colab-df-container\">\n",
              "    <button class=\"colab-df-convert\" onclick=\"convertToInteractive('df-444b24b8-3b1f-4fc6-8b44-adac844c221a')\"\n",
              "            title=\"Convert this dataframe to an interactive table.\"\n",
              "            style=\"display:none;\">\n",
              "\n",
              "  <svg xmlns=\"http://www.w3.org/2000/svg\" height=\"24px\" viewBox=\"0 -960 960 960\">\n",
              "    <path d=\"M120-120v-720h720v720H120Zm60-500h600v-160H180v160Zm220 220h160v-160H400v160Zm0 220h160v-160H400v160ZM180-400h160v-160H180v160Zm440 0h160v-160H620v160ZM180-180h160v-160H180v160Zm440 0h160v-160H620v160Z\"/>\n",
              "  </svg>\n",
              "    </button>\n",
              "\n",
              "  <style>\n",
              "    .colab-df-container {\n",
              "      display:flex;\n",
              "      gap: 12px;\n",
              "    }\n",
              "\n",
              "    .colab-df-convert {\n",
              "      background-color: #E8F0FE;\n",
              "      border: none;\n",
              "      border-radius: 50%;\n",
              "      cursor: pointer;\n",
              "      display: none;\n",
              "      fill: #1967D2;\n",
              "      height: 32px;\n",
              "      padding: 0 0 0 0;\n",
              "      width: 32px;\n",
              "    }\n",
              "\n",
              "    .colab-df-convert:hover {\n",
              "      background-color: #E2EBFA;\n",
              "      box-shadow: 0px 1px 2px rgba(60, 64, 67, 0.3), 0px 1px 3px 1px rgba(60, 64, 67, 0.15);\n",
              "      fill: #174EA6;\n",
              "    }\n",
              "\n",
              "    .colab-df-buttons div {\n",
              "      margin-bottom: 4px;\n",
              "    }\n",
              "\n",
              "    [theme=dark] .colab-df-convert {\n",
              "      background-color: #3B4455;\n",
              "      fill: #D2E3FC;\n",
              "    }\n",
              "\n",
              "    [theme=dark] .colab-df-convert:hover {\n",
              "      background-color: #434B5C;\n",
              "      box-shadow: 0px 1px 3px 1px rgba(0, 0, 0, 0.15);\n",
              "      filter: drop-shadow(0px 1px 2px rgba(0, 0, 0, 0.3));\n",
              "      fill: #FFFFFF;\n",
              "    }\n",
              "  </style>\n",
              "\n",
              "    <script>\n",
              "      const buttonEl =\n",
              "        document.querySelector('#df-444b24b8-3b1f-4fc6-8b44-adac844c221a button.colab-df-convert');\n",
              "      buttonEl.style.display =\n",
              "        google.colab.kernel.accessAllowed ? 'block' : 'none';\n",
              "\n",
              "      async function convertToInteractive(key) {\n",
              "        const element = document.querySelector('#df-444b24b8-3b1f-4fc6-8b44-adac844c221a');\n",
              "        const dataTable =\n",
              "          await google.colab.kernel.invokeFunction('convertToInteractive',\n",
              "                                                    [key], {});\n",
              "        if (!dataTable) return;\n",
              "\n",
              "        const docLinkHtml = 'Like what you see? Visit the ' +\n",
              "          '<a target=\"_blank\" href=https://colab.research.google.com/notebooks/data_table.ipynb>data table notebook</a>'\n",
              "          + ' to learn more about interactive tables.';\n",
              "        element.innerHTML = '';\n",
              "        dataTable['output_type'] = 'display_data';\n",
              "        await google.colab.output.renderOutput(dataTable, element);\n",
              "        const docLink = document.createElement('div');\n",
              "        docLink.innerHTML = docLinkHtml;\n",
              "        element.appendChild(docLink);\n",
              "      }\n",
              "    </script>\n",
              "  </div>\n",
              "\n",
              "\n",
              "<div id=\"df-a1f8cf3f-4e37-4e38-8f01-63241d5ff9c3\">\n",
              "  <button class=\"colab-df-quickchart\" onclick=\"quickchart('df-a1f8cf3f-4e37-4e38-8f01-63241d5ff9c3')\"\n",
              "            title=\"Suggest charts\"\n",
              "            style=\"display:none;\">\n",
              "\n",
              "<svg xmlns=\"http://www.w3.org/2000/svg\" height=\"24px\"viewBox=\"0 0 24 24\"\n",
              "     width=\"24px\">\n",
              "    <g>\n",
              "        <path d=\"M19 3H5c-1.1 0-2 .9-2 2v14c0 1.1.9 2 2 2h14c1.1 0 2-.9 2-2V5c0-1.1-.9-2-2-2zM9 17H7v-7h2v7zm4 0h-2V7h2v10zm4 0h-2v-4h2v4z\"/>\n",
              "    </g>\n",
              "</svg>\n",
              "  </button>\n",
              "\n",
              "<style>\n",
              "  .colab-df-quickchart {\n",
              "      --bg-color: #E8F0FE;\n",
              "      --fill-color: #1967D2;\n",
              "      --hover-bg-color: #E2EBFA;\n",
              "      --hover-fill-color: #174EA6;\n",
              "      --disabled-fill-color: #AAA;\n",
              "      --disabled-bg-color: #DDD;\n",
              "  }\n",
              "\n",
              "  [theme=dark] .colab-df-quickchart {\n",
              "      --bg-color: #3B4455;\n",
              "      --fill-color: #D2E3FC;\n",
              "      --hover-bg-color: #434B5C;\n",
              "      --hover-fill-color: #FFFFFF;\n",
              "      --disabled-bg-color: #3B4455;\n",
              "      --disabled-fill-color: #666;\n",
              "  }\n",
              "\n",
              "  .colab-df-quickchart {\n",
              "    background-color: var(--bg-color);\n",
              "    border: none;\n",
              "    border-radius: 50%;\n",
              "    cursor: pointer;\n",
              "    display: none;\n",
              "    fill: var(--fill-color);\n",
              "    height: 32px;\n",
              "    padding: 0;\n",
              "    width: 32px;\n",
              "  }\n",
              "\n",
              "  .colab-df-quickchart:hover {\n",
              "    background-color: var(--hover-bg-color);\n",
              "    box-shadow: 0 1px 2px rgba(60, 64, 67, 0.3), 0 1px 3px 1px rgba(60, 64, 67, 0.15);\n",
              "    fill: var(--button-hover-fill-color);\n",
              "  }\n",
              "\n",
              "  .colab-df-quickchart-complete:disabled,\n",
              "  .colab-df-quickchart-complete:disabled:hover {\n",
              "    background-color: var(--disabled-bg-color);\n",
              "    fill: var(--disabled-fill-color);\n",
              "    box-shadow: none;\n",
              "  }\n",
              "\n",
              "  .colab-df-spinner {\n",
              "    border: 2px solid var(--fill-color);\n",
              "    border-color: transparent;\n",
              "    border-bottom-color: var(--fill-color);\n",
              "    animation:\n",
              "      spin 1s steps(1) infinite;\n",
              "  }\n",
              "\n",
              "  @keyframes spin {\n",
              "    0% {\n",
              "      border-color: transparent;\n",
              "      border-bottom-color: var(--fill-color);\n",
              "      border-left-color: var(--fill-color);\n",
              "    }\n",
              "    20% {\n",
              "      border-color: transparent;\n",
              "      border-left-color: var(--fill-color);\n",
              "      border-top-color: var(--fill-color);\n",
              "    }\n",
              "    30% {\n",
              "      border-color: transparent;\n",
              "      border-left-color: var(--fill-color);\n",
              "      border-top-color: var(--fill-color);\n",
              "      border-right-color: var(--fill-color);\n",
              "    }\n",
              "    40% {\n",
              "      border-color: transparent;\n",
              "      border-right-color: var(--fill-color);\n",
              "      border-top-color: var(--fill-color);\n",
              "    }\n",
              "    60% {\n",
              "      border-color: transparent;\n",
              "      border-right-color: var(--fill-color);\n",
              "    }\n",
              "    80% {\n",
              "      border-color: transparent;\n",
              "      border-right-color: var(--fill-color);\n",
              "      border-bottom-color: var(--fill-color);\n",
              "    }\n",
              "    90% {\n",
              "      border-color: transparent;\n",
              "      border-bottom-color: var(--fill-color);\n",
              "    }\n",
              "  }\n",
              "</style>\n",
              "\n",
              "  <script>\n",
              "    async function quickchart(key) {\n",
              "      const quickchartButtonEl =\n",
              "        document.querySelector('#' + key + ' button');\n",
              "      quickchartButtonEl.disabled = true;  // To prevent multiple clicks.\n",
              "      quickchartButtonEl.classList.add('colab-df-spinner');\n",
              "      try {\n",
              "        const charts = await google.colab.kernel.invokeFunction(\n",
              "            'suggestCharts', [key], {});\n",
              "      } catch (error) {\n",
              "        console.error('Error during call to suggestCharts:', error);\n",
              "      }\n",
              "      quickchartButtonEl.classList.remove('colab-df-spinner');\n",
              "      quickchartButtonEl.classList.add('colab-df-quickchart-complete');\n",
              "    }\n",
              "    (() => {\n",
              "      let quickchartButtonEl =\n",
              "        document.querySelector('#df-a1f8cf3f-4e37-4e38-8f01-63241d5ff9c3 button');\n",
              "      quickchartButtonEl.style.display =\n",
              "        google.colab.kernel.accessAllowed ? 'block' : 'none';\n",
              "    })();\n",
              "  </script>\n",
              "</div>\n",
              "\n",
              "    </div>\n",
              "  </div>\n"
            ],
            "application/vnd.google.colaboratory.intrinsic+json": {
              "type": "dataframe",
              "variable_name": "df_project",
              "summary": "{\n  \"name\": \"df_project\",\n  \"rows\": 35185,\n  \"fields\": [\n    {\n      \"column\": \"InvoiceNo\",\n      \"properties\": {\n        \"dtype\": \"number\",\n        \"std\": 12732,\n        \"min\": 536370,\n        \"max\": 581587,\n        \"num_unique_values\": 1565,\n        \"samples\": [\n          575498,\n          569640,\n          563662\n        ],\n        \"semantic_type\": \"\",\n        \"description\": \"\"\n      }\n    },\n    {\n      \"column\": \"StockCode\",\n      \"properties\": {\n        \"dtype\": \"category\",\n        \"num_unique_values\": 2562,\n        \"samples\": [\n          22932,\n          20982,\n          22425\n        ],\n        \"semantic_type\": \"\",\n        \"description\": \"\"\n      }\n    },\n    {\n      \"column\": \"Product_name\",\n      \"properties\": {\n        \"dtype\": \"category\",\n        \"num_unique_values\": 1337,\n        \"samples\": [\n          \"Philips GC026/30 Fabric Shaver, Lint Remover for Woolen Sweaters, Blankets, Jackets/Burr Remover Pill Remover from Carpets, Curtains (White)\",\n          \"Zuvexa USB Rechargeable Electric Foam Maker - Handheld Milk Wand Mixer Frother for Hot Milk, Hand Blender Coffee, Egg Beater (Black)\",\n          \"Glen 3 in 1 Electric Multi Cooker - Steam, Cook & Egg Boiler with 350 W (SA 3035MC) - 350 Watts\"\n        ],\n        \"semantic_type\": \"\",\n        \"description\": \"\"\n      }\n    },\n    {\n      \"column\": \"Category\",\n      \"properties\": {\n        \"dtype\": \"category\",\n        \"num_unique_values\": 9,\n        \"samples\": [\n          \"Office Products\",\n          \"Computers & Accessories\",\n          \"Home Improvement\"\n        ],\n        \"semantic_type\": \"\",\n        \"description\": \"\"\n      }\n    },\n    {\n      \"column\": \"InvoiceDate\",\n      \"properties\": {\n        \"dtype\": \"date\",\n        \"min\": \"2010-12-01 08:45:00\",\n        \"max\": \"2011-12-09 12:50:00\",\n        \"num_unique_values\": 1550,\n        \"samples\": [\n          \"2011-09-25 11:30:00\",\n          \"2011-08-30 12:11:00\",\n          \"2011-02-07 14:51:00\"\n        ],\n        \"semantic_type\": \"\",\n        \"description\": \"\"\n      }\n    },\n    {\n      \"column\": \"Quantity\",\n      \"properties\": {\n        \"dtype\": \"number\",\n        \"std\": 43,\n        \"min\": 1,\n        \"max\": 150,\n        \"num_unique_values\": 150,\n        \"samples\": [\n          18,\n          8,\n          66\n        ],\n        \"semantic_type\": \"\",\n        \"description\": \"\"\n      }\n    },\n    {\n      \"column\": \"UnitPrice(\\u20ac)\",\n      \"properties\": {\n        \"dtype\": \"number\",\n        \"std\": 8.20357303634076,\n        \"min\": 0.04,\n        \"max\": 700.0,\n        \"num_unique_values\": 152,\n        \"samples\": [\n          12.5,\n          0.08,\n          240.0\n        ],\n        \"semantic_type\": \"\",\n        \"description\": \"\"\n      }\n    },\n    {\n      \"column\": \"Disc_type\",\n      \"properties\": {\n        \"dtype\": \"number\",\n        \"std\": 0,\n        \"min\": 1,\n        \"max\": 3,\n        \"num_unique_values\": 3,\n        \"samples\": [\n          1,\n          3,\n          2\n        ],\n        \"semantic_type\": \"\",\n        \"description\": \"\"\n      }\n    },\n    {\n      \"column\": \"CustomerID\",\n      \"properties\": {\n        \"dtype\": \"number\",\n        \"std\": 853,\n        \"min\": 12347,\n        \"max\": 17844,\n        \"num_unique_values\": 400,\n        \"samples\": [\n          12865,\n          13815,\n          12683\n        ],\n        \"semantic_type\": \"\",\n        \"description\": \"\"\n      }\n    },\n    {\n      \"column\": \"Country\",\n      \"properties\": {\n        \"dtype\": \"category\",\n        \"num_unique_values\": 147,\n        \"samples\": [\n          \"Zimbabwe\",\n          \"Romania\",\n          \"Uganda\"\n        ],\n        \"semantic_type\": \"\",\n        \"description\": \"\"\n      }\n    },\n    {\n      \"column\": \"Market_id\",\n      \"properties\": {\n        \"dtype\": \"category\",\n        \"num_unique_values\": 7,\n        \"samples\": [\n          \"US\",\n          \"APAC\",\n          \"LATAM\"\n        ],\n        \"semantic_type\": \"\",\n        \"description\": \"\"\n      }\n    },\n    {\n      \"column\": \"Region\",\n      \"properties\": {\n        \"dtype\": \"category\",\n        \"num_unique_values\": 13,\n        \"samples\": [\n          \"Southeast Asia\",\n          \"North\",\n          \"East\"\n        ],\n        \"semantic_type\": \"\",\n        \"description\": \"\"\n      }\n    }\n  ]\n}"
            }
          },
          "metadata": {},
          "execution_count": 3
        }
      ]
    },
    {
      "cell_type": "markdown",
      "source": [
        "# EDA"
      ],
      "metadata": {
        "id": "x_Z1ZgCOJUuQ"
      }
    },
    {
      "cell_type": "code",
      "source": [
        "df_project.shape"
      ],
      "metadata": {
        "colab": {
          "base_uri": "https://localhost:8080/"
        },
        "id": "KjA11an_JW_8",
        "outputId": "b0706c84-494f-4b8a-e277-463840ea70d3"
      },
      "execution_count": 4,
      "outputs": [
        {
          "output_type": "execute_result",
          "data": {
            "text/plain": [
              "(35185, 12)"
            ]
          },
          "metadata": {},
          "execution_count": 4
        }
      ]
    },
    {
      "cell_type": "code",
      "source": [
        "df_project"
      ],
      "metadata": {
        "colab": {
          "base_uri": "https://localhost:8080/",
          "height": 875
        },
        "id": "JOIiUIqWJaid",
        "outputId": "2768436f-b043-43b8-d689-b3ea88bcb853"
      },
      "execution_count": 5,
      "outputs": [
        {
          "output_type": "execute_result",
          "data": {
            "text/plain": [
              "       InvoiceNo StockCode                                       Product_name  \\\n",
              "0         536370      POST  Reffair AX30 [MAX] Portable Air Purifier for C...   \n",
              "1         536370     22726  Wayona Nylon Braided USB to Lightning Fast Cha...   \n",
              "2         536370     21724  Ambrane Unbreakable 60W / 3A Fast Charging 1.5...   \n",
              "3         536370     21913  Sounce Fast Phone Charging Cable & Data Sync U...   \n",
              "4         536370     21035  boAt Deuce USB 300 2 in 1 Type-C & Micro USB S...   \n",
              "...          ...       ...                                                ...   \n",
              "35180     569018     21210  boAt Type C A325 Tangle-free, Sturdy Type C Ca...   \n",
              "35181     569018     23368  Duracell USB Lightning Apple Certified (Mfi) B...   \n",
              "35182     569018     23508        Flix Micro Usb Cable For Smartphone (Black)   \n",
              "35183     569018     23076  Ambrane Unbreakable 3 in 1 Fast Charging Braid...   \n",
              "35184     569018     22531  Duracell USB C To Lightning Apple Certified (M...   \n",
              "\n",
              "                      Category         InvoiceDate  Quantity  UnitPrice(€)  \\\n",
              "0              Car & Motorbike 2010-12-01 08:45:00        15         18.00   \n",
              "1      Computers & Accessories 2010-12-01 08:45:00       118          3.75   \n",
              "2      Computers & Accessories 2010-12-01 08:45:00       106          0.85   \n",
              "3      Computers & Accessories 2010-12-01 08:45:00        96          3.75   \n",
              "4      Computers & Accessories 2010-12-01 08:45:00        61          2.95   \n",
              "...                        ...                 ...       ...           ...   \n",
              "35180  Computers & Accessories 2011-09-30 09:25:00        99          1.45   \n",
              "35181  Computers & Accessories 2011-09-30 09:25:00       124          0.65   \n",
              "35182  Computers & Accessories 2011-09-30 09:25:00        54          0.42   \n",
              "35183  Computers & Accessories 2011-09-30 09:25:00        13          1.25   \n",
              "35184  Computers & Accessories 2011-09-30 09:25:00        39          0.42   \n",
              "\n",
              "       Disc_type  CustomerID        Country Market_id      Region  \n",
              "0              1       12583  United States        US        East  \n",
              "1              1       12583      Australia      APAC     Oceania  \n",
              "2              3       12583      Australia      APAC     Oceania  \n",
              "3              1       12583        Germany        EU     Central  \n",
              "4              1       12583        Senegal    Africa      Africa  \n",
              "...          ...         ...            ...       ...         ...  \n",
              "35180          1       12676          China      APAC  North Asia  \n",
              "35181          3       12676      Australia      APAC     Oceania  \n",
              "35182          1       12676  United States        US        West  \n",
              "35183          2       12676  United States        US        East  \n",
              "35184          3       12676  United States        US        East  \n",
              "\n",
              "[35185 rows x 12 columns]"
            ],
            "text/html": [
              "\n",
              "  <div id=\"df-26cdcbf7-5fb0-430b-8d9a-c324b3e4caef\" class=\"colab-df-container\">\n",
              "    <div>\n",
              "<style scoped>\n",
              "    .dataframe tbody tr th:only-of-type {\n",
              "        vertical-align: middle;\n",
              "    }\n",
              "\n",
              "    .dataframe tbody tr th {\n",
              "        vertical-align: top;\n",
              "    }\n",
              "\n",
              "    .dataframe thead th {\n",
              "        text-align: right;\n",
              "    }\n",
              "</style>\n",
              "<table border=\"1\" class=\"dataframe\">\n",
              "  <thead>\n",
              "    <tr style=\"text-align: right;\">\n",
              "      <th></th>\n",
              "      <th>InvoiceNo</th>\n",
              "      <th>StockCode</th>\n",
              "      <th>Product_name</th>\n",
              "      <th>Category</th>\n",
              "      <th>InvoiceDate</th>\n",
              "      <th>Quantity</th>\n",
              "      <th>UnitPrice(€)</th>\n",
              "      <th>Disc_type</th>\n",
              "      <th>CustomerID</th>\n",
              "      <th>Country</th>\n",
              "      <th>Market_id</th>\n",
              "      <th>Region</th>\n",
              "    </tr>\n",
              "  </thead>\n",
              "  <tbody>\n",
              "    <tr>\n",
              "      <th>0</th>\n",
              "      <td>536370</td>\n",
              "      <td>POST</td>\n",
              "      <td>Reffair AX30 [MAX] Portable Air Purifier for C...</td>\n",
              "      <td>Car &amp; Motorbike</td>\n",
              "      <td>2010-12-01 08:45:00</td>\n",
              "      <td>15</td>\n",
              "      <td>18.00</td>\n",
              "      <td>1</td>\n",
              "      <td>12583</td>\n",
              "      <td>United States</td>\n",
              "      <td>US</td>\n",
              "      <td>East</td>\n",
              "    </tr>\n",
              "    <tr>\n",
              "      <th>1</th>\n",
              "      <td>536370</td>\n",
              "      <td>22726</td>\n",
              "      <td>Wayona Nylon Braided USB to Lightning Fast Cha...</td>\n",
              "      <td>Computers &amp; Accessories</td>\n",
              "      <td>2010-12-01 08:45:00</td>\n",
              "      <td>118</td>\n",
              "      <td>3.75</td>\n",
              "      <td>1</td>\n",
              "      <td>12583</td>\n",
              "      <td>Australia</td>\n",
              "      <td>APAC</td>\n",
              "      <td>Oceania</td>\n",
              "    </tr>\n",
              "    <tr>\n",
              "      <th>2</th>\n",
              "      <td>536370</td>\n",
              "      <td>21724</td>\n",
              "      <td>Ambrane Unbreakable 60W / 3A Fast Charging 1.5...</td>\n",
              "      <td>Computers &amp; Accessories</td>\n",
              "      <td>2010-12-01 08:45:00</td>\n",
              "      <td>106</td>\n",
              "      <td>0.85</td>\n",
              "      <td>3</td>\n",
              "      <td>12583</td>\n",
              "      <td>Australia</td>\n",
              "      <td>APAC</td>\n",
              "      <td>Oceania</td>\n",
              "    </tr>\n",
              "    <tr>\n",
              "      <th>3</th>\n",
              "      <td>536370</td>\n",
              "      <td>21913</td>\n",
              "      <td>Sounce Fast Phone Charging Cable &amp; Data Sync U...</td>\n",
              "      <td>Computers &amp; Accessories</td>\n",
              "      <td>2010-12-01 08:45:00</td>\n",
              "      <td>96</td>\n",
              "      <td>3.75</td>\n",
              "      <td>1</td>\n",
              "      <td>12583</td>\n",
              "      <td>Germany</td>\n",
              "      <td>EU</td>\n",
              "      <td>Central</td>\n",
              "    </tr>\n",
              "    <tr>\n",
              "      <th>4</th>\n",
              "      <td>536370</td>\n",
              "      <td>21035</td>\n",
              "      <td>boAt Deuce USB 300 2 in 1 Type-C &amp; Micro USB S...</td>\n",
              "      <td>Computers &amp; Accessories</td>\n",
              "      <td>2010-12-01 08:45:00</td>\n",
              "      <td>61</td>\n",
              "      <td>2.95</td>\n",
              "      <td>1</td>\n",
              "      <td>12583</td>\n",
              "      <td>Senegal</td>\n",
              "      <td>Africa</td>\n",
              "      <td>Africa</td>\n",
              "    </tr>\n",
              "    <tr>\n",
              "      <th>...</th>\n",
              "      <td>...</td>\n",
              "      <td>...</td>\n",
              "      <td>...</td>\n",
              "      <td>...</td>\n",
              "      <td>...</td>\n",
              "      <td>...</td>\n",
              "      <td>...</td>\n",
              "      <td>...</td>\n",
              "      <td>...</td>\n",
              "      <td>...</td>\n",
              "      <td>...</td>\n",
              "      <td>...</td>\n",
              "    </tr>\n",
              "    <tr>\n",
              "      <th>35180</th>\n",
              "      <td>569018</td>\n",
              "      <td>21210</td>\n",
              "      <td>boAt Type C A325 Tangle-free, Sturdy Type C Ca...</td>\n",
              "      <td>Computers &amp; Accessories</td>\n",
              "      <td>2011-09-30 09:25:00</td>\n",
              "      <td>99</td>\n",
              "      <td>1.45</td>\n",
              "      <td>1</td>\n",
              "      <td>12676</td>\n",
              "      <td>China</td>\n",
              "      <td>APAC</td>\n",
              "      <td>North Asia</td>\n",
              "    </tr>\n",
              "    <tr>\n",
              "      <th>35181</th>\n",
              "      <td>569018</td>\n",
              "      <td>23368</td>\n",
              "      <td>Duracell USB Lightning Apple Certified (Mfi) B...</td>\n",
              "      <td>Computers &amp; Accessories</td>\n",
              "      <td>2011-09-30 09:25:00</td>\n",
              "      <td>124</td>\n",
              "      <td>0.65</td>\n",
              "      <td>3</td>\n",
              "      <td>12676</td>\n",
              "      <td>Australia</td>\n",
              "      <td>APAC</td>\n",
              "      <td>Oceania</td>\n",
              "    </tr>\n",
              "    <tr>\n",
              "      <th>35182</th>\n",
              "      <td>569018</td>\n",
              "      <td>23508</td>\n",
              "      <td>Flix Micro Usb Cable For Smartphone (Black)</td>\n",
              "      <td>Computers &amp; Accessories</td>\n",
              "      <td>2011-09-30 09:25:00</td>\n",
              "      <td>54</td>\n",
              "      <td>0.42</td>\n",
              "      <td>1</td>\n",
              "      <td>12676</td>\n",
              "      <td>United States</td>\n",
              "      <td>US</td>\n",
              "      <td>West</td>\n",
              "    </tr>\n",
              "    <tr>\n",
              "      <th>35183</th>\n",
              "      <td>569018</td>\n",
              "      <td>23076</td>\n",
              "      <td>Ambrane Unbreakable 3 in 1 Fast Charging Braid...</td>\n",
              "      <td>Computers &amp; Accessories</td>\n",
              "      <td>2011-09-30 09:25:00</td>\n",
              "      <td>13</td>\n",
              "      <td>1.25</td>\n",
              "      <td>2</td>\n",
              "      <td>12676</td>\n",
              "      <td>United States</td>\n",
              "      <td>US</td>\n",
              "      <td>East</td>\n",
              "    </tr>\n",
              "    <tr>\n",
              "      <th>35184</th>\n",
              "      <td>569018</td>\n",
              "      <td>22531</td>\n",
              "      <td>Duracell USB C To Lightning Apple Certified (M...</td>\n",
              "      <td>Computers &amp; Accessories</td>\n",
              "      <td>2011-09-30 09:25:00</td>\n",
              "      <td>39</td>\n",
              "      <td>0.42</td>\n",
              "      <td>3</td>\n",
              "      <td>12676</td>\n",
              "      <td>United States</td>\n",
              "      <td>US</td>\n",
              "      <td>East</td>\n",
              "    </tr>\n",
              "  </tbody>\n",
              "</table>\n",
              "<p>35185 rows × 12 columns</p>\n",
              "</div>\n",
              "    <div class=\"colab-df-buttons\">\n",
              "\n",
              "  <div class=\"colab-df-container\">\n",
              "    <button class=\"colab-df-convert\" onclick=\"convertToInteractive('df-26cdcbf7-5fb0-430b-8d9a-c324b3e4caef')\"\n",
              "            title=\"Convert this dataframe to an interactive table.\"\n",
              "            style=\"display:none;\">\n",
              "\n",
              "  <svg xmlns=\"http://www.w3.org/2000/svg\" height=\"24px\" viewBox=\"0 -960 960 960\">\n",
              "    <path d=\"M120-120v-720h720v720H120Zm60-500h600v-160H180v160Zm220 220h160v-160H400v160Zm0 220h160v-160H400v160ZM180-400h160v-160H180v160Zm440 0h160v-160H620v160ZM180-180h160v-160H180v160Zm440 0h160v-160H620v160Z\"/>\n",
              "  </svg>\n",
              "    </button>\n",
              "\n",
              "  <style>\n",
              "    .colab-df-container {\n",
              "      display:flex;\n",
              "      gap: 12px;\n",
              "    }\n",
              "\n",
              "    .colab-df-convert {\n",
              "      background-color: #E8F0FE;\n",
              "      border: none;\n",
              "      border-radius: 50%;\n",
              "      cursor: pointer;\n",
              "      display: none;\n",
              "      fill: #1967D2;\n",
              "      height: 32px;\n",
              "      padding: 0 0 0 0;\n",
              "      width: 32px;\n",
              "    }\n",
              "\n",
              "    .colab-df-convert:hover {\n",
              "      background-color: #E2EBFA;\n",
              "      box-shadow: 0px 1px 2px rgba(60, 64, 67, 0.3), 0px 1px 3px 1px rgba(60, 64, 67, 0.15);\n",
              "      fill: #174EA6;\n",
              "    }\n",
              "\n",
              "    .colab-df-buttons div {\n",
              "      margin-bottom: 4px;\n",
              "    }\n",
              "\n",
              "    [theme=dark] .colab-df-convert {\n",
              "      background-color: #3B4455;\n",
              "      fill: #D2E3FC;\n",
              "    }\n",
              "\n",
              "    [theme=dark] .colab-df-convert:hover {\n",
              "      background-color: #434B5C;\n",
              "      box-shadow: 0px 1px 3px 1px rgba(0, 0, 0, 0.15);\n",
              "      filter: drop-shadow(0px 1px 2px rgba(0, 0, 0, 0.3));\n",
              "      fill: #FFFFFF;\n",
              "    }\n",
              "  </style>\n",
              "\n",
              "    <script>\n",
              "      const buttonEl =\n",
              "        document.querySelector('#df-26cdcbf7-5fb0-430b-8d9a-c324b3e4caef button.colab-df-convert');\n",
              "      buttonEl.style.display =\n",
              "        google.colab.kernel.accessAllowed ? 'block' : 'none';\n",
              "\n",
              "      async function convertToInteractive(key) {\n",
              "        const element = document.querySelector('#df-26cdcbf7-5fb0-430b-8d9a-c324b3e4caef');\n",
              "        const dataTable =\n",
              "          await google.colab.kernel.invokeFunction('convertToInteractive',\n",
              "                                                    [key], {});\n",
              "        if (!dataTable) return;\n",
              "\n",
              "        const docLinkHtml = 'Like what you see? Visit the ' +\n",
              "          '<a target=\"_blank\" href=https://colab.research.google.com/notebooks/data_table.ipynb>data table notebook</a>'\n",
              "          + ' to learn more about interactive tables.';\n",
              "        element.innerHTML = '';\n",
              "        dataTable['output_type'] = 'display_data';\n",
              "        await google.colab.output.renderOutput(dataTable, element);\n",
              "        const docLink = document.createElement('div');\n",
              "        docLink.innerHTML = docLinkHtml;\n",
              "        element.appendChild(docLink);\n",
              "      }\n",
              "    </script>\n",
              "  </div>\n",
              "\n",
              "\n",
              "<div id=\"df-be30e810-8e02-421a-8fce-8d43412e3dd2\">\n",
              "  <button class=\"colab-df-quickchart\" onclick=\"quickchart('df-be30e810-8e02-421a-8fce-8d43412e3dd2')\"\n",
              "            title=\"Suggest charts\"\n",
              "            style=\"display:none;\">\n",
              "\n",
              "<svg xmlns=\"http://www.w3.org/2000/svg\" height=\"24px\"viewBox=\"0 0 24 24\"\n",
              "     width=\"24px\">\n",
              "    <g>\n",
              "        <path d=\"M19 3H5c-1.1 0-2 .9-2 2v14c0 1.1.9 2 2 2h14c1.1 0 2-.9 2-2V5c0-1.1-.9-2-2-2zM9 17H7v-7h2v7zm4 0h-2V7h2v10zm4 0h-2v-4h2v4z\"/>\n",
              "    </g>\n",
              "</svg>\n",
              "  </button>\n",
              "\n",
              "<style>\n",
              "  .colab-df-quickchart {\n",
              "      --bg-color: #E8F0FE;\n",
              "      --fill-color: #1967D2;\n",
              "      --hover-bg-color: #E2EBFA;\n",
              "      --hover-fill-color: #174EA6;\n",
              "      --disabled-fill-color: #AAA;\n",
              "      --disabled-bg-color: #DDD;\n",
              "  }\n",
              "\n",
              "  [theme=dark] .colab-df-quickchart {\n",
              "      --bg-color: #3B4455;\n",
              "      --fill-color: #D2E3FC;\n",
              "      --hover-bg-color: #434B5C;\n",
              "      --hover-fill-color: #FFFFFF;\n",
              "      --disabled-bg-color: #3B4455;\n",
              "      --disabled-fill-color: #666;\n",
              "  }\n",
              "\n",
              "  .colab-df-quickchart {\n",
              "    background-color: var(--bg-color);\n",
              "    border: none;\n",
              "    border-radius: 50%;\n",
              "    cursor: pointer;\n",
              "    display: none;\n",
              "    fill: var(--fill-color);\n",
              "    height: 32px;\n",
              "    padding: 0;\n",
              "    width: 32px;\n",
              "  }\n",
              "\n",
              "  .colab-df-quickchart:hover {\n",
              "    background-color: var(--hover-bg-color);\n",
              "    box-shadow: 0 1px 2px rgba(60, 64, 67, 0.3), 0 1px 3px 1px rgba(60, 64, 67, 0.15);\n",
              "    fill: var(--button-hover-fill-color);\n",
              "  }\n",
              "\n",
              "  .colab-df-quickchart-complete:disabled,\n",
              "  .colab-df-quickchart-complete:disabled:hover {\n",
              "    background-color: var(--disabled-bg-color);\n",
              "    fill: var(--disabled-fill-color);\n",
              "    box-shadow: none;\n",
              "  }\n",
              "\n",
              "  .colab-df-spinner {\n",
              "    border: 2px solid var(--fill-color);\n",
              "    border-color: transparent;\n",
              "    border-bottom-color: var(--fill-color);\n",
              "    animation:\n",
              "      spin 1s steps(1) infinite;\n",
              "  }\n",
              "\n",
              "  @keyframes spin {\n",
              "    0% {\n",
              "      border-color: transparent;\n",
              "      border-bottom-color: var(--fill-color);\n",
              "      border-left-color: var(--fill-color);\n",
              "    }\n",
              "    20% {\n",
              "      border-color: transparent;\n",
              "      border-left-color: var(--fill-color);\n",
              "      border-top-color: var(--fill-color);\n",
              "    }\n",
              "    30% {\n",
              "      border-color: transparent;\n",
              "      border-left-color: var(--fill-color);\n",
              "      border-top-color: var(--fill-color);\n",
              "      border-right-color: var(--fill-color);\n",
              "    }\n",
              "    40% {\n",
              "      border-color: transparent;\n",
              "      border-right-color: var(--fill-color);\n",
              "      border-top-color: var(--fill-color);\n",
              "    }\n",
              "    60% {\n",
              "      border-color: transparent;\n",
              "      border-right-color: var(--fill-color);\n",
              "    }\n",
              "    80% {\n",
              "      border-color: transparent;\n",
              "      border-right-color: var(--fill-color);\n",
              "      border-bottom-color: var(--fill-color);\n",
              "    }\n",
              "    90% {\n",
              "      border-color: transparent;\n",
              "      border-bottom-color: var(--fill-color);\n",
              "    }\n",
              "  }\n",
              "</style>\n",
              "\n",
              "  <script>\n",
              "    async function quickchart(key) {\n",
              "      const quickchartButtonEl =\n",
              "        document.querySelector('#' + key + ' button');\n",
              "      quickchartButtonEl.disabled = true;  // To prevent multiple clicks.\n",
              "      quickchartButtonEl.classList.add('colab-df-spinner');\n",
              "      try {\n",
              "        const charts = await google.colab.kernel.invokeFunction(\n",
              "            'suggestCharts', [key], {});\n",
              "      } catch (error) {\n",
              "        console.error('Error during call to suggestCharts:', error);\n",
              "      }\n",
              "      quickchartButtonEl.classList.remove('colab-df-spinner');\n",
              "      quickchartButtonEl.classList.add('colab-df-quickchart-complete');\n",
              "    }\n",
              "    (() => {\n",
              "      let quickchartButtonEl =\n",
              "        document.querySelector('#df-be30e810-8e02-421a-8fce-8d43412e3dd2 button');\n",
              "      quickchartButtonEl.style.display =\n",
              "        google.colab.kernel.accessAllowed ? 'block' : 'none';\n",
              "    })();\n",
              "  </script>\n",
              "</div>\n",
              "\n",
              "  <div id=\"id_f2f02af8-cc85-4305-a7f8-f72c94abdeb5\">\n",
              "    <style>\n",
              "      .colab-df-generate {\n",
              "        background-color: #E8F0FE;\n",
              "        border: none;\n",
              "        border-radius: 50%;\n",
              "        cursor: pointer;\n",
              "        display: none;\n",
              "        fill: #1967D2;\n",
              "        height: 32px;\n",
              "        padding: 0 0 0 0;\n",
              "        width: 32px;\n",
              "      }\n",
              "\n",
              "      .colab-df-generate:hover {\n",
              "        background-color: #E2EBFA;\n",
              "        box-shadow: 0px 1px 2px rgba(60, 64, 67, 0.3), 0px 1px 3px 1px rgba(60, 64, 67, 0.15);\n",
              "        fill: #174EA6;\n",
              "      }\n",
              "\n",
              "      [theme=dark] .colab-df-generate {\n",
              "        background-color: #3B4455;\n",
              "        fill: #D2E3FC;\n",
              "      }\n",
              "\n",
              "      [theme=dark] .colab-df-generate:hover {\n",
              "        background-color: #434B5C;\n",
              "        box-shadow: 0px 1px 3px 1px rgba(0, 0, 0, 0.15);\n",
              "        filter: drop-shadow(0px 1px 2px rgba(0, 0, 0, 0.3));\n",
              "        fill: #FFFFFF;\n",
              "      }\n",
              "    </style>\n",
              "    <button class=\"colab-df-generate\" onclick=\"generateWithVariable('df_project')\"\n",
              "            title=\"Generate code using this dataframe.\"\n",
              "            style=\"display:none;\">\n",
              "\n",
              "  <svg xmlns=\"http://www.w3.org/2000/svg\" height=\"24px\"viewBox=\"0 0 24 24\"\n",
              "       width=\"24px\">\n",
              "    <path d=\"M7,19H8.4L18.45,9,17,7.55,7,17.6ZM5,21V16.75L18.45,3.32a2,2,0,0,1,2.83,0l1.4,1.43a1.91,1.91,0,0,1,.58,1.4,1.91,1.91,0,0,1-.58,1.4L9.25,21ZM18.45,9,17,7.55Zm-12,3A5.31,5.31,0,0,0,4.9,8.1,5.31,5.31,0,0,0,1,6.5,5.31,5.31,0,0,0,4.9,4.9,5.31,5.31,0,0,0,6.5,1,5.31,5.31,0,0,0,8.1,4.9,5.31,5.31,0,0,0,12,6.5,5.46,5.46,0,0,0,6.5,12Z\"/>\n",
              "  </svg>\n",
              "    </button>\n",
              "    <script>\n",
              "      (() => {\n",
              "      const buttonEl =\n",
              "        document.querySelector('#id_f2f02af8-cc85-4305-a7f8-f72c94abdeb5 button.colab-df-generate');\n",
              "      buttonEl.style.display =\n",
              "        google.colab.kernel.accessAllowed ? 'block' : 'none';\n",
              "\n",
              "      buttonEl.onclick = () => {\n",
              "        google.colab.notebook.generateWithVariable('df_project');\n",
              "      }\n",
              "      })();\n",
              "    </script>\n",
              "  </div>\n",
              "\n",
              "    </div>\n",
              "  </div>\n"
            ],
            "application/vnd.google.colaboratory.intrinsic+json": {
              "type": "dataframe",
              "variable_name": "df_project",
              "summary": "{\n  \"name\": \"df_project\",\n  \"rows\": 35185,\n  \"fields\": [\n    {\n      \"column\": \"InvoiceNo\",\n      \"properties\": {\n        \"dtype\": \"number\",\n        \"std\": 12732,\n        \"min\": 536370,\n        \"max\": 581587,\n        \"num_unique_values\": 1565,\n        \"samples\": [\n          575498,\n          569640,\n          563662\n        ],\n        \"semantic_type\": \"\",\n        \"description\": \"\"\n      }\n    },\n    {\n      \"column\": \"StockCode\",\n      \"properties\": {\n        \"dtype\": \"category\",\n        \"num_unique_values\": 2562,\n        \"samples\": [\n          22932,\n          20982,\n          22425\n        ],\n        \"semantic_type\": \"\",\n        \"description\": \"\"\n      }\n    },\n    {\n      \"column\": \"Product_name\",\n      \"properties\": {\n        \"dtype\": \"category\",\n        \"num_unique_values\": 1337,\n        \"samples\": [\n          \"Philips GC026/30 Fabric Shaver, Lint Remover for Woolen Sweaters, Blankets, Jackets/Burr Remover Pill Remover from Carpets, Curtains (White)\",\n          \"Zuvexa USB Rechargeable Electric Foam Maker - Handheld Milk Wand Mixer Frother for Hot Milk, Hand Blender Coffee, Egg Beater (Black)\",\n          \"Glen 3 in 1 Electric Multi Cooker - Steam, Cook & Egg Boiler with 350 W (SA 3035MC) - 350 Watts\"\n        ],\n        \"semantic_type\": \"\",\n        \"description\": \"\"\n      }\n    },\n    {\n      \"column\": \"Category\",\n      \"properties\": {\n        \"dtype\": \"category\",\n        \"num_unique_values\": 9,\n        \"samples\": [\n          \"Office Products\",\n          \"Computers & Accessories\",\n          \"Home Improvement\"\n        ],\n        \"semantic_type\": \"\",\n        \"description\": \"\"\n      }\n    },\n    {\n      \"column\": \"InvoiceDate\",\n      \"properties\": {\n        \"dtype\": \"date\",\n        \"min\": \"2010-12-01 08:45:00\",\n        \"max\": \"2011-12-09 12:50:00\",\n        \"num_unique_values\": 1550,\n        \"samples\": [\n          \"2011-09-25 11:30:00\",\n          \"2011-08-30 12:11:00\",\n          \"2011-02-07 14:51:00\"\n        ],\n        \"semantic_type\": \"\",\n        \"description\": \"\"\n      }\n    },\n    {\n      \"column\": \"Quantity\",\n      \"properties\": {\n        \"dtype\": \"number\",\n        \"std\": 43,\n        \"min\": 1,\n        \"max\": 150,\n        \"num_unique_values\": 150,\n        \"samples\": [\n          18,\n          8,\n          66\n        ],\n        \"semantic_type\": \"\",\n        \"description\": \"\"\n      }\n    },\n    {\n      \"column\": \"UnitPrice(\\u20ac)\",\n      \"properties\": {\n        \"dtype\": \"number\",\n        \"std\": 8.20357303634076,\n        \"min\": 0.04,\n        \"max\": 700.0,\n        \"num_unique_values\": 152,\n        \"samples\": [\n          12.5,\n          0.08,\n          240.0\n        ],\n        \"semantic_type\": \"\",\n        \"description\": \"\"\n      }\n    },\n    {\n      \"column\": \"Disc_type\",\n      \"properties\": {\n        \"dtype\": \"number\",\n        \"std\": 0,\n        \"min\": 1,\n        \"max\": 3,\n        \"num_unique_values\": 3,\n        \"samples\": [\n          1,\n          3,\n          2\n        ],\n        \"semantic_type\": \"\",\n        \"description\": \"\"\n      }\n    },\n    {\n      \"column\": \"CustomerID\",\n      \"properties\": {\n        \"dtype\": \"number\",\n        \"std\": 853,\n        \"min\": 12347,\n        \"max\": 17844,\n        \"num_unique_values\": 400,\n        \"samples\": [\n          12865,\n          13815,\n          12683\n        ],\n        \"semantic_type\": \"\",\n        \"description\": \"\"\n      }\n    },\n    {\n      \"column\": \"Country\",\n      \"properties\": {\n        \"dtype\": \"category\",\n        \"num_unique_values\": 147,\n        \"samples\": [\n          \"Zimbabwe\",\n          \"Romania\",\n          \"Uganda\"\n        ],\n        \"semantic_type\": \"\",\n        \"description\": \"\"\n      }\n    },\n    {\n      \"column\": \"Market_id\",\n      \"properties\": {\n        \"dtype\": \"category\",\n        \"num_unique_values\": 7,\n        \"samples\": [\n          \"US\",\n          \"APAC\",\n          \"LATAM\"\n        ],\n        \"semantic_type\": \"\",\n        \"description\": \"\"\n      }\n    },\n    {\n      \"column\": \"Region\",\n      \"properties\": {\n        \"dtype\": \"category\",\n        \"num_unique_values\": 13,\n        \"samples\": [\n          \"Southeast Asia\",\n          \"North\",\n          \"East\"\n        ],\n        \"semantic_type\": \"\",\n        \"description\": \"\"\n      }\n    }\n  ]\n}"
            }
          },
          "metadata": {},
          "execution_count": 5
        }
      ]
    },
    {
      "cell_type": "code",
      "source": [
        "df_project.info()"
      ],
      "metadata": {
        "colab": {
          "base_uri": "https://localhost:8080/"
        },
        "id": "0vXwNbV2Jvd1",
        "outputId": "5b7e4711-9010-4d52-de39-f1a976071b03"
      },
      "execution_count": 6,
      "outputs": [
        {
          "output_type": "stream",
          "name": "stdout",
          "text": [
            "<class 'pandas.core.frame.DataFrame'>\n",
            "RangeIndex: 35185 entries, 0 to 35184\n",
            "Data columns (total 12 columns):\n",
            " #   Column        Non-Null Count  Dtype         \n",
            "---  ------        --------------  -----         \n",
            " 0   InvoiceNo     35185 non-null  int64         \n",
            " 1   StockCode     35185 non-null  object        \n",
            " 2   Product_name  35185 non-null  object        \n",
            " 3   Category      35185 non-null  object        \n",
            " 4   InvoiceDate   35185 non-null  datetime64[ns]\n",
            " 5   Quantity      35185 non-null  int64         \n",
            " 6   UnitPrice(€)  35185 non-null  float64       \n",
            " 7   Disc_type     35185 non-null  int64         \n",
            " 8   CustomerID    35185 non-null  int64         \n",
            " 9   Country       35185 non-null  object        \n",
            " 10  Market_id     35185 non-null  object        \n",
            " 11  Region        35185 non-null  object        \n",
            "dtypes: datetime64[ns](1), float64(1), int64(4), object(6)\n",
            "memory usage: 3.2+ MB\n"
          ]
        }
      ]
    },
    {
      "cell_type": "markdown",
      "source": [
        "# Cleaning Data"
      ],
      "metadata": {
        "id": "GaYtx-TdJ5iQ"
      }
    },
    {
      "cell_type": "markdown",
      "source": [
        "**1. Missing Value**"
      ],
      "metadata": {
        "id": "qQqDryHZJ__O"
      }
    },
    {
      "cell_type": "code",
      "source": [
        "#melakukan cek missing value\n",
        "missing_values = df_project.isnull().sum()\n",
        "if missing_values.sum() == 0:\n",
        "    print('Tidak ada missing value')\n",
        "else:\n",
        "    print('Terdapat missing value', missing_values)\n",
        ""
      ],
      "metadata": {
        "colab": {
          "base_uri": "https://localhost:8080/"
        },
        "id": "gV7sbWsuJ8PD",
        "outputId": "6f82afde-3c52-4178-fe4a-ce83340e929f"
      },
      "execution_count": 7,
      "outputs": [
        {
          "output_type": "stream",
          "name": "stdout",
          "text": [
            "Tidak ada missing value\n"
          ]
        }
      ]
    },
    {
      "cell_type": "markdown",
      "source": [
        "**2. Duplikat**"
      ],
      "metadata": {
        "id": "lbmQLPslKHSs"
      }
    },
    {
      "cell_type": "code",
      "source": [
        "df_project.duplicated().sum()"
      ],
      "metadata": {
        "colab": {
          "base_uri": "https://localhost:8080/"
        },
        "id": "ULK2APpHKMwz",
        "outputId": "f230d430-0e04-4252-a095-27cea0103d52"
      },
      "execution_count": 8,
      "outputs": [
        {
          "output_type": "execute_result",
          "data": {
            "text/plain": [
              "0"
            ]
          },
          "metadata": {},
          "execution_count": 8
        }
      ]
    },
    {
      "cell_type": "markdown",
      "source": [
        "**3. Typo**"
      ],
      "metadata": {
        "id": "RkPzqKLcKOnG"
      }
    },
    {
      "cell_type": "code",
      "source": [
        "# InvoiceNo\n",
        "df_project.InvoiceNo.unique()"
      ],
      "metadata": {
        "colab": {
          "base_uri": "https://localhost:8080/"
        },
        "id": "jDndp5epKSXf",
        "outputId": "fc45f6c6-89f7-44a5-ab53-212aa924a181"
      },
      "execution_count": 9,
      "outputs": [
        {
          "output_type": "execute_result",
          "data": {
            "text/plain": [
              "array([536370, 536389, 536403, ..., 569122, 569017, 569018])"
            ]
          },
          "metadata": {},
          "execution_count": 9
        }
      ]
    },
    {
      "cell_type": "code",
      "source": [
        "# Product_name\n",
        "df_project.Product_name.unique()"
      ],
      "metadata": {
        "colab": {
          "base_uri": "https://localhost:8080/"
        },
        "id": "B_g_tYKGKdZB",
        "outputId": "152a6359-51a8-4c11-fc9d-d04138e7830e"
      },
      "execution_count": 10,
      "outputs": [
        {
          "output_type": "execute_result",
          "data": {
            "text/plain": [
              "array(['Reffair AX30 [MAX] Portable Air Purifier for Car, Home & Office | Smart Ionizer Function | H13 Grade True HEPA Filter [Internationally Tested] Aromabuds Fragrance Option - Black',\n",
              "       'Wayona Nylon Braided USB to Lightning Fast Charging and Data Sync Cable Compatible for iPhone 13, 12,11, X, 8, 7, 6, 5, iPad Air, Pro, Mini (3 FT Pack of 1, Grey)',\n",
              "       'Ambrane Unbreakable 60W / 3A Fast Charging 1.5m Braided Type C Cable for Smartphones, Tablets, Laptops & other Type C devices, PD Technology, 480Mbps Data Sync, Quick Charge 3.0 (RCT15A, Black)',\n",
              "       ...,\n",
              "       'Parker Moments Vector Timecheck Gold Trim Roller Ball Pen (Black)',\n",
              "       'Camlin Elegante Fountain Pen - Black/Blue/Red',\n",
              "       'Faber-Castell Connector Pen Set - Pack of 25 (Assorted)'],\n",
              "      dtype=object)"
            ]
          },
          "metadata": {},
          "execution_count": 10
        }
      ]
    },
    {
      "cell_type": "code",
      "source": [
        "# Categori\n",
        "df_project.Category.unique()"
      ],
      "metadata": {
        "colab": {
          "base_uri": "https://localhost:8080/"
        },
        "id": "Owj88AfqKl78",
        "outputId": "d189b446-a46f-4d71-c956-899e61517f62"
      },
      "execution_count": 11,
      "outputs": [
        {
          "output_type": "execute_result",
          "data": {
            "text/plain": [
              "array(['Car & Motorbike', 'Computers & Accessories', 'Electronics',\n",
              "       'Health & Personal Care', 'Home & Kitchen', 'Home Improvement',\n",
              "       'Musical Instruments', 'Office Products', 'Toys & Games'],\n",
              "      dtype=object)"
            ]
          },
          "metadata": {},
          "execution_count": 11
        }
      ]
    },
    {
      "cell_type": "code",
      "source": [
        "# InvoiceDate\n",
        "df_project.InvoiceDate.unique()"
      ],
      "metadata": {
        "colab": {
          "base_uri": "https://localhost:8080/"
        },
        "id": "c9YvSU5PKl97",
        "outputId": "31a7728d-635d-44a3-91f3-40105aa3b528"
      },
      "execution_count": 12,
      "outputs": [
        {
          "output_type": "execute_result",
          "data": {
            "text/plain": [
              "<DatetimeArray>\n",
              "['2010-12-01 08:45:00', '2010-12-01 10:03:00', '2010-12-01 11:27:00',\n",
              " '2010-12-01 13:04:00', '2010-12-01 13:24:00', '2010-12-02 18:27:00',\n",
              " '2010-12-03 09:51:00', '2010-12-03 10:36:00', '2010-12-03 10:44:00',\n",
              " '2010-12-03 12:20:00',\n",
              " ...\n",
              " '2011-09-29 15:31:00', '2011-09-29 15:58:00', '2011-09-29 16:38:00',\n",
              " '2011-09-29 16:52:00', '2011-09-29 17:52:00', '2011-09-30 12:06:00',\n",
              " '2011-09-30 12:58:00', '2011-09-30 13:06:00', '2011-09-30 09:22:00',\n",
              " '2011-09-30 09:25:00']\n",
              "Length: 1550, dtype: datetime64[ns]"
            ]
          },
          "metadata": {},
          "execution_count": 12
        }
      ]
    },
    {
      "cell_type": "code",
      "source": [
        "# Quantity\n",
        "df_project.Quantity.unique()"
      ],
      "metadata": {
        "colab": {
          "base_uri": "https://localhost:8080/"
        },
        "id": "E0ugfPZiKl_l",
        "outputId": "e48e5b39-17c2-451d-ab46-ea4fe387a2ef"
      },
      "execution_count": 13,
      "outputs": [
        {
          "output_type": "execute_result",
          "data": {
            "text/plain": [
              "array([ 15, 118, 106,  96,  61,  56,  10,  75, 108,  49,  39, 122,  99,\n",
              "        23,  54,  79, 124,   3,   8, 150, 104,  68,  34,  64, 111, 133,\n",
              "        42,  65,   1,  88,  83,  36, 149,  26,  12,  86,  89,  50,  98,\n",
              "        29,   2, 102,  85, 116,  51, 114, 119,  73, 129,  93, 126,  38,\n",
              "        74,  76, 136,  25, 141, 100,  32,  97, 134,  94, 132,  87,  17,\n",
              "       125,  59, 115,   5,  19, 112,  24,  91,  18, 148,  92,  58,  95,\n",
              "        67, 107,  33,  13,  48, 101, 135,  70,   9,  31, 140,  63,  52,\n",
              "        47,  35,  46, 138,  40,   4,  60, 142, 123,  69, 139, 127, 110,\n",
              "         7,  71,  30,  16, 131, 146, 130, 137, 105,  11,  82, 144,  78,\n",
              "        72,  66,  62,  41,  28,   6,  90, 121,  55, 147,  21,  57, 143,\n",
              "        27,  14,  20, 103,  80, 113, 117,  53,  81,  45,  37, 120,  44,\n",
              "       128,  43, 109,  84,  22,  77, 145])"
            ]
          },
          "metadata": {},
          "execution_count": 13
        }
      ]
    },
    {
      "cell_type": "code",
      "source": [
        "# Disc Type\n",
        "df_project.Disc_type.unique()"
      ],
      "metadata": {
        "colab": {
          "base_uri": "https://localhost:8080/"
        },
        "id": "SQYjmh6dKmBD",
        "outputId": "97117c6d-a343-4aea-a832-fd24fa7cdfdd"
      },
      "execution_count": 17,
      "outputs": [
        {
          "output_type": "execute_result",
          "data": {
            "text/plain": [
              "array([1, 3, 2])"
            ]
          },
          "metadata": {},
          "execution_count": 17
        }
      ]
    },
    {
      "cell_type": "code",
      "source": [
        "# Customer ID\n",
        "df_project.CustomerID.unique()"
      ],
      "metadata": {
        "colab": {
          "base_uri": "https://localhost:8080/"
        },
        "id": "q0j6okXPKmDS",
        "outputId": "f9ca9a11-ee88-41db-88df-811cc3764cdc"
      },
      "execution_count": 18,
      "outputs": [
        {
          "output_type": "execute_result",
          "data": {
            "text/plain": [
              "array([12583, 12431, 12791, 12662, 12433, 12738, 12686, 13520, 12427,\n",
              "       12557, 12600, 12779, 12682, 12712, 12793, 12725, 12395, 12567,\n",
              "       15332, 12647, 12472, 12720, 12763, 12808, 12708, 12681, 12347,\n",
              "       12709, 12386, 12441, 12766, 12481, 12621, 12683, 12755, 12797,\n",
              "       12494, 12429, 17097, 12471, 12731, 12785, 12753, 12373, 12775,\n",
              "       12540, 12676, 12428, 12679, 12866, 12352, 12523, 12569, 12415,\n",
              "       12524, 14646, 12423, 12473, 13492, 12598, 12710, 12534, 12436,\n",
              "       12739, 12552, 12674, 12491, 12572, 12553, 12664, 12562, 12559,\n",
              "       12414, 12437, 12350, 12517, 12449, 12627, 12633, 12593, 12644,\n",
              "       12378, 12670, 12408, 12474, 12483, 12794, 12375, 12594, 12490,\n",
              "       12654, 12684, 12364, 12762, 12558, 12700, 12587, 12704, 12695,\n",
              "       12502, 12464, 12727, 12417, 12500, 12817, 12643, 12601, 12455,\n",
              "       12359, 12750, 12637, 12615, 12544, 12754, 12410, 17508, 12541,\n",
              "       12547, 12584, 12678, 17443, 12645, 12705, 12689, 17404, 12626,\n",
              "       12693, 14335, 12413, 12457, 12512, 12362, 12397, 12576, 12577,\n",
              "       12484, 12719, 12560, 12673, 12724, 12348, 12744, 12476, 12451,\n",
              "       12468, 12599, 12610, 12422, 12816, 12616, 12789, 12723, 12782,\n",
              "       12646, 12381, 12628, 12367, 12735, 12394, 12802, 12535, 12609,\n",
              "       12407, 12450, 12526, 12461, 13812, 13816, 12757, 12619, 12638,\n",
              "       12357, 12716, 12478, 12442, 12650, 12530, 12501, 12489, 12480,\n",
              "       13809, 12388, 16321, 12614, 12580, 14912, 12721, 12380, 12507,\n",
              "       12685, 12420, 12477, 12519, 12781, 12740, 12528, 12492, 12778,\n",
              "       12783, 12758, 12623, 12393, 12717, 12356, 12383, 17828, 12726,\n",
              "       12635, 12648, 12865, 13814, 12592, 12358, 12651, 12401, 12462,\n",
              "       12759, 13493, 12355, 13811, 12406, 12399, 12597, 12694, 12787,\n",
              "       12532, 12504, 12518, 12713, 12680, 12539, 12561, 12370, 12447,\n",
              "       12409, 12444, 13919, 12384, 12571, 12607, 12659, 12617, 12508,\n",
              "       12538, 13817, 12736, 12728, 12520, 12701, 12596, 12372, 14277,\n",
              "       12649, 17444, 12556, 13813, 12772, 12371, 12536, 13810, 12697,\n",
              "       12589, 12691, 12652, 12463, 12625, 12590, 12516, 12669, 12722,\n",
              "       12602, 12667, 12578, 12672, 12527, 12510, 12665, 12402, 14439,\n",
              "       12421, 13815, 12591, 12764, 12377, 12574, 12668, 12876, 12631,\n",
              "       12613, 12498, 12454, 12475, 12611, 12360, 12522, 12642, 12403,\n",
              "       12546, 12398, 12798, 12448, 12456, 12812, 12630, 12430, 12432,\n",
              "       12657, 12488, 12588, 12581, 12374, 12640, 12445, 12603, 12618,\n",
              "       12391, 12702, 12658, 12795, 12349, 12656, 12586, 12465, 12452,\n",
              "       12784, 12620, 12531, 12438, 12660, 12479, 12714, 12551, 12515,\n",
              "       12734, 12585, 17829, 12653, 12365, 12707, 12565, 12582, 13501,\n",
              "       12361, 12458, 12509, 12811, 15388, 12514, 12435, 12604, 12818,\n",
              "       12564, 12434, 12545, 12792, 12769, 12639, 12733, 13505, 12354,\n",
              "       12622, 12506, 12573, 12770, 12690, 12353, 12815, 12493, 12426,\n",
              "       12790, 12732, 12809, 12624, 12379, 12412, 12548, 12424, 12405,\n",
              "       12521, 12453, 15480, 12641, 12729, 12688, 12513, 12418, 17844,\n",
              "       12715, 12814, 12566, 12756, 12497, 12752, 12550, 12390, 12579,\n",
              "       12425, 12612, 12718, 12703])"
            ]
          },
          "metadata": {},
          "execution_count": 18
        }
      ]
    },
    {
      "cell_type": "code",
      "source": [
        "# Country\n",
        "df_project.Country.unique()"
      ],
      "metadata": {
        "colab": {
          "base_uri": "https://localhost:8080/"
        },
        "id": "RwV-F_gIKmFW",
        "outputId": "80b62e60-2e17-4ade-e0d9-6d858a642c46"
      },
      "execution_count": 19,
      "outputs": [
        {
          "output_type": "execute_result",
          "data": {
            "text/plain": [
              "array(['United States', 'Australia', 'Germany', 'Senegal', 'New Zealand',\n",
              "       'Afghanistan', 'Saudi Arabia', 'Brazil', 'China', 'France',\n",
              "       'Italy', 'Tanzania', 'Poland', 'United Kingdom', 'Mexico',\n",
              "       'El Salvador', 'Taiwan', 'India', 'Dominican Republic',\n",
              "       'Democratic Republic of the Congo', 'Indonesia', 'Uruguay', 'Iran',\n",
              "       'Mozambique', 'Bangladesh', 'Spain', 'Ukraine', 'Nicaragua',\n",
              "       'Morocco', 'Canada', 'Philippines', 'Austria', 'Colombia',\n",
              "       'Netherlands', 'Malaysia', 'Ecuador', 'Thailand', 'Somalia',\n",
              "       'Guatemala', 'Belarus', 'Cambodia', 'South Africa', 'Japan',\n",
              "       'Russia', 'Egypt', 'Azerbaijan', 'Lithuania', 'Argentina',\n",
              "       'Lesotho', 'Vietnam', 'Cuba', 'Romania', 'Turkey', 'Cameroon',\n",
              "       'Hungary', 'Singapore', 'Angola', 'Belgium', 'Pakistan', 'Finland',\n",
              "       'Ghana', 'Zambia', 'Iraq', 'Liberia', 'Georgia', 'Switzerland',\n",
              "       'Albania', 'Chad', 'Montenegro', 'Namibia', 'Portugal',\n",
              "       'Madagascar', 'Sweden', 'Myanmar (Burma)', 'Jamaica', 'Qatar',\n",
              "       'Republic of the Congo', 'Norway', 'Algeria', 'South Korea',\n",
              "       'Nigeria', 'Estonia', \"Cote d'Ivoire\", 'Honduras', 'Paraguay',\n",
              "       'Czech Republic', 'Central African Republic', 'Benin', 'Bolivia',\n",
              "       'Chile', 'Martinique', 'Syria', 'Lebanon', 'Kenya', 'Mali',\n",
              "       'Libya', 'Venezuela', 'Trinidad and Tobago', 'Ireland', 'Bulgaria',\n",
              "       'Panama', 'Israel', 'Haiti', 'Barbados', 'Slovenia', 'Togo',\n",
              "       'Mauritania', 'Guinea', 'Rwanda', 'Denmark', 'Niger',\n",
              "       'Papua New Guinea', 'Mongolia', 'Sudan', 'Peru', 'Sierra Leone',\n",
              "       'Bosnia and Herzegovina', 'Guinea-Bissau', 'Djibouti', 'Tunisia',\n",
              "       'Croatia', 'Hong Kong', 'Nepal', 'Guadeloupe', 'Kyrgyzstan',\n",
              "       'Zimbabwe', 'Uzbekistan', 'South Sudan', 'Gabon', 'Bahrain',\n",
              "       'Yemen', 'Jordan', 'United Arab Emirates', 'Moldova', 'Swaziland',\n",
              "       'Turkmenistan', 'Kazakhstan', 'Ethiopia', 'Uganda', 'Slovakia',\n",
              "       'Sri Lanka', 'Tajikistan', 'Burundi', 'Macedonia', 'Eritrea',\n",
              "       'Equatorial Guinea', 'Armenia'], dtype=object)"
            ]
          },
          "metadata": {},
          "execution_count": 19
        }
      ]
    },
    {
      "cell_type": "code",
      "source": [
        "# Market_id\n",
        "df_project.Market_id.unique()"
      ],
      "metadata": {
        "colab": {
          "base_uri": "https://localhost:8080/"
        },
        "id": "BSlQyMXoKmG3",
        "outputId": "40cf758c-ad13-4fe1-de4e-6c5782cc3050"
      },
      "execution_count": 20,
      "outputs": [
        {
          "output_type": "execute_result",
          "data": {
            "text/plain": [
              "array(['US', 'APAC', 'EU', 'Africa', 'EMEA', 'LATAM', 'Canada'],\n",
              "      dtype=object)"
            ]
          },
          "metadata": {},
          "execution_count": 20
        }
      ]
    },
    {
      "cell_type": "code",
      "source": [
        "# Region\n",
        "df_project.Region.unique()"
      ],
      "metadata": {
        "colab": {
          "base_uri": "https://localhost:8080/"
        },
        "id": "vChWsauWKmIa",
        "outputId": "75fef93d-a461-4234-cbe4-e49de05ed9ea"
      },
      "execution_count": 21,
      "outputs": [
        {
          "output_type": "execute_result",
          "data": {
            "text/plain": [
              "array(['East', 'Oceania', 'Central', 'Africa', 'West', 'South',\n",
              "       'Central Asia', 'EMEA', 'North Asia', 'North', 'Caribbean',\n",
              "       'Southeast Asia', 'Canada'], dtype=object)"
            ]
          },
          "metadata": {},
          "execution_count": 21
        }
      ]
    },
    {
      "cell_type": "markdown",
      "source": [
        "# 4. Outlier"
      ],
      "metadata": {
        "id": "OxCTQ7A-L84F"
      }
    },
    {
      "cell_type": "code",
      "source": [
        "# Membuat fungsi cek outlier\n",
        "def cek_outlier(data, nama_kolom, batas):\n",
        "\n",
        "    Q1 = np.percentile(data[nama_kolom], 25)\n",
        "    Q3 = np.percentile(data[nama_kolom], 75)\n",
        "    IQR = Q3 - Q1\n",
        "\n",
        "    if batas == 'upper_bound':\n",
        "        bound = np.where(data[nama_kolom] > (Q3 + 1.5 * IQR))\n",
        "    elif batas == 'lower_bound':\n",
        "        bound = np.where(data[nama_kolom] < (Q1 - 1.5 * IQR))\n",
        "    else:\n",
        "        raise ValueError(\"Parameter 'batas' harus 'upper_bound' atau 'lower_bound'.\")\n",
        "\n",
        "    return list(bound[0])"
      ],
      "metadata": {
        "id": "xvjjUezmKmJ6"
      },
      "execution_count": 22,
      "outputs": []
    },
    {
      "cell_type": "code",
      "source": [
        "# Menjalankan fungsi untuk mendapatkan indeks yang merupakan outlier pada kolom 'Quantity'\n",
        "upper_skor_akhir= cek_outlier(df_project, 'Quantity', 'upper_bound')\n",
        "print(\"Indeks outlier upper bound untuk kolom 'Quantity':\", upper_skor_akhir)\n",
        "\n",
        "lower_skor_akhir= cek_outlier(df_project, 'Quantity', 'lower_bound')\n",
        "print(\"Indeks outlier lower bound untuk kolom 'Quantity':\", lower_skor_akhir)\n",
        "\n",
        "# Menampilkan jumlah total outlier pada kolom 'price'\n",
        "print(f\"Jumlah total outlier pada kolom 'Quantity' sebanyak: {len(upper_skor_akhir) + len(lower_skor_akhir)}\")"
      ],
      "metadata": {
        "colab": {
          "base_uri": "https://localhost:8080/"
        },
        "id": "cErW69tWKmLT",
        "outputId": "45df5719-554d-4723-f9df-49c4f88bc967"
      },
      "execution_count": 23,
      "outputs": [
        {
          "output_type": "stream",
          "name": "stdout",
          "text": [
            "Indeks outlier upper bound untuk kolom 'Quantity': []\n",
            "Indeks outlier lower bound untuk kolom 'Quantity': []\n",
            "Jumlah total outlier pada kolom 'Quantity' sebanyak: 0\n"
          ]
        }
      ]
    },
    {
      "cell_type": "code",
      "source": [],
      "metadata": {
        "id": "URkEWgmDKmMz"
      },
      "execution_count": null,
      "outputs": []
    }
  ]
}