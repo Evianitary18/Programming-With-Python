{
  "nbformat": 4,
  "nbformat_minor": 0,
  "metadata": {
    "colab": {
      "provenance": [],
      "authorship_tag": "ABX9TyOgswp2NBPaCOCVCP5ZqH2S",
      "include_colab_link": true
    },
    "kernelspec": {
      "name": "python3",
      "display_name": "Python 3"
    },
    "language_info": {
      "name": "python"
    }
  },
  "cells": [
    {
      "cell_type": "markdown",
      "metadata": {
        "id": "view-in-github",
        "colab_type": "text"
      },
      "source": [
        "<a href=\"https://colab.research.google.com/github/Evianitary18/Programming-With-Python/blob/main/05_Numpy_dan_Pandas.ipynb\" target=\"_parent\"><img src=\"https://colab.research.google.com/assets/colab-badge.svg\" alt=\"Open In Colab\"/></a>"
      ]
    },
    {
      "cell_type": "markdown",
      "source": [
        "**Numpy**\n",
        "\n",
        "salah satu package Python yang digunakan untuk pengolahan data berbentuk array atau matriks disertai dengan fungsi-fungsi matematika lainnya yang dapat dioperasikan pada objek data tersebut\n",
        "\n",
        "Fungsi Numpy:\n",
        "\n",
        "Biasanya kita menggunakan numpy untuk mengolah data berbentuk vektor, matriks, maupun data berdimensi besar seperti gambar dan lainnya.\n",
        "\n",
        "Cara import numpy:\n",
        "import numpy as np"
      ],
      "metadata": {
        "id": "Tput5YorJb7o"
      }
    },
    {
      "cell_type": "markdown",
      "source": [
        "**Pandas**\n",
        "\n",
        "Salah satu package Python yang digunakan untuk manipulasi dan analisis data berbentuk tabel\n",
        "\n",
        "Fungsi Pandas:\n",
        "\n",
        "Untuk analisis data berbentuk runtun waktu, tabular, maupun panel data. Selain itu, dengan menggabungkan mathplotlib, salah satu package lainnya yang digunakan untuk visualisasi data kita dapat menggunakan pandas untuk memvisualisasi data dengan kode yang lebih ringkas.\n",
        "\n",
        "Cara import pandas: import pandas as pd"
      ],
      "metadata": {
        "id": "3H2-E7-cJvAP"
      }
    }
  ]
}