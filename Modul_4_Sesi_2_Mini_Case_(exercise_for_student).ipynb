{
  "cells": [
    {
      "cell_type": "markdown",
      "metadata": {
        "id": "view-in-github",
        "colab_type": "text"
      },
      "source": [
        "<a href=\"https://colab.research.google.com/github/Evianitary18/Programming-With-Python/blob/main/Modul_4_Sesi_2_Mini_Case_(exercise_for_student).ipynb\" target=\"_parent\"><img src=\"https://colab.research.google.com/assets/colab-badge.svg\" alt=\"Open In Colab\"/></a>"
      ]
    },
    {
      "cell_type": "markdown",
      "id": "08de34e1",
      "metadata": {
        "id": "08de34e1"
      },
      "source": [
        "1. Pak Tono adalah seorang kepala keluarga. Sebagai kepala keluarga yang baik, Pak Tono harus pintar-pintar mengatur keuangan bulanan untuk keluarganya. Secara `default` berikut adalah rincian alokasi dana:\n",
        "    * Kebutuhan sehari-hari: 50%\n",
        "    * Kebutuhan hiburan keluarga: 20%\n",
        "    * Ditabung: 30%\n",
        "\n",
        "Buatlah fungsi untuk membantu Pak Tono menghitung banyaknya uang yang harus ditabung!\n",
        "\n",
        "Input\n",
        "```\n",
        "pemasukan = 10000\n",
        "print(fungsi_anda(10000))\n",
        "print(fungsi_anda(10000, 50))\n",
        "```\n",
        "\n",
        "output\n",
        "```\n",
        "3000\n",
        "5000\n",
        "```"
      ]
    },
    {
      "cell_type": "code",
      "execution_count": null,
      "id": "506c2d21",
      "metadata": {
        "id": "506c2d21"
      },
      "outputs": [],
      "source": []
    },
    {
      "cell_type": "code",
      "execution_count": null,
      "id": "a1ca8524",
      "metadata": {
        "id": "a1ca8524",
        "outputId": "a256c790-2fa5-476f-ca7f-26c15d60624a"
      },
      "outputs": [
        {
          "name": "stdout",
          "output_type": "stream",
          "text": [
            "3000.0\n",
            "5000.0\n"
          ]
        }
      ],
      "source": []
    },
    {
      "cell_type": "markdown",
      "id": "a6898cb4",
      "metadata": {
        "id": "a6898cb4"
      },
      "source": [
        "2. Besar diskon pada sebuah toko berbanding lurus dengan jumlah barang yang dibeli. Untuk 1 barang diberi diskon sebesar `n%`, 2 barang `2*n%`, 3 barang `3*n%` dan seterusnya. Sampai diskon maksimal adalah `8*n%`. Dengan nilai default `n=7`.\n",
        "\n",
        "    Buatlah fungsi untuk menghitung harga akhir diskon dari harga total belanja:\n",
        "    \n",
        "    Input: Harga satuan barang, jumlah barang, diskon (default=7)\n",
        "    ```\n",
        "    print(fungsi_anda(10000,2))\n",
        "    print(fungsi_anda(10000,3,5))\n",
        "    ```\n",
        "\n",
        "    output: Harga total setelah diskon.\n",
        "    ```\n",
        "    Harga setelah diskon adalah 17200\n",
        "    Harga setelah diskon adalah 25500\n",
        "    ```"
      ]
    },
    {
      "cell_type": "code",
      "execution_count": null,
      "id": "d134c151",
      "metadata": {
        "id": "d134c151"
      },
      "outputs": [],
      "source": []
    },
    {
      "cell_type": "code",
      "execution_count": null,
      "id": "a25eb327",
      "metadata": {
        "id": "a25eb327",
        "outputId": "79a63274-453c-43cc-dc98-090744f1c2c1"
      },
      "outputs": [
        {
          "name": "stdout",
          "output_type": "stream",
          "text": [
            "Harga setelah diskon adalah 17200.0\n",
            "Harga setelah diskon adalah 25500.0\n"
          ]
        }
      ],
      "source": []
    },
    {
      "cell_type": "markdown",
      "id": "f8db3efa",
      "metadata": {
        "id": "f8db3efa"
      },
      "source": [
        "3. Buatlah program untuk mencari siapa yang tertua dari 3 orang berdasarkan input di bawah. Gunakan conditional!\n",
        "    * Contoh Input:\n",
        "    ```\n",
        "        orang_1 = 40\n",
        "        orang_2 = 25\n",
        "        orang_3 = 37\n",
        "    ```\n",
        "    * Contoh Output:\n",
        "        ```\n",
        "        Orang yang tertua adalah orang pertama\n",
        "        ```"
      ]
    },
    {
      "cell_type": "code",
      "execution_count": null,
      "id": "4359d430",
      "metadata": {
        "id": "4359d430"
      },
      "outputs": [],
      "source": [
        "# input untuk program anda. Jangan dihapus!\n",
        "orang_1 = 25\n",
        "orang_2 = 40\n",
        "orang_3 = 35"
      ]
    },
    {
      "cell_type": "code",
      "execution_count": null,
      "id": "a8766fb1",
      "metadata": {
        "id": "a8766fb1",
        "outputId": "c848407a-55dc-4eb8-f946-d9e4db228ddc"
      },
      "outputs": [
        {
          "name": "stdout",
          "output_type": "stream",
          "text": [
            "Orang yang tertua adalah orang ketiga\n"
          ]
        }
      ],
      "source": []
    },
    {
      "cell_type": "markdown",
      "id": "a2c0209a",
      "metadata": {
        "id": "a2c0209a"
      },
      "source": [
        "4. Sebuah perusahaan akan memberikan bonus 5% dari gaji masing-masing pegawai kepada pegawainya jika pegawainya telah bekerja selama minimal 5 tahun.\n",
        "    * Contoh Input:\n",
        "```\n",
        "kasus 1: gaji = 5000 ; masa bakti = 2\n",
        "kasus 2: gaji = 10000; masa bakti = 6\n",
        "```\n",
        "    * Contoh Output:\n",
        "```\n",
        "kasus 1: Tidak ada bonus\n",
        "kasus 2: Bonus adalah 500\n",
        "```\n"
      ]
    },
    {
      "cell_type": "code",
      "execution_count": null,
      "id": "1795fbdf",
      "metadata": {
        "id": "1795fbdf"
      },
      "outputs": [],
      "source": [
        "# input untuk program anda. Jangan dihapus!\n",
        "gaji = 10000\n",
        "masa_bakti = 6"
      ]
    },
    {
      "cell_type": "code",
      "execution_count": null,
      "id": "0e6bcf02",
      "metadata": {
        "id": "0e6bcf02",
        "outputId": "ec38cce0-7c9f-40b0-c7fb-a785390122c6"
      },
      "outputs": [
        {
          "name": "stdout",
          "output_type": "stream",
          "text": [
            "Bonus adalah 500.0\n"
          ]
        }
      ],
      "source": []
    },
    {
      "cell_type": "markdown",
      "id": "ed898953",
      "metadata": {
        "id": "ed898953"
      },
      "source": [
        "5. Buatlah table faktorial angka 1-5. expected output:\n",
        "\n",
        "```\n",
        "1! = 1\n",
        "2! = 2\n",
        "3! = 6\n",
        "4! = 24\n",
        "5! = 120\n",
        "```\n",
        "note : 5! = 5 x 4 x 3 x 2 x 1"
      ]
    },
    {
      "cell_type": "code",
      "execution_count": null,
      "id": "3b5ee05b",
      "metadata": {
        "id": "3b5ee05b",
        "outputId": "dbd01bfd-ab4b-4713-a916-ef0a96249891"
      },
      "outputs": [
        {
          "name": "stdout",
          "output_type": "stream",
          "text": [
            "1 ! =  1\n",
            "2 ! =  2\n",
            "3 ! =  6\n",
            "4 ! =  24\n",
            "5 ! =  120\n"
          ]
        }
      ],
      "source": []
    },
    {
      "cell_type": "code",
      "execution_count": null,
      "id": "d28dfff7",
      "metadata": {
        "id": "d28dfff7"
      },
      "outputs": [],
      "source": []
    },
    {
      "cell_type": "code",
      "execution_count": null,
      "id": "e8358fb8",
      "metadata": {
        "id": "e8358fb8"
      },
      "outputs": [],
      "source": []
    },
    {
      "cell_type": "code",
      "execution_count": null,
      "id": "2fbcc4c8",
      "metadata": {
        "id": "2fbcc4c8"
      },
      "outputs": [],
      "source": []
    },
    {
      "cell_type": "code",
      "execution_count": null,
      "id": "65da2ebd",
      "metadata": {
        "id": "65da2ebd"
      },
      "outputs": [],
      "source": []
    },
    {
      "cell_type": "code",
      "execution_count": null,
      "id": "fca106d0",
      "metadata": {
        "id": "fca106d0"
      },
      "outputs": [],
      "source": []
    },
    {
      "cell_type": "code",
      "execution_count": null,
      "id": "cc6e7002",
      "metadata": {
        "id": "cc6e7002"
      },
      "outputs": [],
      "source": []
    },
    {
      "cell_type": "code",
      "execution_count": null,
      "id": "34d07dc4",
      "metadata": {
        "id": "34d07dc4"
      },
      "outputs": [],
      "source": []
    }
  ],
  "metadata": {
    "kernelspec": {
      "display_name": "Python 3 (ipykernel)",
      "language": "python",
      "name": "python3"
    },
    "language_info": {
      "codemirror_mode": {
        "name": "ipython",
        "version": 3
      },
      "file_extension": ".py",
      "mimetype": "text/x-python",
      "name": "python",
      "nbconvert_exporter": "python",
      "pygments_lexer": "ipython3",
      "version": "3.8.13"
    },
    "colab": {
      "provenance": [],
      "include_colab_link": true
    }
  },
  "nbformat": 4,
  "nbformat_minor": 5
}