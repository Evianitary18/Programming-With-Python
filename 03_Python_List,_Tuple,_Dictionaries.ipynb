{
  "cells": [
    {
      "cell_type": "markdown",
      "metadata": {
        "id": "view-in-github",
        "colab_type": "text"
      },
      "source": [
        "<a href=\"https://colab.research.google.com/github/Evianitary18/Programming-With-Python/blob/main/03_Python_List%2C_Tuple%2C_Dictionaries.ipynb\" target=\"_parent\"><img src=\"https://colab.research.google.com/assets/colab-badge.svg\" alt=\"Open In Colab\"/></a>"
      ]
    },
    {
      "cell_type": "markdown",
      "metadata": {
        "id": "kd3E0XhqSffw"
      },
      "source": [
        "# Session 2\n",
        "\n",
        "**Pada sesi kali ini kita akan lanjut ke tipe data non-primitive diantaranya List, Tuple, dan Dictionaries**"
      ]
    },
    {
      "cell_type": "markdown",
      "metadata": {
        "id": "ZFlrE_JjSffy"
      },
      "source": [
        "## List"
      ]
    },
    {
      "cell_type": "markdown",
      "metadata": {
        "id": "8qUcLQIMSffy"
      },
      "source": [
        "### **Cara membuat sebuah list**"
      ]
    },
    {
      "cell_type": "markdown",
      "metadata": {
        "id": "zVmHmiEhSffy"
      },
      "source": [
        "List berisi satu tipe data"
      ]
    },
    {
      "cell_type": "code",
      "execution_count": null,
      "metadata": {
        "id": "ERU4JeQhSffy"
      },
      "outputs": [],
      "source": [
        "angka = [1, 2, 3, 4, 5]"
      ]
    },
    {
      "cell_type": "code",
      "execution_count": null,
      "metadata": {
        "scrolled": true,
        "colab": {
          "base_uri": "https://localhost:8080/"
        },
        "id": "buttRGX1Sffz",
        "outputId": "188eb3f6-f425-47c0-d1a7-b7df930c2168"
      },
      "outputs": [
        {
          "output_type": "stream",
          "name": "stdout",
          "text": [
            "[1, 2, 3, 4, 5]\n"
          ]
        }
      ],
      "source": [
        "print(angka)"
      ]
    },
    {
      "cell_type": "code",
      "execution_count": null,
      "metadata": {
        "colab": {
          "base_uri": "https://localhost:8080/"
        },
        "id": "XIjI1pXkSff0",
        "outputId": "a1bf2cd1-fa19-4213-cb37-db4a0d1a84ce"
      },
      "outputs": [
        {
          "output_type": "stream",
          "name": "stdout",
          "text": [
            "<class 'list'>\n"
          ]
        }
      ],
      "source": [
        "print(type(angka))"
      ]
    },
    {
      "cell_type": "code",
      "execution_count": null,
      "metadata": {
        "colab": {
          "base_uri": "https://localhost:8080/"
        },
        "id": "T8duUwqMSff0",
        "outputId": "82c61578-3be1-4816-bb37-803099d285ce"
      },
      "outputs": [
        {
          "output_type": "stream",
          "name": "stdout",
          "text": [
            "['Bandung', 'Batam', 'Medan', 'Surabaya']\n",
            "<class 'list'>\n"
          ]
        }
      ],
      "source": [
        "kota = ['Bandung', 'Batam', 'Medan', 'Surabaya']\n",
        "print(kota)\n",
        "print(type(kota))"
      ]
    },
    {
      "cell_type": "code",
      "execution_count": null,
      "metadata": {
        "colab": {
          "base_uri": "https://localhost:8080/"
        },
        "id": "q1wFQx1xSff0",
        "outputId": "e02b3d2b-38a2-4588-abc4-6a44b8347553"
      },
      "outputs": [
        {
          "output_type": "stream",
          "name": "stdout",
          "text": [
            "['Bandung', 'Batam', 'Medan', 'Surabaya']\n",
            "<class 'list'>\n"
          ]
        }
      ],
      "source": [
        "kota = list(['Bandung', 'Batam', 'Medan', 'Surabaya'])\n",
        "print(kota)\n",
        "print(type(kota))"
      ]
    },
    {
      "cell_type": "markdown",
      "metadata": {
        "id": "OJ1urhBHSff0"
      },
      "source": [
        "List berisi campuran tipe data"
      ]
    },
    {
      "cell_type": "code",
      "execution_count": null,
      "metadata": {
        "id": "bx1Updk9Sff1"
      },
      "outputs": [],
      "source": [
        "campuran = [1, 3.14, 'Sekolahmu', True, [1,2,3]]"
      ]
    },
    {
      "cell_type": "code",
      "execution_count": null,
      "metadata": {
        "colab": {
          "base_uri": "https://localhost:8080/"
        },
        "id": "6PA6RVCzSff1",
        "outputId": "2666d22c-5d85-41af-826a-e44ab0cfb110"
      },
      "outputs": [
        {
          "output_type": "stream",
          "name": "stdout",
          "text": [
            "[1, 3.14, 'Sekolahmu', True, [1, 2, 3]]\n"
          ]
        }
      ],
      "source": [
        "print(campuran)"
      ]
    },
    {
      "cell_type": "code",
      "execution_count": null,
      "metadata": {
        "colab": {
          "base_uri": "https://localhost:8080/"
        },
        "id": "62FXp6qBSff1",
        "outputId": "636cdfbf-9394-45d3-bed2-aa2da6ecea4c"
      },
      "outputs": [
        {
          "output_type": "stream",
          "name": "stdout",
          "text": [
            "<class 'list'>\n"
          ]
        }
      ],
      "source": [
        "print(type(campuran))"
      ]
    },
    {
      "cell_type": "markdown",
      "metadata": {
        "id": "vjYiS4YMSff1"
      },
      "source": [
        "List kosong"
      ]
    },
    {
      "cell_type": "code",
      "execution_count": null,
      "metadata": {
        "colab": {
          "base_uri": "https://localhost:8080/"
        },
        "id": "I3VB2W42Sff1",
        "outputId": "59622237-3022-4bde-d899-aa7457124142"
      },
      "outputs": [
        {
          "output_type": "stream",
          "name": "stdout",
          "text": [
            "[]\n"
          ]
        }
      ],
      "source": [
        "kosong = list()\n",
        "print(kosong)"
      ]
    },
    {
      "cell_type": "code",
      "execution_count": null,
      "metadata": {
        "colab": {
          "base_uri": "https://localhost:8080/"
        },
        "id": "QLPdMA6JSff1",
        "outputId": "1bc3b149-618c-4198-e9c5-6864e9c85127"
      },
      "outputs": [
        {
          "output_type": "stream",
          "name": "stdout",
          "text": [
            "[]\n"
          ]
        }
      ],
      "source": [
        "empty = []\n",
        "print(empty)"
      ]
    },
    {
      "cell_type": "markdown",
      "metadata": {
        "id": "WPZ3TCADSff1"
      },
      "source": [
        "Mengetahui jumlah elemen dalam list"
      ]
    },
    {
      "cell_type": "code",
      "execution_count": null,
      "metadata": {
        "colab": {
          "base_uri": "https://localhost:8080/"
        },
        "id": "53LlOuM0Sff2",
        "outputId": "08fb2576-7a61-4e13-c114-e5705685f7da"
      },
      "outputs": [
        {
          "output_type": "stream",
          "name": "stdout",
          "text": [
            "[1, 3.14, 'Sekolahmu', True, [1, 2, 3]]\n",
            "5\n"
          ]
        }
      ],
      "source": [
        "print(campuran)\n",
        "print(len(campuran))"
      ]
    },
    {
      "cell_type": "code",
      "execution_count": null,
      "metadata": {
        "colab": {
          "base_uri": "https://localhost:8080/"
        },
        "id": "Zo5aReYFSff2",
        "outputId": "0d2a1a42-a2c5-478c-d89f-9fc1581cb55a"
      },
      "outputs": [
        {
          "output_type": "stream",
          "name": "stdout",
          "text": [
            "5\n"
          ]
        }
      ],
      "source": [
        "print(len(angka))"
      ]
    },
    {
      "cell_type": "markdown",
      "metadata": {
        "id": "OPhra_ITSff2"
      },
      "source": [
        "### **Cara Mengakses Element pada List**"
      ]
    },
    {
      "cell_type": "code",
      "execution_count": null,
      "metadata": {
        "colab": {
          "base_uri": "https://localhost:8080/"
        },
        "id": "Mehf9S_lSff2",
        "outputId": "8c0eac47-f773-46ce-a258-20bacc089f15"
      },
      "outputs": [
        {
          "output_type": "stream",
          "name": "stdout",
          "text": [
            "[1, 2, 3, 4, 5]\n"
          ]
        }
      ],
      "source": [
        "print(angka)"
      ]
    },
    {
      "cell_type": "code",
      "execution_count": null,
      "metadata": {
        "colab": {
          "base_uri": "https://localhost:8080/"
        },
        "id": "FxfwzqY9Sff2",
        "outputId": "0103eaf3-8b48-4996-9361-5ab3884dce98"
      },
      "outputs": [
        {
          "output_type": "execute_result",
          "data": {
            "text/plain": [
              "5"
            ]
          },
          "metadata": {},
          "execution_count": 18
        }
      ],
      "source": [
        "angka[4]"
      ]
    },
    {
      "cell_type": "code",
      "execution_count": null,
      "metadata": {
        "colab": {
          "base_uri": "https://localhost:8080/"
        },
        "id": "Pqzp41m2Sff2",
        "outputId": "f95767d8-48c4-49dc-d7c1-4856302114e3"
      },
      "outputs": [
        {
          "output_type": "stream",
          "name": "stdout",
          "text": [
            "[1, 3.14, 'Sekolahmu', True, [1, 2, 3]]\n"
          ]
        }
      ],
      "source": [
        "print(campuran)"
      ]
    },
    {
      "cell_type": "code",
      "execution_count": null,
      "metadata": {
        "scrolled": true,
        "colab": {
          "base_uri": "https://localhost:8080/",
          "height": 35
        },
        "id": "vlwSAoebSff3",
        "outputId": "52343e9a-73fe-40f1-df0c-f6fc738f60dc"
      },
      "outputs": [
        {
          "output_type": "execute_result",
          "data": {
            "text/plain": [
              "'Sekolahmu'"
            ],
            "application/vnd.google.colaboratory.intrinsic+json": {
              "type": "string"
            }
          },
          "metadata": {},
          "execution_count": 20
        }
      ],
      "source": [
        "campuran[2]"
      ]
    },
    {
      "cell_type": "code",
      "execution_count": null,
      "metadata": {
        "colab": {
          "base_uri": "https://localhost:8080/",
          "height": 35
        },
        "id": "Zbs-at0_Sff3",
        "outputId": "9a68c912-2816-47f8-c959-1f23ebad1574"
      },
      "outputs": [
        {
          "output_type": "execute_result",
          "data": {
            "text/plain": [
              "'Sekolahmu'"
            ],
            "application/vnd.google.colaboratory.intrinsic+json": {
              "type": "string"
            }
          },
          "metadata": {},
          "execution_count": 21
        }
      ],
      "source": [
        "campuran[-3]"
      ]
    },
    {
      "cell_type": "markdown",
      "metadata": {
        "id": "Ha1IgtQGSff3"
      },
      "source": [
        "### **Mengganti element yang ada di list**"
      ]
    },
    {
      "cell_type": "code",
      "execution_count": null,
      "metadata": {
        "id": "ayFyEpXjSff3"
      },
      "outputs": [],
      "source": [
        "campuran[3] = False"
      ]
    },
    {
      "cell_type": "code",
      "execution_count": null,
      "metadata": {
        "colab": {
          "base_uri": "https://localhost:8080/"
        },
        "id": "Uep3daPjSff3",
        "outputId": "5a3470d4-f260-4c90-d65e-34aa58e851bd"
      },
      "outputs": [
        {
          "output_type": "stream",
          "name": "stdout",
          "text": [
            "[1, 3.14, 'Sekolahmu', False, [1, 2, 3]]\n"
          ]
        }
      ],
      "source": [
        "print(campuran)"
      ]
    },
    {
      "cell_type": "markdown",
      "metadata": {
        "id": "XWuCnAk0Sff3"
      },
      "source": [
        "### **Menambah Element pada List**"
      ]
    },
    {
      "cell_type": "markdown",
      "metadata": {
        "id": "AizZJ1ieSff3"
      },
      "source": [
        "Append"
      ]
    },
    {
      "cell_type": "code",
      "execution_count": null,
      "metadata": {
        "colab": {
          "base_uri": "https://localhost:8080/"
        },
        "id": "6GxgsyN3Sff3",
        "outputId": "268a9f83-1e45-469f-ce34-35000908978d"
      },
      "outputs": [
        {
          "output_type": "stream",
          "name": "stdout",
          "text": [
            "[1, 2, 3, 4, 5]\n",
            "[1, 2, 3, 4, 5, 999]\n"
          ]
        }
      ],
      "source": [
        "print(angka)\n",
        "angka.append(999)\n",
        "print(angka)"
      ]
    },
    {
      "cell_type": "markdown",
      "metadata": {
        "id": "BNPzumt9Sff3"
      },
      "source": [
        "Insert"
      ]
    },
    {
      "cell_type": "code",
      "execution_count": null,
      "metadata": {
        "colab": {
          "base_uri": "https://localhost:8080/"
        },
        "id": "gr21B51KSff4",
        "outputId": "9d7dfdc7-c1f3-4ece-fe09-891198f19ad1"
      },
      "outputs": [
        {
          "output_type": "stream",
          "name": "stdout",
          "text": [
            "[1, 2, 3, 4, 5, 999]\n",
            "[1, 2, 3, 777, 4, 5, 999]\n"
          ]
        }
      ],
      "source": [
        "print(angka)\n",
        "angka.insert(3, 777)\n",
        "print(angka)"
      ]
    },
    {
      "cell_type": "markdown",
      "metadata": {
        "id": "sk_fgac7Sff4"
      },
      "source": [
        "Sumasi"
      ]
    },
    {
      "cell_type": "code",
      "execution_count": null,
      "metadata": {
        "colab": {
          "base_uri": "https://localhost:8080/"
        },
        "id": "6rlXI3aJSff4",
        "outputId": "24639399-575d-4da8-b956-60db11d86b52"
      },
      "outputs": [
        {
          "output_type": "stream",
          "name": "stdout",
          "text": [
            "[1, 2, 3, 777, 4, 5, 999]\n",
            "[1, 3.14, 'Sekolahmu', False, [1, 2, 3]]\n",
            "[1, 2, 3, 777, 4, 5, 999, 1, 3.14, 'Sekolahmu', False, [1, 2, 3]]\n"
          ]
        }
      ],
      "source": [
        "print(angka)\n",
        "print(campuran)\n",
        "print(angka + campuran)"
      ]
    },
    {
      "cell_type": "markdown",
      "metadata": {
        "id": "Sr1oCsQMSff4"
      },
      "source": [
        "Extend"
      ]
    },
    {
      "cell_type": "code",
      "execution_count": null,
      "metadata": {
        "colab": {
          "base_uri": "https://localhost:8080/"
        },
        "id": "SxmoDoCwSff4",
        "outputId": "35b2fb37-a19c-47e0-e85c-86b3018fd4bd"
      },
      "outputs": [
        {
          "output_type": "stream",
          "name": "stdout",
          "text": [
            "[1, 2, 3, 777, 4, 5, 999]\n",
            "[1, 2, 3, 777, 4, 5, 999, 555, 666, 333]\n"
          ]
        }
      ],
      "source": [
        "print(angka)\n",
        "angka.extend([555, 666, 333])\n",
        "print(angka)"
      ]
    },
    {
      "cell_type": "markdown",
      "metadata": {
        "id": "F6JLFeITSff4"
      },
      "source": [
        "### **Mengetahui index dari sebuah element dalam list**"
      ]
    },
    {
      "cell_type": "code",
      "execution_count": null,
      "metadata": {
        "colab": {
          "base_uri": "https://localhost:8080/"
        },
        "id": "1X37V59ySff4",
        "outputId": "4e5a1743-86fc-47e2-a67b-0a2ed4fa90c2"
      },
      "outputs": [
        {
          "output_type": "execute_result",
          "data": {
            "text/plain": [
              "6"
            ]
          },
          "metadata": {},
          "execution_count": 28
        }
      ],
      "source": [
        "angka.index(999)"
      ]
    },
    {
      "cell_type": "code",
      "execution_count": null,
      "metadata": {
        "colab": {
          "base_uri": "https://localhost:8080/"
        },
        "id": "gKAgDUBMSff5",
        "outputId": "e0c004ca-70de-4421-cdf0-0078a2b38fb0"
      },
      "outputs": [
        {
          "output_type": "execute_result",
          "data": {
            "text/plain": [
              "999"
            ]
          },
          "metadata": {},
          "execution_count": 29
        }
      ],
      "source": [
        "angka[6]"
      ]
    },
    {
      "cell_type": "markdown",
      "metadata": {
        "id": "MmzqHOSGSff5"
      },
      "source": [
        "### **Menghapus Element pada List**"
      ]
    },
    {
      "cell_type": "markdown",
      "metadata": {
        "id": "qkW33kgsSff5"
      },
      "source": [
        "Remove"
      ]
    },
    {
      "cell_type": "code",
      "execution_count": null,
      "metadata": {
        "scrolled": true,
        "colab": {
          "base_uri": "https://localhost:8080/"
        },
        "id": "JFhMfuBDSff5",
        "outputId": "2e181660-0b13-4626-cceb-338189fea1f0"
      },
      "outputs": [
        {
          "output_type": "stream",
          "name": "stdout",
          "text": [
            "[1, 3.14, 'Sekolahmu', False, [1, 2, 3]]\n"
          ]
        }
      ],
      "source": [
        "print(campuran)"
      ]
    },
    {
      "cell_type": "code",
      "execution_count": null,
      "metadata": {
        "id": "9CosspvZSff5"
      },
      "outputs": [],
      "source": [
        "campuran.remove([1, 2, 3])"
      ]
    },
    {
      "cell_type": "code",
      "execution_count": null,
      "metadata": {
        "scrolled": true,
        "colab": {
          "base_uri": "https://localhost:8080/"
        },
        "id": "y2jMN7UTSff5",
        "outputId": "0645c7f2-e406-4b45-cc97-53246009c959"
      },
      "outputs": [
        {
          "output_type": "stream",
          "name": "stdout",
          "text": [
            "[1, 3.14, 'Sekolahmu', False]\n"
          ]
        }
      ],
      "source": [
        "print(campuran)"
      ]
    },
    {
      "cell_type": "code",
      "execution_count": null,
      "metadata": {
        "id": "GT7mNmM4Sff6"
      },
      "outputs": [],
      "source": [
        "campuran.remove('Sekolahmu')"
      ]
    },
    {
      "cell_type": "code",
      "execution_count": null,
      "metadata": {
        "colab": {
          "base_uri": "https://localhost:8080/"
        },
        "id": "Z3A7oxI7Sff6",
        "outputId": "d442ce90-2c5d-4bbd-adb0-565c27719ed4"
      },
      "outputs": [
        {
          "output_type": "stream",
          "name": "stdout",
          "text": [
            "[1, 3.14, False]\n"
          ]
        }
      ],
      "source": [
        "print(campuran)"
      ]
    },
    {
      "cell_type": "markdown",
      "metadata": {
        "id": "6cudDZfhSff6"
      },
      "source": [
        "pop"
      ]
    },
    {
      "cell_type": "code",
      "execution_count": null,
      "metadata": {
        "scrolled": true,
        "colab": {
          "base_uri": "https://localhost:8080/"
        },
        "id": "_3WXrmMQSff6",
        "outputId": "c0b9695f-a5b2-4ff9-b83b-2ccc254c3ecf"
      },
      "outputs": [
        {
          "output_type": "stream",
          "name": "stdout",
          "text": [
            "[1, 2, 3, 777, 4, 5, 999, 555, 666, 333]\n",
            "[1, 2, 3, 777, 4, 5, 999, 555, 666]\n"
          ]
        }
      ],
      "source": [
        "print(angka)\n",
        "angka.pop()\n",
        "print(angka)"
      ]
    },
    {
      "cell_type": "code",
      "execution_count": null,
      "metadata": {
        "colab": {
          "base_uri": "https://localhost:8080/"
        },
        "id": "4tCJfzW-Sff6",
        "outputId": "53f44850-6d7b-4d71-8aa1-5ca542ed0f4f"
      },
      "outputs": [
        {
          "output_type": "stream",
          "name": "stdout",
          "text": [
            "[1, 2, 3, 777, 4, 5, 999, 555, 666]\n",
            "[1, 2, 3, 777, 4, 5, 555, 666]\n"
          ]
        }
      ],
      "source": [
        "print(angka)\n",
        "angka.pop(6)\n",
        "print(angka)"
      ]
    },
    {
      "cell_type": "markdown",
      "metadata": {
        "id": "EiV7kvXuSff6"
      },
      "source": [
        "del"
      ]
    },
    {
      "cell_type": "code",
      "execution_count": null,
      "metadata": {
        "scrolled": true,
        "colab": {
          "base_uri": "https://localhost:8080/"
        },
        "id": "RXFA5yJXSff6",
        "outputId": "9271f739-4db5-4b65-bf26-147196c543f1"
      },
      "outputs": [
        {
          "output_type": "stream",
          "name": "stdout",
          "text": [
            "[1, 2, 3, 777, 4, 5, 555, 666]\n",
            "[1, 2, 3, 777, 4, 5, 666]\n"
          ]
        }
      ],
      "source": [
        "print(angka)\n",
        "del angka[-2]\n",
        "print(angka)"
      ]
    },
    {
      "cell_type": "code",
      "execution_count": null,
      "metadata": {
        "scrolled": true,
        "colab": {
          "base_uri": "https://localhost:8080/",
          "height": 228
        },
        "id": "zS11A-djSff6",
        "outputId": "088349c4-c676-4e7e-8a78-c1e1971ba6e0"
      },
      "outputs": [
        {
          "output_type": "stream",
          "name": "stdout",
          "text": [
            "[1, 2, 3, 777, 4, 5, 666]\n"
          ]
        },
        {
          "output_type": "error",
          "ename": "NameError",
          "evalue": "ignored",
          "traceback": [
            "\u001b[0;31m---------------------------------------------------------------------------\u001b[0m",
            "\u001b[0;31mNameError\u001b[0m                                 Traceback (most recent call last)",
            "\u001b[0;32m<ipython-input-39-6db61dc25612>\u001b[0m in \u001b[0;36m<cell line: 3>\u001b[0;34m()\u001b[0m\n\u001b[1;32m      1\u001b[0m \u001b[0mprint\u001b[0m\u001b[0;34m(\u001b[0m\u001b[0mangka\u001b[0m\u001b[0;34m)\u001b[0m\u001b[0;34m\u001b[0m\u001b[0;34m\u001b[0m\u001b[0m\n\u001b[1;32m      2\u001b[0m \u001b[0;32mdel\u001b[0m \u001b[0mangka\u001b[0m\u001b[0;34m\u001b[0m\u001b[0;34m\u001b[0m\u001b[0m\n\u001b[0;32m----> 3\u001b[0;31m \u001b[0mprint\u001b[0m\u001b[0;34m(\u001b[0m\u001b[0mangka\u001b[0m\u001b[0;34m)\u001b[0m\u001b[0;34m\u001b[0m\u001b[0;34m\u001b[0m\u001b[0m\n\u001b[0m",
            "\u001b[0;31mNameError\u001b[0m: name 'angka' is not defined"
          ]
        }
      ],
      "source": [
        "print(angka)\n",
        "del angka\n",
        "print(angka)"
      ]
    },
    {
      "cell_type": "code",
      "execution_count": null,
      "metadata": {
        "colab": {
          "base_uri": "https://localhost:8080/",
          "height": 228
        },
        "id": "ElBCcnceSff7",
        "outputId": "3136cca4-6a5d-471e-c05a-4b478c07894e"
      },
      "outputs": [
        {
          "output_type": "stream",
          "name": "stdout",
          "text": [
            "['A', 'B']\n"
          ]
        },
        {
          "output_type": "error",
          "ename": "NameError",
          "evalue": "ignored",
          "traceback": [
            "\u001b[0;31m---------------------------------------------------------------------------\u001b[0m",
            "\u001b[0;31mNameError\u001b[0m                                 Traceback (most recent call last)",
            "\u001b[0;32m<ipython-input-42-bbb9f9a8b119>\u001b[0m in \u001b[0;36m<cell line: 4>\u001b[0;34m()\u001b[0m\n\u001b[1;32m      2\u001b[0m \u001b[0mprint\u001b[0m\u001b[0;34m(\u001b[0m\u001b[0malpha\u001b[0m\u001b[0;34m)\u001b[0m\u001b[0;34m\u001b[0m\u001b[0;34m\u001b[0m\u001b[0m\n\u001b[1;32m      3\u001b[0m \u001b[0;32mdel\u001b[0m \u001b[0malpha\u001b[0m\u001b[0;34m\u001b[0m\u001b[0;34m\u001b[0m\u001b[0m\n\u001b[0;32m----> 4\u001b[0;31m \u001b[0mprint\u001b[0m\u001b[0;34m(\u001b[0m\u001b[0malpha\u001b[0m\u001b[0;34m)\u001b[0m\u001b[0;34m\u001b[0m\u001b[0;34m\u001b[0m\u001b[0m\n\u001b[0m",
            "\u001b[0;31mNameError\u001b[0m: name 'alpha' is not defined"
          ]
        }
      ],
      "source": [
        "alpha = ['A', 'B']\n",
        "print(alpha)\n",
        "del alpha\n",
        "print(alpha)"
      ]
    },
    {
      "cell_type": "markdown",
      "metadata": {
        "id": "4ojUvdbPSff7"
      },
      "source": [
        "### **Beberapa Fungsi / Method yang biasa digunakan dalam list**"
      ]
    },
    {
      "cell_type": "markdown",
      "metadata": {
        "id": "C8BDYK9KSff7"
      },
      "source": [
        "Sort"
      ]
    },
    {
      "cell_type": "code",
      "execution_count": null,
      "metadata": {
        "colab": {
          "base_uri": "https://localhost:8080/"
        },
        "id": "OFcHbmyASff7",
        "outputId": "d300b7ce-ff7a-4891-a705-02768fd0673b"
      },
      "outputs": [
        {
          "output_type": "stream",
          "name": "stdout",
          "text": [
            "[7, 1, 5, 3, 9, 4, 8]\n",
            "[1, 3, 4, 5, 7, 8, 9]\n"
          ]
        }
      ],
      "source": [
        "angka = [7, 1, 5, 3, 9, 4, 8]\n",
        "print(angka)\n",
        "angka.sort()\n",
        "print(angka)"
      ]
    },
    {
      "cell_type": "markdown",
      "metadata": {
        "id": "ajvGmj7bSff7"
      },
      "source": [
        "Sorted"
      ]
    },
    {
      "cell_type": "code",
      "execution_count": null,
      "metadata": {
        "colab": {
          "base_uri": "https://localhost:8080/"
        },
        "id": "CxRb_SHGSff7",
        "outputId": "0e270017-0c84-45d7-d6ea-f48a92b0dc84"
      },
      "outputs": [
        {
          "output_type": "stream",
          "name": "stdout",
          "text": [
            "List Sebelum di Urutkan\n",
            "[3, 1, 9, 2, 5, 8]\n",
            "---------------\n",
            "---------------\n",
            "List Setelah diurutkan\n",
            "[3, 1, 9, 2, 5, 8]\n",
            "[1, 2, 3, 5, 8, 9]\n"
          ]
        }
      ],
      "source": [
        "angka2 = [3, 1, 9, 2, 5, 8]\n",
        "print('List Sebelum di Urutkan')\n",
        "print(angka2)\n",
        "print('-'*15)\n",
        "angka3 = sorted(angka2)\n",
        "print('-'*15)\n",
        "print('List Setelah diurutkan')\n",
        "print(angka2)\n",
        "print(angka3)"
      ]
    },
    {
      "cell_type": "markdown",
      "metadata": {
        "id": "QYx-IGD9Sff7"
      },
      "source": [
        "Reverse"
      ]
    },
    {
      "cell_type": "code",
      "execution_count": null,
      "metadata": {
        "colab": {
          "base_uri": "https://localhost:8080/"
        },
        "id": "fpcevubISff8",
        "outputId": "b24f77f1-23c6-4454-e696-5d03ffc43f8e"
      },
      "outputs": [
        {
          "output_type": "stream",
          "name": "stdout",
          "text": [
            "[3, 1, 9, 2, 5, 8]\n",
            "[9, 8, 5, 3, 2, 1]\n"
          ]
        }
      ],
      "source": [
        "print(angka2)\n",
        "angka2.sort()\n",
        "angka2.reverse()\n",
        "print(angka2)"
      ]
    },
    {
      "cell_type": "markdown",
      "metadata": {
        "id": "EiO5PfiASff8"
      },
      "source": [
        "Min, Max, Sum"
      ]
    },
    {
      "cell_type": "code",
      "execution_count": null,
      "metadata": {
        "colab": {
          "base_uri": "https://localhost:8080/"
        },
        "id": "lCoKOFReSff8",
        "outputId": "63c8edd2-7417-46b1-8adf-d8da84817fce"
      },
      "outputs": [
        {
          "output_type": "execute_result",
          "data": {
            "text/plain": [
              "9"
            ]
          },
          "metadata": {},
          "execution_count": 46
        }
      ],
      "source": [
        "max(angka)"
      ]
    },
    {
      "cell_type": "code",
      "execution_count": null,
      "metadata": {
        "colab": {
          "base_uri": "https://localhost:8080/"
        },
        "id": "nWP1YC2eSff8",
        "outputId": "b0ddf7bf-2cfb-412e-e0e3-9f2f246dd344"
      },
      "outputs": [
        {
          "output_type": "stream",
          "name": "stdout",
          "text": [
            "[1, 3, 4, 5, 7, 8, 9]\n",
            "Nilai maksimum dari angka 9\n",
            "Nilai minimum dari angka 1\n",
            "Nilai Total dari angka 37\n"
          ]
        }
      ],
      "source": [
        "print(angka)\n",
        "\n",
        "minimum = min(angka)\n",
        "maksimum = max(angka)\n",
        "jumlah = sum(angka)\n",
        "\n",
        "print('Nilai maksimum dari angka {}'.format(maksimum))\n",
        "print('Nilai minimum dari angka {}'.format(minimum))\n",
        "print('Nilai Total dari angka {}'.format(jumlah))"
      ]
    },
    {
      "cell_type": "markdown",
      "metadata": {
        "id": "XhDxGP2ySff8"
      },
      "source": [
        "### **Slicing List**"
      ]
    },
    {
      "cell_type": "markdown",
      "metadata": {
        "id": "099rPR8SSff8"
      },
      "source": [
        "Kiri"
      ]
    },
    {
      "cell_type": "code",
      "execution_count": null,
      "metadata": {
        "colab": {
          "base_uri": "https://localhost:8080/"
        },
        "id": "Pg-hGY1bSff8",
        "outputId": "e1793cbc-0f8a-47f1-f94c-7486a21e3b28"
      },
      "outputs": [
        {
          "output_type": "stream",
          "name": "stdout",
          "text": [
            "['Mi Ayam', 'Indomie', 'Pangsit', 'Ramen', 'Samyang']\n"
          ]
        }
      ],
      "source": [
        "a = ['Mi Ayam', 'Indomie', 'Pangsit', 'Ramen', 'Samyang']\n",
        "print(a)"
      ]
    },
    {
      "cell_type": "code",
      "execution_count": null,
      "metadata": {
        "scrolled": true,
        "colab": {
          "base_uri": "https://localhost:8080/"
        },
        "id": "qC10rA-zSff9",
        "outputId": "6f3cfc7b-00da-4484-8cd0-bbcf5bd61ffe"
      },
      "outputs": [
        {
          "output_type": "execute_result",
          "data": {
            "text/plain": [
              "['Mi Ayam', 'Indomie', 'Pangsit']"
            ]
          },
          "metadata": {},
          "execution_count": 49
        }
      ],
      "source": [
        "a[0:3]"
      ]
    },
    {
      "cell_type": "code",
      "execution_count": null,
      "metadata": {
        "colab": {
          "base_uri": "https://localhost:8080/"
        },
        "id": "R1j1niYRSff9",
        "outputId": "508cc6bd-35f6-42c9-bcb9-56f7f6ac01a0"
      },
      "outputs": [
        {
          "output_type": "execute_result",
          "data": {
            "text/plain": [
              "['Mi Ayam', 'Indomie', 'Pangsit']"
            ]
          },
          "metadata": {},
          "execution_count": 50
        }
      ],
      "source": [
        "a[:3]"
      ]
    },
    {
      "cell_type": "code",
      "execution_count": null,
      "metadata": {
        "colab": {
          "base_uri": "https://localhost:8080/"
        },
        "id": "I0KB5qUDSff9",
        "outputId": "07532272-d407-494f-c77f-3ecd0f6ffb1e"
      },
      "outputs": [
        {
          "output_type": "execute_result",
          "data": {
            "text/plain": [
              "['Indomie', 'Pangsit', 'Ramen']"
            ]
          },
          "metadata": {},
          "execution_count": 51
        }
      ],
      "source": [
        "a[1:4]"
      ]
    },
    {
      "cell_type": "code",
      "execution_count": null,
      "metadata": {
        "colab": {
          "base_uri": "https://localhost:8080/"
        },
        "id": "E7gVkXvOSff9",
        "outputId": "715ac07c-f152-4f87-e9bd-4b1090814cb2"
      },
      "outputs": [
        {
          "output_type": "execute_result",
          "data": {
            "text/plain": [
              "['Pangsit', 'Ramen', 'Samyang']"
            ]
          },
          "metadata": {},
          "execution_count": 52
        }
      ],
      "source": [
        "a[2:]"
      ]
    },
    {
      "cell_type": "code",
      "execution_count": null,
      "metadata": {
        "colab": {
          "base_uri": "https://localhost:8080/"
        },
        "id": "-2ImdSgRSff9",
        "outputId": "cd1e453b-58fb-4235-d474-e12641069d28"
      },
      "outputs": [
        {
          "output_type": "stream",
          "name": "stdout",
          "text": [
            "['Mi Ayam', 'Indomie', 'Pangsit', 'Ramen', 'Samyang']\n"
          ]
        }
      ],
      "source": [
        "print(a)"
      ]
    },
    {
      "cell_type": "code",
      "execution_count": null,
      "metadata": {
        "colab": {
          "base_uri": "https://localhost:8080/"
        },
        "id": "SbJmZhKMSff9",
        "outputId": "906537cb-d0c8-406c-de5c-bfa617d20cb0"
      },
      "outputs": [
        {
          "output_type": "execute_result",
          "data": {
            "text/plain": [
              "['Mi Ayam', 'Pangsit', 'Samyang']"
            ]
          },
          "metadata": {},
          "execution_count": 54
        }
      ],
      "source": [
        "a[0:5:2]"
      ]
    },
    {
      "cell_type": "markdown",
      "metadata": {
        "id": "X0L_aE9bSff-"
      },
      "source": [
        "Kanan"
      ]
    },
    {
      "cell_type": "code",
      "execution_count": null,
      "metadata": {
        "colab": {
          "base_uri": "https://localhost:8080/"
        },
        "id": "9-GicfVMSff-",
        "outputId": "06fb9b2b-6486-4f92-a3ba-e11d2c96b11e"
      },
      "outputs": [
        {
          "output_type": "stream",
          "name": "stdout",
          "text": [
            "['Mi Ayam', 'Indomie', 'Pangsit', 'Ramen', 'Samyang']\n"
          ]
        }
      ],
      "source": [
        "print(a)"
      ]
    },
    {
      "cell_type": "code",
      "execution_count": null,
      "metadata": {
        "colab": {
          "base_uri": "https://localhost:8080/"
        },
        "id": "6aS1nHggSff-",
        "outputId": "2061adf7-c424-4fe6-fa24-19d426a5df51"
      },
      "outputs": [
        {
          "output_type": "execute_result",
          "data": {
            "text/plain": [
              "['Mi Ayam', 'Indomie', 'Pangsit']"
            ]
          },
          "metadata": {},
          "execution_count": 56
        }
      ],
      "source": [
        "a[-5:-2]"
      ]
    },
    {
      "cell_type": "code",
      "execution_count": null,
      "metadata": {
        "colab": {
          "base_uri": "https://localhost:8080/"
        },
        "id": "zCDNaqekSff-",
        "outputId": "f3e89621-03c8-46da-e88a-c7d128d9481f"
      },
      "outputs": [
        {
          "output_type": "execute_result",
          "data": {
            "text/plain": [
              "[]"
            ]
          },
          "metadata": {},
          "execution_count": 57
        }
      ],
      "source": [
        "a[-2:-5]"
      ]
    },
    {
      "cell_type": "markdown",
      "metadata": {
        "id": "xgwXfqKnSff-"
      },
      "source": [
        "### **Addition : Slicing String**"
      ]
    },
    {
      "cell_type": "code",
      "execution_count": null,
      "metadata": {
        "colab": {
          "base_uri": "https://localhost:8080/"
        },
        "id": "81xC1-cHSff-",
        "outputId": "48f4fe4d-4fc2-42f9-c7f0-b7df5bd5fe79"
      },
      "outputs": [
        {
          "output_type": "stream",
          "name": "stdout",
          "text": [
            "Sekolahmu x Merdeka Belajar\n",
            "Sekol\n",
            "Soh Mdaej\n"
          ]
        }
      ],
      "source": [
        "b = 'Sekolahmu x Merdeka Belajar'\n",
        "print(b)\n",
        "print(b[:5])\n",
        "print(b[::3])"
      ]
    },
    {
      "cell_type": "markdown",
      "metadata": {
        "id": "-YTGABL8Sff-"
      },
      "source": [
        "String to List (split)"
      ]
    },
    {
      "cell_type": "code",
      "execution_count": null,
      "metadata": {
        "colab": {
          "base_uri": "https://localhost:8080/"
        },
        "id": "9lo0Qhl2Sff_",
        "outputId": "0cbee999-8920-4ab3-acf7-b2e063d8d989"
      },
      "outputs": [
        {
          "output_type": "execute_result",
          "data": {
            "text/plain": [
              "['Merdeka', 'Belajar']"
            ]
          },
          "metadata": {},
          "execution_count": 59
        }
      ],
      "source": [
        "'Merdeka Belajar'.split()"
      ]
    },
    {
      "cell_type": "markdown",
      "metadata": {
        "id": "nVJyUBQzSff_"
      },
      "source": [
        "List to string (join)"
      ]
    },
    {
      "cell_type": "code",
      "execution_count": null,
      "metadata": {
        "colab": {
          "base_uri": "https://localhost:8080/",
          "height": 35
        },
        "id": "ip0SeoG6Sff_",
        "outputId": "c1cd8d51-28c8-4175-d1f3-619be25eaff3"
      },
      "outputs": [
        {
          "output_type": "execute_result",
          "data": {
            "text/plain": [
              "'shift'"
            ],
            "application/vnd.google.colaboratory.intrinsic+json": {
              "type": "string"
            }
          },
          "metadata": {},
          "execution_count": 60
        }
      ],
      "source": [
        "''.join(['s', 'h', 'i', 'f', 't'])"
      ]
    },
    {
      "cell_type": "code",
      "execution_count": null,
      "metadata": {
        "colab": {
          "base_uri": "https://localhost:8080/",
          "height": 35
        },
        "id": "pgvrQvhFSff_",
        "outputId": "68f53046-c10e-4d01-fa04-46999246bbba"
      },
      "outputs": [
        {
          "output_type": "execute_result",
          "data": {
            "text/plain": [
              "'Merdeka Belajar'"
            ],
            "application/vnd.google.colaboratory.intrinsic+json": {
              "type": "string"
            }
          },
          "metadata": {},
          "execution_count": 61
        }
      ],
      "source": [
        "''.join(['Merdeka', ' ', 'Belajar'])"
      ]
    },
    {
      "cell_type": "markdown",
      "metadata": {
        "id": "A4O-brSbSfgD"
      },
      "source": [
        "## Tuple"
      ]
    },
    {
      "cell_type": "markdown",
      "metadata": {
        "id": "qe_fgdYISfgD"
      },
      "source": [
        "Secara fungsi tuple mirip dengan list, hanya saja tuple tidak dapat di modifikasi"
      ]
    },
    {
      "cell_type": "markdown",
      "metadata": {
        "id": "nKrLlDg-SfgD"
      },
      "source": [
        "### **Membuat sebuah tuple**"
      ]
    },
    {
      "cell_type": "code",
      "execution_count": null,
      "metadata": {
        "colab": {
          "base_uri": "https://localhost:8080/"
        },
        "id": "iJhFUDetSfgD",
        "outputId": "2ae6ade9-99b2-4d11-9592-1896ff6740b1"
      },
      "outputs": [
        {
          "output_type": "stream",
          "name": "stdout",
          "text": [
            "('Bandung', 'Jogja', 'Padang', 'Batam', 'Depok')\n",
            "<class 'tuple'>\n"
          ]
        }
      ],
      "source": [
        "kota = ('Bandung', 'Jogja', 'Padang', 'Batam', 'Depok')\n",
        "print(kota)\n",
        "print(type(kota))"
      ]
    },
    {
      "cell_type": "code",
      "execution_count": null,
      "metadata": {
        "colab": {
          "base_uri": "https://localhost:8080/"
        },
        "id": "K5JmL6IsSfgE",
        "outputId": "1dbbd6cc-c225-432e-c42b-e873d418e481"
      },
      "outputs": [
        {
          "output_type": "execute_result",
          "data": {
            "text/plain": [
              "str"
            ]
          },
          "metadata": {},
          "execution_count": 63
        }
      ],
      "source": [
        "type(kota[3])"
      ]
    },
    {
      "cell_type": "markdown",
      "metadata": {
        "id": "sZS0dGCcSfgE"
      },
      "source": [
        "### Mengganti element tuple"
      ]
    },
    {
      "cell_type": "code",
      "execution_count": null,
      "metadata": {
        "colab": {
          "base_uri": "https://localhost:8080/",
          "height": 176
        },
        "id": "vUPmaepGSfgE",
        "outputId": "e1d9ecea-2f6e-4cbc-956b-64b9a5a566a1"
      },
      "outputs": [
        {
          "output_type": "error",
          "ename": "TypeError",
          "evalue": "ignored",
          "traceback": [
            "\u001b[0;31m---------------------------------------------------------------------------\u001b[0m",
            "\u001b[0;31mTypeError\u001b[0m                                 Traceback (most recent call last)",
            "\u001b[0;32m<ipython-input-64-f33bfd8a0b1e>\u001b[0m in \u001b[0;36m<cell line: 1>\u001b[0;34m()\u001b[0m\n\u001b[0;32m----> 1\u001b[0;31m \u001b[0mkota\u001b[0m\u001b[0;34m[\u001b[0m\u001b[0;36m3\u001b[0m\u001b[0;34m]\u001b[0m \u001b[0;34m=\u001b[0m \u001b[0;34m'Jakarta'\u001b[0m\u001b[0;34m\u001b[0m\u001b[0;34m\u001b[0m\u001b[0m\n\u001b[0m",
            "\u001b[0;31mTypeError\u001b[0m: 'tuple' object does not support item assignment"
          ]
        }
      ],
      "source": [
        "kota[3] = 'Jakarta'"
      ]
    },
    {
      "cell_type": "markdown",
      "metadata": {
        "id": "bgUX7q68SfgE"
      },
      "source": [
        "### Menghapus element tuple"
      ]
    },
    {
      "cell_type": "code",
      "execution_count": null,
      "metadata": {
        "colab": {
          "base_uri": "https://localhost:8080/",
          "height": 176
        },
        "id": "aGSOuh_LSfgE",
        "outputId": "72945176-6a91-4c7f-ba8d-71d776f1a9cd"
      },
      "outputs": [
        {
          "output_type": "error",
          "ename": "TypeError",
          "evalue": "ignored",
          "traceback": [
            "\u001b[0;31m---------------------------------------------------------------------------\u001b[0m",
            "\u001b[0;31mTypeError\u001b[0m                                 Traceback (most recent call last)",
            "\u001b[0;32m<ipython-input-65-c362aa06ea04>\u001b[0m in \u001b[0;36m<cell line: 1>\u001b[0;34m()\u001b[0m\n\u001b[0;32m----> 1\u001b[0;31m \u001b[0;32mdel\u001b[0m \u001b[0mkota\u001b[0m\u001b[0;34m[\u001b[0m\u001b[0;36m3\u001b[0m\u001b[0;34m]\u001b[0m\u001b[0;34m\u001b[0m\u001b[0;34m\u001b[0m\u001b[0m\n\u001b[0m",
            "\u001b[0;31mTypeError\u001b[0m: 'tuple' object doesn't support item deletion"
          ]
        }
      ],
      "source": [
        "del kota[3]"
      ]
    },
    {
      "cell_type": "markdown",
      "metadata": {
        "id": "7OAtlZD5SfgE"
      },
      "source": [
        "### Slicing Tuple"
      ]
    },
    {
      "cell_type": "code",
      "execution_count": null,
      "metadata": {
        "colab": {
          "base_uri": "https://localhost:8080/"
        },
        "id": "MtCLEuQ2SfgE",
        "outputId": "a5f3a5b0-08ee-43d2-e253-71d04b054501"
      },
      "outputs": [
        {
          "output_type": "execute_result",
          "data": {
            "text/plain": [
              "('Bandung', 'Jogja', 'Padang')"
            ]
          },
          "metadata": {},
          "execution_count": 66
        }
      ],
      "source": [
        "kota[:3]"
      ]
    },
    {
      "cell_type": "markdown",
      "metadata": {
        "id": "-C5zki3rSfgF"
      },
      "source": [
        "## Dictionaries"
      ]
    },
    {
      "cell_type": "markdown",
      "metadata": {
        "id": "yvEdX221SfgF"
      },
      "source": [
        "Dictionaries merupakan tipe data yang terdiri dari pasangan 'key' dan 'value'. 'Key' bersifat unik."
      ]
    },
    {
      "cell_type": "markdown",
      "metadata": {
        "id": "qwEp-PYWSfgF"
      },
      "source": [
        "### Membuat sebuah dicionaries"
      ]
    },
    {
      "cell_type": "code",
      "execution_count": null,
      "metadata": {
        "id": "tSdYnl4GSfgF"
      },
      "outputs": [],
      "source": [
        "rapot = {\n",
        "    'Nama' : 'David',\n",
        "    'Kelas' : '11-C',\n",
        "    'Nilai Matematika' : 100,\n",
        "    'Nilai Fisika' : 100,\n",
        "    'Nilai Seni Budaya' : 75\n",
        "}"
      ]
    },
    {
      "cell_type": "code",
      "execution_count": null,
      "metadata": {
        "colab": {
          "base_uri": "https://localhost:8080/"
        },
        "id": "Jm28RgccSfgF",
        "outputId": "3b121ab6-08ec-4308-c67f-757bc6be376d"
      },
      "outputs": [
        {
          "output_type": "stream",
          "name": "stdout",
          "text": [
            "{'Nama': 'David', 'Kelas': '11-C', 'Nilai Matematika': 100, 'Nilai Fisika': 100, 'Nilai Seni Budaya': 75}\n"
          ]
        }
      ],
      "source": [
        "print(rapot)"
      ]
    },
    {
      "cell_type": "markdown",
      "metadata": {
        "id": "1IA999SYSfgF"
      },
      "source": [
        "### Mengakses value"
      ]
    },
    {
      "cell_type": "code",
      "execution_count": null,
      "metadata": {
        "scrolled": true,
        "colab": {
          "base_uri": "https://localhost:8080/"
        },
        "id": "hBI7YlegSfgF",
        "outputId": "028f2be2-1ae1-4016-fc14-26096149e48e"
      },
      "outputs": [
        {
          "output_type": "execute_result",
          "data": {
            "text/plain": [
              "100"
            ]
          },
          "metadata": {},
          "execution_count": 69
        }
      ],
      "source": [
        "rapot['Nilai Matematika']"
      ]
    },
    {
      "cell_type": "code",
      "execution_count": null,
      "metadata": {
        "colab": {
          "base_uri": "https://localhost:8080/",
          "height": 35
        },
        "id": "YRqbwGQjSfgF",
        "outputId": "b4d33580-d7fe-4e20-cf29-88f8b06cf557"
      },
      "outputs": [
        {
          "output_type": "execute_result",
          "data": {
            "text/plain": [
              "'David'"
            ],
            "application/vnd.google.colaboratory.intrinsic+json": {
              "type": "string"
            }
          },
          "metadata": {},
          "execution_count": 70
        }
      ],
      "source": [
        "rapot['Nama']"
      ]
    },
    {
      "cell_type": "code",
      "execution_count": null,
      "metadata": {
        "colab": {
          "base_uri": "https://localhost:8080/",
          "height": 176
        },
        "id": "Da_bFzsoSfgF",
        "outputId": "326a2dc3-8ac7-42fb-e4a9-87fef7a259f2"
      },
      "outputs": [
        {
          "output_type": "error",
          "ename": "KeyError",
          "evalue": "ignored",
          "traceback": [
            "\u001b[0;31m---------------------------------------------------------------------------\u001b[0m",
            "\u001b[0;31mKeyError\u001b[0m                                  Traceback (most recent call last)",
            "\u001b[0;32m<ipython-input-71-7b2c4a05a808>\u001b[0m in \u001b[0;36m<cell line: 1>\u001b[0;34m()\u001b[0m\n\u001b[0;32m----> 1\u001b[0;31m \u001b[0mrapot\u001b[0m\u001b[0;34m[\u001b[0m\u001b[0;34m'nama'\u001b[0m\u001b[0;34m]\u001b[0m\u001b[0;34m\u001b[0m\u001b[0;34m\u001b[0m\u001b[0m\n\u001b[0m",
            "\u001b[0;31mKeyError\u001b[0m: 'nama'"
          ]
        }
      ],
      "source": [
        "rapot['nama']"
      ]
    },
    {
      "cell_type": "markdown",
      "metadata": {
        "id": "hvpOoVZPSfgG"
      },
      "source": [
        "### Mengganti Value"
      ]
    },
    {
      "cell_type": "code",
      "execution_count": null,
      "metadata": {
        "colab": {
          "base_uri": "https://localhost:8080/"
        },
        "id": "U_J7OOkWSfgG",
        "outputId": "c59f4cd9-4c61-44d1-e548-e47fd87f41ad"
      },
      "outputs": [
        {
          "output_type": "stream",
          "name": "stdout",
          "text": [
            "{'Nama': 'David', 'Kelas': '11-C', 'Nilai Matematika': 100, 'Nilai Fisika': 100, 'Nilai Seni Budaya': 90}\n"
          ]
        }
      ],
      "source": [
        "rapot['Nilai Seni Budaya'] = 90\n",
        "\n",
        "print(rapot)"
      ]
    },
    {
      "cell_type": "markdown",
      "metadata": {
        "id": "B8gQWOb5SfgG"
      },
      "source": [
        "### Dictionaries dalam Dictionaries"
      ]
    },
    {
      "cell_type": "code",
      "execution_count": null,
      "metadata": {
        "id": "ipBi0PS-SfgG"
      },
      "outputs": [],
      "source": [
        "rapot_kelas = {\n",
        "    'Nama' : 'David',\n",
        "    'Nilai' : {'Matematika' : 100, 'Fisika' : 100, 'Seni Budaya' : 90}\n",
        "}"
      ]
    },
    {
      "cell_type": "code",
      "execution_count": null,
      "metadata": {
        "colab": {
          "base_uri": "https://localhost:8080/"
        },
        "id": "y7aR2KNKSfgG",
        "outputId": "e08251ed-3841-4bcf-f35d-8a9c6f56dd02"
      },
      "outputs": [
        {
          "output_type": "stream",
          "name": "stdout",
          "text": [
            "{'Nama': 'David', 'Nilai': {'Matematika': 100, 'Fisika': 100, 'Seni Budaya': 90}}\n"
          ]
        }
      ],
      "source": [
        "print(rapot_kelas)"
      ]
    },
    {
      "cell_type": "markdown",
      "metadata": {
        "id": "8Y30VmALSfgG"
      },
      "source": [
        "Mengakses dictionaries dalam dictionaries"
      ]
    },
    {
      "cell_type": "code",
      "execution_count": null,
      "metadata": {
        "colab": {
          "base_uri": "https://localhost:8080/"
        },
        "id": "zxc8Nu8_SfgG",
        "outputId": "1a8eeb4a-572c-4a8c-b3a0-61344a364483"
      },
      "outputs": [
        {
          "output_type": "execute_result",
          "data": {
            "text/plain": [
              "100"
            ]
          },
          "metadata": {},
          "execution_count": 75
        }
      ],
      "source": [
        "rapot_kelas['Nilai']['Matematika']"
      ]
    },
    {
      "cell_type": "code",
      "execution_count": null,
      "metadata": {
        "id": "McAEBHygSfgL"
      },
      "outputs": [],
      "source": []
    }
  ],
  "metadata": {
    "kernelspec": {
      "display_name": "Python 3 (ipykernel)",
      "language": "python",
      "name": "python3"
    },
    "language_info": {
      "codemirror_mode": {
        "name": "ipython",
        "version": 3
      },
      "file_extension": ".py",
      "mimetype": "text/x-python",
      "name": "python",
      "nbconvert_exporter": "python",
      "pygments_lexer": "ipython3",
      "version": "3.9.12"
    },
    "colab": {
      "provenance": [],
      "toc_visible": true,
      "include_colab_link": true
    }
  },
  "nbformat": 4,
  "nbformat_minor": 0
}